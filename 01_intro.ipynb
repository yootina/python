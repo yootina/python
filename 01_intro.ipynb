{
 "cells": [
  {
   "cell_type": "markdown",
   "id": "6608cc63-f2ed-455d-b741-be290ed9ec58",
   "metadata": {},
   "source": [
    "# 01.intro"
   ]
  },
  {
   "cell_type": "markdown",
   "id": "af6b135f-8368-4b7e-a2f3-9b1110b7864c",
   "metadata": {},
   "source": [
    "## 단축키 \n",
    "\n",
    "- ctrl + enter : 지금 셀 실행\n",
    "- shift + enter : 지금 셀 실행 & 아래로 이동\n",
    "- alt + enter : 지금 셀 실행 & 아래에 새로운 셀 추가"
   ]
  },
  {
   "cell_type": "code",
   "execution_count": null,
   "id": "ad5996d2-54cf-4ea9-9647-78aef2a36ec7",
   "metadata": {},
   "outputs": [],
   "source": [
    "# 주석입니다. (파이썬코드내에서 주석달기)"
   ]
  },
  {
   "cell_type": "markdown",
   "id": "11bc6975-bb4d-4e3f-8168-447cbe756b91",
   "metadata": {},
   "source": [
    "## 1. 변수\n",
    "\n",
    "변수이름 '=' 값\n",
    "\n",
    "- 변수이름은 어떤 이름이든 상관 없음\n",
    "- 영어, 숫자, '_'를 이용하여 선언\n",
    "- 키워드는 사용불가"
   ]
  },
  {
   "cell_type": "code",
   "execution_count": null,
   "id": "282dd4b8-b376-4a40-b3c3-c5673779a5bb",
   "metadata": {},
   "outputs": [],
   "source": [
    "a = 10"
   ]
  },
  {
   "cell_type": "code",
   "execution_count": null,
   "id": "a3bc14ce-10bf-4c1e-8ffa-c388fd5218a1",
   "metadata": {},
   "outputs": [],
   "source": [
    "a"
   ]
  },
  {
   "cell_type": "code",
   "execution_count": null,
   "id": "a243375e-314b-40c0-9d82-5e9aed326dc7",
   "metadata": {},
   "outputs": [],
   "source": [
    "a = 11"
   ]
  },
  {
   "cell_type": "markdown",
   "id": "7644d983-556c-443a-92e1-99946fa4327e",
   "metadata": {},
   "source": [
    "> 코드를 실행하려면 항상 전에 무슨 코드를 실행했는지 확인하기"
   ]
  },
  {
   "cell_type": "code",
   "execution_count": null,
   "id": "39fc3e37-6d27-4a74-8a9c-8cd3b80ef513",
   "metadata": {},
   "outputs": [],
   "source": [
    "import keyword\n",
    "keyword.kwlist"
   ]
  },
  {
   "cell_type": "markdown",
   "id": "fe3d6f7f-28f4-47f3-b83d-3dfa86076852",
   "metadata": {},
   "source": [
    "### 1.1 number"
   ]
  },
  {
   "cell_type": "code",
   "execution_count": null,
   "id": "860d50ee-2606-4450-abda-cb5e4765f2a8",
   "metadata": {},
   "outputs": [],
   "source": [
    "a =  9999"
   ]
  },
  {
   "cell_type": "code",
   "execution_count": null,
   "id": "d5d21297-4f0d-46e0-8009-074cd9c76e2c",
   "metadata": {},
   "outputs": [],
   "source": [
    "a"
   ]
  },
  {
   "cell_type": "code",
   "execution_count": null,
   "id": "db59183f-407c-4336-b0cc-7b13adc6bd6a",
   "metadata": {},
   "outputs": [],
   "source": [
    "type(a)"
   ]
  },
  {
   "cell_type": "code",
   "execution_count": null,
   "id": "ab8417e7-9da4-419e-ab9f-8097e9310711",
   "metadata": {},
   "outputs": [],
   "source": [
    "b = 1.1"
   ]
  },
  {
   "cell_type": "code",
   "execution_count": null,
   "id": "bfe1f50e-63f7-45b0-9449-779056f65dbd",
   "metadata": {},
   "outputs": [],
   "source": [
    "b"
   ]
  },
  {
   "cell_type": "code",
   "execution_count": null,
   "id": "0da1cc97-0b2b-40bd-8f7d-8d21c5f6d72a",
   "metadata": {},
   "outputs": [],
   "source": [
    "type(b)"
   ]
  },
  {
   "cell_type": "code",
   "execution_count": null,
   "id": "e4c8bda3-8f6f-47df-8df6-373dbb2e334e",
   "metadata": {},
   "outputs": [],
   "source": [
    "c = 1 - 4j"
   ]
  },
  {
   "cell_type": "code",
   "execution_count": null,
   "id": "2a4a82e3-0ece-4ac6-b1d8-7748e90c1461",
   "metadata": {},
   "outputs": [],
   "source": [
    "c"
   ]
  },
  {
   "cell_type": "code",
   "execution_count": null,
   "id": "f09c2c04-0546-467b-8e72-7d64f4c517c4",
   "metadata": {},
   "outputs": [],
   "source": [
    "type(c)"
   ]
  },
  {
   "cell_type": "code",
   "execution_count": null,
   "id": "d78a238e-2e0d-4ce5-a5a5-102084349df3",
   "metadata": {},
   "outputs": [],
   "source": [
    "c.imag"
   ]
  },
  {
   "cell_type": "code",
   "execution_count": null,
   "id": "f610e4e5-a944-4d38-8051-16ed2a860bd3",
   "metadata": {},
   "outputs": [],
   "source": [
    "c.real"
   ]
  },
  {
   "cell_type": "markdown",
   "id": "c3022bb3-d788-4296-b679-ccd201089097",
   "metadata": {},
   "source": [
    "### 1.2 Boolean\n",
    "- `True`,`False` 로 이루어진 타입"
   ]
  },
  {
   "cell_type": "code",
   "execution_count": null,
   "id": "b9ac5509-55d3-4368-ad20-b1dd8925a24f",
   "metadata": {},
   "outputs": [],
   "source": [
    "a = True"
   ]
  },
  {
   "cell_type": "code",
   "execution_count": null,
   "id": "5f5c073a-da21-4b13-b326-d1101f70b7e0",
   "metadata": {},
   "outputs": [],
   "source": [
    "type(a)"
   ]
  },
  {
   "cell_type": "markdown",
   "id": "7b371c82-2751-4fcb-897d-9b3673b4b4e3",
   "metadata": {},
   "source": [
    "### 1.3 None\n",
    "데이터가 없음을 의미"
   ]
  },
  {
   "cell_type": "code",
   "execution_count": null,
   "id": "e78246d8-1147-486a-8843-577b121aa97a",
   "metadata": {},
   "outputs": [],
   "source": [
    "a = None"
   ]
  },
  {
   "cell_type": "code",
   "execution_count": null,
   "id": "aeba1914-f08e-4d6f-a0b4-65983c728ddc",
   "metadata": {},
   "outputs": [],
   "source": [
    "type(a)"
   ]
  },
  {
   "cell_type": "markdown",
   "id": "cc380109-8888-4e8c-b61f-9aa0c2df7e6e",
   "metadata": {},
   "source": [
    "> 아무것도 없음을 나타냄. (데이터 자체가 비어있음)"
   ]
  },
  {
   "cell_type": "markdown",
   "id": "d18b8aa7-b480-4d25-8748-2a6e86897022",
   "metadata": {},
   "source": [
    "### 1.4 String\n",
    "- 문자열은 `'`,`\"`를 이용하여 표현"
   ]
  },
  {
   "cell_type": "code",
   "execution_count": null,
   "id": "4bbe1944-adaf-4dfe-8262-a2dca031a9c6",
   "metadata": {},
   "outputs": [],
   "source": [
    "a = 'hello'"
   ]
  },
  {
   "cell_type": "code",
   "execution_count": null,
   "id": "2329a3af-4b01-40a6-ad5d-4a62d00e71d2",
   "metadata": {},
   "outputs": [],
   "source": [
    "type(a)"
   ]
  },
  {
   "cell_type": "code",
   "execution_count": null,
   "id": "c9cc55bd-3f86-4cd1-b0f4-182182bf723e",
   "metadata": {},
   "outputs": [],
   "source": [
    "b = \"world\""
   ]
  },
  {
   "cell_type": "code",
   "execution_count": null,
   "id": "216feeae-76a6-4f90-9832-bc457fd0bfaf",
   "metadata": {},
   "outputs": [],
   "source": [
    "type(b)"
   ]
  },
  {
   "cell_type": "code",
   "execution_count": null,
   "id": "8161400d-a509-4cb2-b88f-cb54892ccdb7",
   "metadata": {},
   "outputs": [],
   "source": [
    "age = input()"
   ]
  },
  {
   "cell_type": "code",
   "execution_count": null,
   "id": "f361d084-9f3f-4fed-af19-c83116f66c3f",
   "metadata": {},
   "outputs": [],
   "source": [
    "age"
   ]
  },
  {
   "cell_type": "code",
   "execution_count": null,
   "id": "b3ea5c22-5362-4b3e-b9cb-58398d8e6239",
   "metadata": {},
   "outputs": [],
   "source": [
    "type(age)"
   ]
  },
  {
   "cell_type": "code",
   "execution_count": null,
   "id": "067b6fa0-bf1e-4ea9-8abc-23c4ec1ef72a",
   "metadata": {},
   "outputs": [],
   "source": [
    "print('안녕하세요, '유가영'입니다.')"
   ]
  },
  {
   "cell_type": "code",
   "execution_count": null,
   "id": "1de5c81f-b049-4a9c-b69f-f743117b2997",
   "metadata": {},
   "outputs": [],
   "source": [
    "print(\"안녕하세요? '유가영'입니다.\")"
   ]
  },
  {
   "cell_type": "code",
   "execution_count": null,
   "id": "fecef977-b1d6-4250-9f72-5590113d4c3e",
   "metadata": {},
   "outputs": [],
   "source": [
    "print('안녕하세요 \\'유가영\\'입니다.') #escape문"
   ]
  },
  {
   "cell_type": "code",
   "execution_count": null,
   "id": "4f60759d-fee0-43e0-85b6-791c8828a6a1",
   "metadata": {},
   "outputs": [],
   "source": [
    "a = '''\n",
    "여기는 문자열 입니다.\n",
    "여러줄을 작성할 수 있어요.\n",
    "'''"
   ]
  },
  {
   "cell_type": "code",
   "execution_count": null,
   "id": "cd157b2c-b6a6-495b-bccb-64f9d27d6a10",
   "metadata": {},
   "outputs": [],
   "source": [
    "a"
   ]
  },
  {
   "cell_type": "code",
   "execution_count": null,
   "id": "9cc39da8-e35d-4ee5-8232-84dfe7f060c8",
   "metadata": {},
   "outputs": [],
   "source": [
    "a = '''\n",
    "여기는 \\n문자열 입니다.\n",
    "여러\\t줄을 작성할 수 있어요.\n",
    "'''"
   ]
  },
  {
   "cell_type": "code",
   "execution_count": null,
   "id": "519cb9dc-16a7-41ac-8292-dffb45fd3af0",
   "metadata": {},
   "outputs": [],
   "source": [
    "print(a)"
   ]
  },
  {
   "cell_type": "code",
   "execution_count": null,
   "id": "43b22fe7-48ad-47aa-91ce-55bb3cab304c",
   "metadata": {},
   "outputs": [],
   "source": [
    "print('하나','둘','셋') #input은 표준입력 print는 표준출력 print는 여러개의 데이터를 받아서 묶어준다."
   ]
  },
  {
   "cell_type": "markdown",
   "id": "b9afc66c-8efe-4419-b630-4d48e4d9e7f1",
   "metadata": {},
   "source": [
    "#### string interpolation\n",
    "1. %-fomatting\n",
    "2. str.format()\n",
    "3. f-string (python 3.6버전이후 최신문법)"
   ]
  },
  {
   "cell_type": "code",
   "execution_count": null,
   "id": "c8aefccf-ab0d-4cbf-82b9-4354b8669fad",
   "metadata": {},
   "outputs": [],
   "source": [
    "age = 100"
   ]
  },
  {
   "cell_type": "code",
   "execution_count": null,
   "id": "ba583b47-37f2-4ff4-a9cb-22ccf6371870",
   "metadata": {},
   "outputs": [],
   "source": [
    "print('홍길동은 10살입니다.')"
   ]
  },
  {
   "cell_type": "code",
   "execution_count": null,
   "id": "406804e6-78d5-491c-aa9d-94329c45b6f3",
   "metadata": {},
   "outputs": [],
   "source": [
    "print('홍길동은 %s살입니다.' % age)"
   ]
  },
  {
   "cell_type": "code",
   "execution_count": null,
   "id": "c517f1da-2536-4df4-8037-20f62c882ee4",
   "metadata": {},
   "outputs": [],
   "source": [
    "print('홍길동은 {}살입니다.'.format(age))"
   ]
  },
  {
   "cell_type": "code",
   "execution_count": null,
   "id": "bb8cb89c-e5d4-4c65-9674-45ff2b0a2828",
   "metadata": {},
   "outputs": [],
   "source": [
    "print(f'홍길동은 {age}살입니다.')"
   ]
  },
  {
   "cell_type": "markdown",
   "id": "1ee6a88b-892f-4ca5-83b5-3347554fbf2f",
   "metadata": {},
   "source": [
    "# 2. 연산자\n",
    "## 2.1 산술연산자"
   ]
  },
  {
   "cell_type": "code",
   "execution_count": 3,
   "id": "1ebc4d71-ef92-4cb4-a05f-a7e130b1ac0d",
   "metadata": {},
   "outputs": [],
   "source": [
    "a = 2\n",
    "b = 3"
   ]
  },
  {
   "cell_type": "code",
   "execution_count": 5,
   "id": "3ce52e79-cd36-41d2-8e70-f9172467c6bb",
   "metadata": {},
   "outputs": [
    {
     "name": "stdout",
     "output_type": "stream",
     "text": [
      "5\n",
      "-1\n",
      "6\n",
      "0.6666666666666666\n"
     ]
    }
   ],
   "source": [
    "print(a + b)\n",
    "print(a - b)\n",
    "print(a * b)\n",
    "print(a / b)\n",
    "# print문을 사용하는 이유는 주피터노트북이 가진 특성때문에 기본적으로 맨마지막에 있는 아웃풋을 출력해주기 때문에 print문을 사용."
   ]
  },
  {
   "cell_type": "code",
   "execution_count": 6,
   "id": "27fa98f9-b093-4915-bd08-d800174da894",
   "metadata": {},
   "outputs": [],
   "source": [
    "a = 2\n",
    "b = 3"
   ]
  },
  {
   "cell_type": "code",
   "execution_count": 7,
   "id": "67f2488c-5bd9-415c-9c7c-a9b65bb70550",
   "metadata": {},
   "outputs": [
    {
     "name": "stdout",
     "output_type": "stream",
     "text": [
      "5\n"
     ]
    }
   ],
   "source": [
    "print(a + b)"
   ]
  },
  {
   "cell_type": "code",
   "execution_count": 8,
   "id": "0422179e-0413-4d80-9360-8e8c6c4cb560",
   "metadata": {},
   "outputs": [
    {
     "name": "stdout",
     "output_type": "stream",
     "text": [
      "-1\n"
     ]
    }
   ],
   "source": [
    "print(a - b)"
   ]
  },
  {
   "cell_type": "code",
   "execution_count": 9,
   "id": "928a26d9-c54d-4470-829e-f06a6a8c73b1",
   "metadata": {},
   "outputs": [
    {
     "name": "stdout",
     "output_type": "stream",
     "text": [
      "6\n"
     ]
    }
   ],
   "source": [
    "print(a * b)"
   ]
  },
  {
   "cell_type": "code",
   "execution_count": 11,
   "id": "acbe13f4-ab78-4dcc-b776-589957d6a868",
   "metadata": {},
   "outputs": [
    {
     "name": "stdout",
     "output_type": "stream",
     "text": [
      "0.6666666666666666\n"
     ]
    }
   ],
   "source": [
    "print(a / b)"
   ]
  },
  {
   "cell_type": "code",
   "execution_count": 13,
   "id": "e52f1fff-cff8-40a3-b9e6-f4ad7dadf110",
   "metadata": {},
   "outputs": [
    {
     "name": "stdout",
     "output_type": "stream",
     "text": [
      "8\n"
     ]
    }
   ],
   "source": [
    "print(a ** b)"
   ]
  },
  {
   "cell_type": "code",
   "execution_count": 14,
   "id": "a7475114-4a6d-481c-bd95-7578d09ee847",
   "metadata": {},
   "outputs": [
    {
     "name": "stdout",
     "output_type": "stream",
     "text": [
      "0\n"
     ]
    }
   ],
   "source": [
    "print(a // b)"
   ]
  },
  {
   "cell_type": "code",
   "execution_count": 15,
   "id": "e388b8a0-518c-4423-ad11-6454c96cc188",
   "metadata": {},
   "outputs": [
    {
     "name": "stdout",
     "output_type": "stream",
     "text": [
      "2\n"
     ]
    }
   ],
   "source": [
    "print(a % b)"
   ]
  },
  {
   "cell_type": "code",
   "execution_count": null,
   "id": "ac9888e1-a24f-4fad-9a73-a79cf5592a02",
   "metadata": {},
   "outputs": [],
   "source": [
    "a + b\n",
    "a - b"
   ]
  },
  {
   "cell_type": "code",
   "execution_count": null,
   "id": "16af472c-006f-420f-98bf-d4befb20c6ec",
   "metadata": {},
   "outputs": [],
   "source": [
    "print(a ** b)\n",
    "# a를 b만큼 곱해주세요"
   ]
  },
  {
   "cell_type": "code",
   "execution_count": null,
   "id": "74966ead-f02d-4dd1-b3e6-c0694f7a870d",
   "metadata": {},
   "outputs": [],
   "source": [
    "print(a // b)\n",
    "# a를 b로 나눈 몫\n",
    "print(a % b)\n",
    "# a를 b로 나눈 나머지\n",
    "\n",
    "print(divmod(a, b))\n",
    "# mod"
   ]
  },
  {
   "cell_type": "markdown",
   "id": "5a34465d-6303-4d51-8718-faa00713a842",
   "metadata": {},
   "source": [
    "## 2.2 비교연산자"
   ]
  },
  {
   "cell_type": "code",
   "execution_count": null,
   "id": "fb8e368d-069b-42f5-a03a-8f7e3b09dcfc",
   "metadata": {},
   "outputs": [],
   "source": [
    "a = 5\n",
    "b = 5"
   ]
  },
  {
   "cell_type": "code",
   "execution_count": null,
   "id": "809a1b3a-60b8-491a-9e29-b8dce206ba2e",
   "metadata": {},
   "outputs": [],
   "source": [
    "print(a > b)\n",
    "# a보다 b가 크나요? 라고 질문하는것.\n",
    "print(a < b)\n",
    "# a보다 b가 작나요? 라고 질문하는것.\n",
    "print(a >= b)\n",
    "print(a <= b)"
   ]
  },
  {
   "cell_type": "code",
   "execution_count": null,
   "id": "90ec4c2c-435f-46cf-8a18-cf3e5b28b204",
   "metadata": {},
   "outputs": [],
   "source": [
    "print(a == b)\n",
    "# a와 b가 같나요?\n",
    "print(a != b)\n",
    "# a와 b가 다르나요?"
   ]
  },
  {
   "cell_type": "code",
   "execution_count": null,
   "id": "2bfe78d9-8364-4971-a235-66cb7ad62e2a",
   "metadata": {},
   "outputs": [],
   "source": [
    "print('hi' == 'hi')\n",
    "#글자도 질문할 수 있음\n",
    "print('Hi' == 'hi')"
   ]
  },
  {
   "cell_type": "markdown",
   "id": "9ea314eb-ff75-43af-b170-62a55a09cbd1",
   "metadata": {},
   "source": [
    "## 2.3 논리연산자\n",
    "- `and` : 양쪽 모두 `True`일 때 `True`를 반환\n",
    "- oe : 양쪽 모두 false일때 false를 반환\n",
    "- not :값을 반대로 전환"
   ]
  },
  {
   "cell_type": "code",
   "execution_count": null,
   "id": "c541ebd1-8a33-485c-a806-95f704f32ed8",
   "metadata": {},
   "outputs": [],
   "source": [
    "print(True and True) # 둘다 True\n",
    "print(True and False) # ??\n",
    "print(False and True)\n",
    "print(False and False)"
   ]
  },
  {
   "cell_type": "code",
   "execution_count": null,
   "id": "5b9c1742-e839-4732-b767-67a97842aed2",
   "metadata": {},
   "outputs": [],
   "source": [
    "print(True or True) #둘중에 하나라도\n",
    "print(True or False)\n",
    "print(False or True)\n",
    "print(False or False)"
   ]
  },
  {
   "cell_type": "code",
   "execution_count": null,
   "id": "5d4cd880-28bf-45ed-a0e2-83ab0bc87a00",
   "metadata": {},
   "outputs": [],
   "source": [
    "print(True)\n",
    "print(not True)\n",
    "\n",
    "a = True\n",
    "print(not a)"
   ]
  },
  {
   "cell_type": "code",
   "execution_count": null,
   "id": "f44e53f1-5929-4628-96c6-3abbc9734578",
   "metadata": {},
   "outputs": [],
   "source": [
    "# 단축평가(and)\n",
    "print(3 and 5)\n",
    "print(3 and 0)\n",
    "print(0 and 5)\n",
    "print(0 and 0)\n",
    "# 기본적으로 컴퓨터는 0이라는 데이터는 전기신호가 흐르지않음(False) 1이라는 데이터는 전기신호가 흐름(True) 2,3,4 데이터는 True라고 생각해도 됌. \n",
    "# 5가 출력이 되었는데 앤드는 양쪽모두 트루일때 트루를 출력한다고했는데 앞데이터가 폴스이면 단축평가로 false표시함."
   ]
  },
  {
   "cell_type": "code",
   "execution_count": null,
   "id": "e0304efd-d68e-447d-885b-c6ee543b998b",
   "metadata": {},
   "outputs": [],
   "source": [
    "# 단축평가(or)\n",
    "print(3 or 5)\n",
    "print(3 or 0)\n",
    "print(0 or 5)\n",
    "print(0 or 0)\n",
    "# false 명령어는 양쪽 다 false일 경우에만 false가 출력됌\n",
    "# 앞에있는게 True면 뒤에있는 결과가 중요하지 않음."
   ]
  },
  {
   "cell_type": "code",
   "execution_count": null,
   "id": "118dd50e-8cc8-4507-95f9-d37b16fafaf2",
   "metadata": {},
   "outputs": [],
   "source": [
    "print(None or 'index.html')"
   ]
  },
  {
   "cell_type": "code",
   "execution_count": null,
   "id": "5e489544-d04d-44c4-965d-bc1c34863fc4",
   "metadata": {},
   "outputs": [],
   "source": [
    "print('login.html' or 'index.html')"
   ]
  },
  {
   "cell_type": "markdown",
   "id": "592f6987-27df-4188-8486-3674bd021ff0",
   "metadata": {},
   "source": [
    "### 2.4 복합연산자"
   ]
  },
  {
   "cell_type": "code",
   "execution_count": null,
   "id": "a6a67210-afb6-4917-a25d-7622b49310ae",
   "metadata": {},
   "outputs": [],
   "source": [
    "a = 2\n",
    "b = 3"
   ]
  },
  {
   "cell_type": "code",
   "execution_count": null,
   "id": "4bd22c2b-ebd6-4c54-84fd-f29a2a538dd8",
   "metadata": {},
   "outputs": [],
   "source": [
    "a = a + b\n",
    "a = a - b\n",
    "a = a * b\n",
    "a = a / b\n",
    "a = a // b\n",
    "a = a % b\n",
    "a = a ** b"
   ]
  },
  {
   "cell_type": "code",
   "execution_count": null,
   "id": "52aa9314-caf9-4501-b655-c0a152894334",
   "metadata": {},
   "outputs": [],
   "source": [
    "print(a)"
   ]
  },
  {
   "cell_type": "code",
   "execution_count": null,
   "id": "84352004-cb54-464b-b693-5d2ff861c79a",
   "metadata": {},
   "outputs": [],
   "source": [
    "a += b\n",
    "a -= b\n",
    "a *= b\n",
    "a /= b\n",
    "a //= b\n",
    "a %= b\n",
    "a **= b\n",
    "print(a)"
   ]
  },
  {
   "cell_type": "markdown",
   "id": "c9cf0672-99c7-44b9-910c-0b99bf2eb5ff",
   "metadata": {},
   "source": [
    "### 2.4 기타연산자"
   ]
  },
  {
   "cell_type": "code",
   "execution_count": null,
   "id": "37a44068-512c-4ff5-9773-2903523dfc93",
   "metadata": {},
   "outputs": [],
   "source": [
    "a = 'hi'\n",
    "b = 'hello'"
   ]
  },
  {
   "cell_type": "code",
   "execution_count": null,
   "id": "90244083-db74-43d4-9fa0-229ee9ae1f20",
   "metadata": {},
   "outputs": [],
   "source": [
    "a + b\n",
    "# concatenation\n",
    "# 글자를 더할수도 있음.\n",
    "# 글자를 + 기호로 더하게되면 서로 이어서 출력 "
   ]
  },
  {
   "cell_type": "code",
   "execution_count": 11,
   "id": "57cac5bc-3664-4451-b6b1-98cec6deafe5",
   "metadata": {},
   "outputs": [],
   "source": [
    "a = [1, 2, 3]\n",
    "b = [5, 6, 7]"
   ]
  },
  {
   "cell_type": "code",
   "execution_count": 12,
   "id": "91798343-632e-4ab5-9328-4c1b06cd016a",
   "metadata": {},
   "outputs": [
    {
     "data": {
      "text/plain": [
       "[1, 2, 3, 5, 6, 7]"
      ]
     },
     "execution_count": 12,
     "metadata": {},
     "output_type": "execute_result"
    }
   ],
   "source": [
    "a + b"
   ]
  },
  {
   "cell_type": "code",
   "execution_count": 6,
   "id": "47573efb-6e05-4158-ab1d-465703a1c557",
   "metadata": {},
   "outputs": [
    {
     "name": "stdout",
     "output_type": "stream",
     "text": [
      "True\n",
      "False\n"
     ]
    }
   ],
   "source": [
    "#containment\n",
    "print('a' in 'apple')\n",
    "print('z' in 'apple')"
   ]
  },
  {
   "cell_type": "code",
   "execution_count": 7,
   "id": "084ffba5-ad82-40ad-9f2f-e417cd1baee5",
   "metadata": {},
   "outputs": [
    {
     "name": "stdout",
     "output_type": "stream",
     "text": [
      "True\n",
      "False\n"
     ]
    }
   ],
   "source": [
    "print(1 in [1, 2, 3])\n",
    "print(100 in [1, 2, 3])"
   ]
  },
  {
   "cell_type": "code",
   "execution_count": 8,
   "id": "12f65a97-7dc4-438e-9ecb-853421c60625",
   "metadata": {},
   "outputs": [
    {
     "name": "stdout",
     "output_type": "stream",
     "text": [
      "False\n"
     ]
    }
   ],
   "source": [
    "a = 123123\n",
    "b = 123123\n",
    "print(a is b) # a는 b인가요?"
   ]
  },
  {
   "cell_type": "code",
   "execution_count": 9,
   "id": "49549ca6-c05a-4f59-ad58-f3e1af2d524a",
   "metadata": {},
   "outputs": [
    {
     "name": "stdout",
     "output_type": "stream",
     "text": [
      "True\n"
     ]
    }
   ],
   "source": [
    "a = 10\n",
    "b = 10\n",
    "print(a is b)"
   ]
  },
  {
   "cell_type": "code",
   "execution_count": 16,
   "id": "bc3d9092-17a9-47a5-8186-632043f8b573",
   "metadata": {},
   "outputs": [],
   "source": [
    "# is는 양쪽에 있는 데이터가 같냐긴보단 위치가 같냐고 물어보는것 (???)\n",
    "# "
   ]
  },
  {
   "cell_type": "markdown",
   "id": "9824d91b-47f3-4daa-8a09-115ffdd98929",
   "metadata": {},
   "source": [
    "#### 연산자 우선순위\n",
    "\n",
    "0. ()를 통해 그룹\n",
    "1. **\n",
    "2. 산술연산자(*, /)\n",
    "3. 산술연산자(+,-)\n",
    "4. 비교연산자, ㅑㄴ, ㅑㅜ\n",
    "5. not\n",
    "6. and, or"
   ]
  },
  {
   "cell_type": "code",
   "execution_count": 15,
   "id": "b349d3b4-03de-4a83-95cf-eba40223188e",
   "metadata": {},
   "outputs": [
    {
     "name": "stdout",
     "output_type": "stream",
     "text": [
      "81\n",
      "-81\n"
     ]
    }
   ],
   "source": [
    "print((-3) ** 4)\n",
    "print(-3 ** 4)ddddddd"
   ]
  },
  {
   "cell_type": "markdown",
   "id": "2b023948-f03f-48d0-9a40-f2164f31df3c",
   "metadata": {},
   "source": [
    "# 3. 형변환"
   ]
  },
  {
   "cell_type": "markdown",
   "id": "c9d8244e-571f-4f39-a555-c750db94b87a",
   "metadata": {},
   "source": [
    "## 3.1 암시적 형변환"
   ]
  },
  {
   "cell_type": "code",
   "execution_count": 18,
   "id": "0cd8e20f-0311-4924-9d9d-87207ecc2a8d",
   "metadata": {},
   "outputs": [],
   "source": [
    "a = True\n",
    "b = False\n",
    "c = 1\n",
    "# 불리언형태는 각각 1과 0으로 나타내어짐."
   ]
  },
  {
   "cell_type": "code",
   "execution_count": 19,
   "id": "01960bbc-2523-4a72-91d6-8b4be45d417c",
   "metadata": {},
   "outputs": [
    {
     "name": "stdout",
     "output_type": "stream",
     "text": [
      "2\n",
      "1\n"
     ]
    }
   ],
   "source": [
    "print(a + c)\n",
    "print(b + c)"
   ]
  },
  {
   "cell_type": "code",
   "execution_count": 20,
   "id": "adbd317e-cd0d-4b98-93ae-7f4a6f28b43a",
   "metadata": {},
   "outputs": [],
   "source": [
    "int_num = 3\n",
    "float_num = 3.3\n",
    "complex_num = 3 + 3j"
   ]
  },
  {
   "cell_type": "code",
   "execution_count": 21,
   "id": "b6d5e85a-8c17-4e5d-a0e5-fe235403213f",
   "metadata": {},
   "outputs": [
    {
     "name": "stdout",
     "output_type": "stream",
     "text": [
      "6.3\n",
      "(6+3j)\n"
     ]
    }
   ],
   "source": [
    "print(int_num + float_num)\n",
    "print(int_num + complex_num)"
   ]
  },
  {
   "cell_type": "markdown",
   "id": "b720d649-7b31-4302-9f59-bed4033d8417",
   "metadata": {},
   "source": [
    "## 3.2 명시적 형변환"
   ]
  },
  {
   "cell_type": "code",
   "execution_count": 23,
   "id": "4d018ed3-8d58-43cc-9c7f-d5a4ca3f563c",
   "metadata": {},
   "outputs": [],
   "source": [
    "a = 1\n",
    "b = '번'"
   ]
  },
  {
   "cell_type": "code",
   "execution_count": 24,
   "id": "d78e9c67-54b1-442b-b5ef-2b44830c07fa",
   "metadata": {},
   "outputs": [
    {
     "ename": "TypeError",
     "evalue": "unsupported operand type(s) for +: 'int' and 'str'",
     "output_type": "error",
     "traceback": [
      "\u001b[1;31m---------------------------------------------------------------------------\u001b[0m",
      "\u001b[1;31mTypeError\u001b[0m                                 Traceback (most recent call last)",
      "Cell \u001b[1;32mIn[24], line 1\u001b[0m\n\u001b[1;32m----> 1\u001b[0m \u001b[43ma\u001b[49m\u001b[43m \u001b[49m\u001b[38;5;241;43m+\u001b[39;49m\u001b[43m \u001b[49m\u001b[43mb\u001b[49m\n",
      "\u001b[1;31mTypeError\u001b[0m: unsupported operand type(s) for +: 'int' and 'str'"
     ]
    }
   ],
   "source": [
    "a + b"
   ]
  },
  {
   "cell_type": "code",
   "execution_count": 27,
   "id": "bcf96d43-104f-4da3-9d05-890541a97b06",
   "metadata": {},
   "outputs": [
    {
     "name": "stdout",
     "output_type": "stream",
     "text": [
      "1번\n"
     ]
    }
   ],
   "source": [
    "print(str(a) + b)\n",
    "# 숫자를 글자로 변환할 때"
   ]
  },
  {
   "cell_type": "code",
   "execution_count": 28,
   "id": "0574a15c-35ce-4414-9def-ffe548bf7e0f",
   "metadata": {},
   "outputs": [],
   "source": [
    "a = '100'"
   ]
  },
  {
   "cell_type": "code",
   "execution_count": 30,
   "id": "25dd7180-b909-4478-ae94-ea842a271e00",
   "metadata": {},
   "outputs": [
    {
     "name": "stdout",
     "output_type": "stream",
     "text": [
      "<class 'int'>\n"
     ]
    }
   ],
   "source": [
    "print(type(int(a)))"
   ]
  },
  {
   "cell_type": "code",
   "execution_count": 35,
   "id": "ec479969-10ea-459f-b965-6140aa9d9f9a",
   "metadata": {},
   "outputs": [
    {
     "name": "stdin",
     "output_type": "stream",
     "text": [
      " 123\n"
     ]
    },
    {
     "name": "stdout",
     "output_type": "stream",
     "text": [
      "<class 'int'>\n"
     ]
    }
   ],
   "source": [
    "age = int(input())\n",
    "print(type(age))\n",
    "# input형태의 결과를 가져와야된다면 글자형태로 되기 떄문에 숫자형태로 불러와야된다면 int쓰기"
   ]
  },
  {
   "cell_type": "code",
   "execution_count": 36,
   "id": "a181366d-0227-4f49-bb07-d65dbf9aed29",
   "metadata": {},
   "outputs": [],
   "source": [
    "a = '3.3'"
   ]
  },
  {
   "cell_type": "code",
   "execution_count": 37,
   "id": "e7b926b7-2108-442c-ae5f-e42a71953d33",
   "metadata": {},
   "outputs": [
    {
     "ename": "ValueError",
     "evalue": "invalid literal for int() with base 10: '3.3'",
     "output_type": "error",
     "traceback": [
      "\u001b[1;31m---------------------------------------------------------------------------\u001b[0m",
      "\u001b[1;31mValueError\u001b[0m                                Traceback (most recent call last)",
      "Cell \u001b[1;32mIn[37], line 1\u001b[0m\n\u001b[1;32m----> 1\u001b[0m \u001b[38;5;28mtype\u001b[39m(\u001b[38;5;28;43mint\u001b[39;49m\u001b[43m(\u001b[49m\u001b[43ma\u001b[49m\u001b[43m)\u001b[49m)\n",
      "\u001b[1;31mValueError\u001b[0m: invalid literal for int() with base 10: '3.3'"
     ]
    }
   ],
   "source": [
    "type(int(a))"
   ]
  },
  {
   "cell_type": "code",
   "execution_count": 38,
   "id": "05cf9a69-ce70-4a59-8fda-3ecba24fa595",
   "metadata": {},
   "outputs": [
    {
     "data": {
      "text/plain": [
       "float"
      ]
     },
     "execution_count": 38,
     "metadata": {},
     "output_type": "execute_result"
    }
   ],
   "source": [
    "type(float(a))"
   ]
  },
  {
   "cell_type": "markdown",
   "id": "0fc042de-11d8-4b18-9bce-c8d5b0c03ad9",
   "metadata": {},
   "source": [
    "> 숫자들간의 변환"
   ]
  },
  {
   "cell_type": "code",
   "execution_count": 39,
   "id": "86b51375-3964-47c9-9a34-664d5e66ee27",
   "metadata": {},
   "outputs": [],
   "source": [
    "a = 1\n",
    "b = 0\n",
    "c = 100"
   ]
  },
  {
   "cell_type": "code",
   "execution_count": 40,
   "id": "3b0c08b4-2648-4406-a932-5763428c8ce5",
   "metadata": {},
   "outputs": [
    {
     "name": "stdout",
     "output_type": "stream",
     "text": [
      "True\n",
      "False\n",
      "True\n"
     ]
    }
   ],
   "source": [
    "print(bool(a))\n",
    "print(bool(b))\n",
    "print(bool(c))"
   ]
  },
  {
   "cell_type": "code",
   "execution_count": 41,
   "id": "ed69b191-72a9-483d-a99f-3a54fc51ba4f",
   "metadata": {},
   "outputs": [],
   "source": [
    "#불리언으로 쓸 수 있는 타입은 숫자말고도 여러가지가 가능"
   ]
  },
  {
   "cell_type": "code",
   "execution_count": 42,
   "id": "dcbe2cf6-fa9c-4606-8544-867f2721d764",
   "metadata": {},
   "outputs": [
    {
     "name": "stdout",
     "output_type": "stream",
     "text": [
      "False\n",
      "True\n"
     ]
    }
   ],
   "source": [
    "print(bool(''))\n",
    "print(bool('a'))"
   ]
  },
  {
   "cell_type": "code",
   "execution_count": 44,
   "id": "3da6d30b-5609-4b49-ae45-96e9492dd024",
   "metadata": {},
   "outputs": [
    {
     "name": "stdout",
     "output_type": "stream",
     "text": [
      "False\n",
      "True\n"
     ]
    }
   ],
   "source": [
    "print(bool([]))\n",
    "print(bool([1, 2, 3]))"
   ]
  },
  {
   "cell_type": "markdown",
   "id": "056edcb8-832f-4693-95f8-21b9b3ea8219",
   "metadata": {},
   "source": [
    "> 문자들간의 변환"
   ]
  },
  {
   "cell_type": "markdown",
   "id": "fe9edad6-0122-45ac-ac9d-d1709c834f96",
   "metadata": {},
   "source": [
    "# 4. 시퀀스(sequence) 자료형\n",
    "- 여러가지 데이터들의 묶음\n",
    "- 시퀀스는 데이터의 순서대로 나열된 자료구조 (순서대로 나열되어있다는 것은 정렬된것과는 다르다.)\n",
    "\n",
    "1. 리스트(list)\n",
    "2. 튜플(tuple)\n",
    "3. 레인지(range)\n",
    "4. 문자열(string)"
   ]
  },
  {
   "cell_type": "code",
   "execution_count": null,
   "id": "0e846ef1-a1b4-40d2-9681-4f5ee8970ee2",
   "metadata": {},
   "outputs": [],
   "source": []
  },
  {
   "cell_type": "markdown",
   "id": "d20a56cc-e6d6-45fb-8d77-1af67df34c60",
   "metadata": {},
   "source": [
    "### 4.1 List(배열)\n",
    "- 선언 : 변수이름 = [value1, value2, value3]\n",
    "- 접근 : 변수이름[index]\n",
    "> 변수이름을 작성하고 대괄호를 넣어서 데이터를 넣어주기"
   ]
  },
  {
   "cell_type": "code",
   "execution_count": 48,
   "id": "9f6d05d0-b811-4817-b9ca-7273db9bd185",
   "metadata": {},
   "outputs": [
    {
     "name": "stdout",
     "output_type": "stream",
     "text": [
      "[]\n",
      "<class 'list'>\n"
     ]
    }
   ],
   "source": [
    "l = []\n",
    "print(l)\n",
    "print(type(l))"
   ]
  },
  {
   "cell_type": "code",
   "execution_count": 47,
   "id": "ae54d9bb-0a3a-4fbb-9126-909db0a7d1f9",
   "metadata": {},
   "outputs": [
    {
     "name": "stdout",
     "output_type": "stream",
     "text": [
      "['서울', '대전', '부산']\n",
      "<class 'list'>\n"
     ]
    },
    {
     "ename": "IndexError",
     "evalue": "list index out of range",
     "output_type": "error",
     "traceback": [
      "\u001b[1;31m---------------------------------------------------------------------------\u001b[0m",
      "\u001b[1;31mIndexError\u001b[0m                                Traceback (most recent call last)",
      "Cell \u001b[1;32mIn[47], line 5\u001b[0m\n\u001b[0;32m      2\u001b[0m \u001b[38;5;28mprint\u001b[39m(location)\n\u001b[0;32m      3\u001b[0m \u001b[38;5;28mprint\u001b[39m(\u001b[38;5;28mtype\u001b[39m(location))\n\u001b[1;32m----> 5\u001b[0m \u001b[38;5;28mprint\u001b[39m(\u001b[43mlocation\u001b[49m\u001b[43m[\u001b[49m\u001b[38;5;241;43m3\u001b[39;49m\u001b[43m]\u001b[49m)\n",
      "\u001b[1;31mIndexError\u001b[0m: list index out of range"
     ]
    }
   ],
   "source": [
    "location = ['서울', '대전', '부산']\n",
    "print(location)\n",
    "print(type(location))\n",
    "\n",
    "print(location[3])"
   ]
  },
  {
   "cell_type": "code",
   "execution_count": 53,
   "id": "6a51d8c2-5a14-4f6b-8cf8-425a0dd96013",
   "metadata": {},
   "outputs": [
    {
     "name": "stdout",
     "output_type": "stream",
     "text": [
      "['서울', '대전', '부산']\n",
      "<class 'list'>\n",
      "부산\n",
      "서울\n",
      "['서울', '대전', '제주']\n"
     ]
    }
   ],
   "source": [
    "location = ['서울', '대전', '부산']\n",
    "print(location)\n",
    "print(type(location))\n",
    "\n",
    "print(location[2])\n",
    "print(location[-3])\n",
    "\n",
    "location[2] = '제주'\n",
    "print(location)"
   ]
  },
  {
   "cell_type": "markdown",
   "id": "e3690d46-e8b5-4ec3-9a17-a271cd2ba2a4",
   "metadata": {},
   "source": [
    "### 4.2 Tuple\n",
    "- 선언 : 변수이름 = (value1, value2, value3)\n",
    "- 접근 : 변수이름[index]\n",
    "- List와 유사하지만 수정불가능(immutable)하다."
   ]
  },
  {
   "cell_type": "code",
   "execution_count": 54,
   "id": "c2fb3e0c-c9f9-460a-915c-93486474d335",
   "metadata": {},
   "outputs": [
    {
     "name": "stdout",
     "output_type": "stream",
     "text": [
      "(1, 2, 3)\n",
      "<class 'tuple'>\n",
      "3\n"
     ]
    }
   ],
   "source": [
    "t = (1, 2, 3)\n",
    "print(t)\n",
    "print(type(t))\n",
    "print(t[2])"
   ]
  },
  {
   "cell_type": "code",
   "execution_count": 55,
   "id": "34e5df7a-cf93-430d-9d98-a095a60becd7",
   "metadata": {},
   "outputs": [
    {
     "ename": "TypeError",
     "evalue": "'tuple' object does not support item assignment",
     "output_type": "error",
     "traceback": [
      "\u001b[1;31m---------------------------------------------------------------------------\u001b[0m",
      "\u001b[1;31mTypeError\u001b[0m                                 Traceback (most recent call last)",
      "Cell \u001b[1;32mIn[55], line 1\u001b[0m\n\u001b[1;32m----> 1\u001b[0m \u001b[43mt\u001b[49m\u001b[43m[\u001b[49m\u001b[38;5;241;43m2\u001b[39;49m\u001b[43m]\u001b[49m \u001b[38;5;241m=\u001b[39m \u001b[38;5;241m100\u001b[39m\n",
      "\u001b[1;31mTypeError\u001b[0m: 'tuple' object does not support item assignment"
     ]
    }
   ],
   "source": [
    "t[2] = 100"
   ]
  },
  {
   "cell_type": "code",
   "execution_count": 58,
   "id": "acc1423b-5f01-45a5-8981-88a13bd5eee6",
   "metadata": {},
   "outputs": [
    {
     "name": "stdout",
     "output_type": "stream",
     "text": [
      "<class 'tuple'>\n",
      "2\n"
     ]
    }
   ],
   "source": [
    "result = divmod(9, 4)\n",
    "# 9를 4로 나누다 \n",
    "print(type(result))\n",
    "print(result[0])"
   ]
  },
  {
   "cell_type": "code",
   "execution_count": 60,
   "id": "2be6cbe7-4112-4bf1-8786-5a8e91c926d8",
   "metadata": {},
   "outputs": [
    {
     "name": "stdout",
     "output_type": "stream",
     "text": [
      "1 2\n",
      "2 1\n"
     ]
    }
   ],
   "source": [
    "x, y = (1, 2)\n",
    "print(x, y)\n",
    "# Tuple의 방식1\n",
    "x, y = (y, x)\n",
    "print(x, y)\n",
    "# Tuple의 방식2"
   ]
  },
  {
   "cell_type": "markdown",
   "id": "d9ee1559-8d4d-48af-8b5d-eb56519fc956",
   "metadata": {},
   "source": [
    "## 4.3 range\n",
    "- range(n) : 0부터 n-1까지 범위\n",
    "- range(n, m) : n부터 m-1까지 범위\n",
    "- range(n, m, s) : n부터 m-1까지 범위, +s만큼 증가하는 범위"
   ]
  },
  {
   "cell_type": "code",
   "execution_count": 61,
   "id": "f47e5dbb-2390-4655-a0bf-cee4481d5671",
   "metadata": {},
   "outputs": [
    {
     "name": "stdout",
     "output_type": "stream",
     "text": [
      "range(0, 5)\n",
      "<class 'range'>\n"
     ]
    }
   ],
   "source": [
    "r = range(5)\n",
    "print(r)\n",
    "print(type(r))"
   ]
  },
  {
   "cell_type": "code",
   "execution_count": 62,
   "id": "d0680585-f041-43ee-8d58-34a84856fb8e",
   "metadata": {},
   "outputs": [
    {
     "name": "stdout",
     "output_type": "stream",
     "text": [
      "range(5, 15)\n"
     ]
    }
   ],
   "source": [
    "r = range(5, 15)\n",
    "print(r)"
   ]
  },
  {
   "cell_type": "code",
   "execution_count": 64,
   "id": "86a86a2c-22c3-459d-a4f4-6e1760c2caad",
   "metadata": {},
   "outputs": [
    {
     "name": "stdout",
     "output_type": "stream",
     "text": [
      "range(5, 15, 2)\n"
     ]
    }
   ],
   "source": [
    "r = range(5, 15, 2)\n",
    "print(r)\n",
    "# 레이지하다는 게으른 연산, 선언할 때 바로 데이터로 바꿔주는게 아니라 내가 사용할때만 변환해준다. 보고싶다면 형변환을 시켜줘야됌."
   ]
  },
  {
   "cell_type": "code",
   "execution_count": 65,
   "id": "9898300e-a2e1-4366-a057-7b829434d162",
   "metadata": {},
   "outputs": [
    {
     "data": {
      "text/plain": [
       "[5, 7, 9, 11, 13]"
      ]
     },
     "execution_count": 65,
     "metadata": {},
     "output_type": "execute_result"
    }
   ],
   "source": [
    "list(r)"
   ]
  },
  {
   "cell_type": "markdown",
   "id": "6a42d7c8-419b-4ee3-9735-41c4562ececd",
   "metadata": {},
   "source": [
    "### 4.4 string\n",
    "기본 데이터 구조 참고"
   ]
  },
  {
   "cell_type": "markdown",
   "id": "81fcfa39-4f6b-4285-985f-777f85fb1784",
   "metadata": {},
   "source": [
    "### 4.5 시퀀스에서 사용가능한 연산/함수"
   ]
  },
  {
   "cell_type": "code",
   "execution_count": 66,
   "id": "0f303780-3ba0-4024-8c5d-b30ce6cab495",
   "metadata": {},
   "outputs": [],
   "source": [
    "my_list = [1, 2, 3, 4, 5]\n",
    "my_tuple = (11, 12, 13, 14, 15)\n",
    "my_range = range(1, 10, 2)\n",
    "my_string = '일이삼사오'"
   ]
  },
  {
   "cell_type": "code",
   "execution_count": 69,
   "id": "0bd4aaed-f37e-4638-8163-da8fdc213d68",
   "metadata": {},
   "outputs": [
    {
     "name": "stdout",
     "output_type": "stream",
     "text": [
      "2\n",
      "12\n",
      "3\n",
      "이\n"
     ]
    }
   ],
   "source": [
    "# indexing\n",
    "print(my_list[1])\n",
    "print(my_tuple[1])\n",
    "print(my_range[1])\n",
    "print(my_string[1])"
   ]
  },
  {
   "cell_type": "code",
   "execution_count": 71,
   "id": "6911b712-d69e-4ebc-9adc-70557077c712",
   "metadata": {},
   "outputs": [
    {
     "name": "stdout",
     "output_type": "stream",
     "text": [
      "[2, 3]\n",
      "(12, 13)\n",
      "range(3, 7, 2)\n",
      "이삼\n"
     ]
    }
   ],
   "source": [
    "# slicing\n",
    "print(my_list[1:3])\n",
    "# 3번째는 포함이 안됌 3미만 데이터\n",
    "print(my_tuple[1:3])\n",
    "print(my_range[1:3])\n",
    "print(my_string[1:3])"
   ]
  },
  {
   "cell_type": "code",
   "execution_count": 73,
   "id": "01ed0c38-7c73-4f69-97db-8c2412f2c91b",
   "metadata": {},
   "outputs": [
    {
     "name": "stdout",
     "output_type": "stream",
     "text": [
      "[2, 4]\n",
      "range(5, 11, 4)\n"
     ]
    }
   ],
   "source": [
    "print(my_list[1:4:2])\n",
    "print(my_range[2:7:2])"
   ]
  },
  {
   "cell_type": "code",
   "execution_count": 75,
   "id": "31b67112-a6b8-4b20-89c0-4b4e37d5614d",
   "metadata": {},
   "outputs": [
    {
     "name": "stdout",
     "output_type": "stream",
     "text": [
      "[1, 2, 3]\n",
      "[4, 5]\n"
     ]
    }
   ],
   "source": [
    "print(my_list[:3])\n",
    "print(my_list[3:])"
   ]
  },
  {
   "cell_type": "code",
   "execution_count": 78,
   "id": "ec175cf2-440b-4f13-b1d8-b6a3771ef476",
   "metadata": {},
   "outputs": [
    {
     "name": "stdout",
     "output_type": "stream",
     "text": [
      "True\n",
      "True\n",
      "True\n",
      "True\n"
     ]
    }
   ],
   "source": [
    "# in\n",
    "# 어떤 글자가 해당하는 범위에 들어있는지\n",
    "print(1 in my_list)\n",
    "print(11 in my_tuple)\n",
    "print(1 in my_range)\n",
    "print('일' in my_string)"
   ]
  },
  {
   "cell_type": "code",
   "execution_count": 84,
   "id": "7e53fbf5-a21b-4726-8770-14abcc3ce426",
   "metadata": {},
   "outputs": [
    {
     "name": "stdout",
     "output_type": "stream",
     "text": [
      "True\n",
      "True\n",
      "True\n",
      "True\n"
     ]
    }
   ],
   "source": [
    "# not in\n",
    "# 이 두개가 다른가요?를 질문\n",
    "print(11 not in my_list)\n",
    "print(1001 not in my_tuple)\n",
    "print(99 not in my_range)\n",
    "print('유' not in my_string)"
   ]
  },
  {
   "cell_type": "code",
   "execution_count": 85,
   "id": "c8315356-2c40-4dec-8d63-ba4518d0a45f",
   "metadata": {},
   "outputs": [
    {
     "name": "stdout",
     "output_type": "stream",
     "text": [
      "[1, 2, 3, 4, 5, 1, 2, 3, 4, 5]\n",
      "(11, 12, 13, 14, 15, 1, 2, 3)\n"
     ]
    }
   ],
   "source": [
    "# concatenation\n",
    "print(my_list + [1, 2, 3, 4, 5])\n",
    "print(my_tuple + (1, 2, 3))"
   ]
  },
  {
   "cell_type": "code",
   "execution_count": 90,
   "id": "50971c06-6520-4449-a1a0-bb2bc42b13e2",
   "metadata": {},
   "outputs": [
    {
     "name": "stdout",
     "output_type": "stream",
     "text": [
      "일이삼사오일이삼사오일이삼사오\n",
      "[1, 2, 3, 4, 5, 1, 2, 3, 4, 5, 1, 2, 3, 4, 5]\n",
      "[[0, 0, 0, 0, 0, 0, 0, 0, 0, 0], [0, 0, 0, 0, 0, 0, 0, 0, 0, 0], [0, 0, 0, 0, 0, 0, 0, 0, 0, 0], [0, 0, 0, 0, 0, 0, 0, 0, 0, 0], [0, 0, 0, 0, 0, 0, 0, 0, 0, 0], [0, 0, 0, 0, 0, 0, 0, 0, 0, 0], [0, 0, 0, 0, 0, 0, 0, 0, 0, 0], [0, 0, 0, 0, 0, 0, 0, 0, 0, 0], [0, 0, 0, 0, 0, 0, 0, 0, 0, 0], [0, 0, 0, 0, 0, 0, 0, 0, 0, 0]]\n"
     ]
    }
   ],
   "source": [
    "# *\n",
    "print(my_string * 3)\n",
    "print(my_list * 3)\n",
    "\n",
    "\n",
    "#언제사용하냐면\n",
    "print([[0] * 10] * 10)"
   ]
  },
  {
   "cell_type": "code",
   "execution_count": 92,
   "id": "8f350f5e-5414-4512-93fd-3dc642e2cbc5",
   "metadata": {},
   "outputs": [
    {
     "data": {
      "text/plain": [
       "5"
      ]
     },
     "execution_count": 92,
     "metadata": {},
     "output_type": "execute_result"
    }
   ],
   "source": [
    "len(my_list)\n",
    "# 길이"
   ]
  },
  {
   "cell_type": "code",
   "execution_count": 93,
   "id": "c49e2d6e-6ceb-487a-bf20-19d25a66f892",
   "metadata": {},
   "outputs": [
    {
     "data": {
      "text/plain": [
       "11"
      ]
     },
     "execution_count": 93,
     "metadata": {},
     "output_type": "execute_result"
    }
   ],
   "source": [
    "min(my_tuple)"
   ]
  },
  {
   "cell_type": "code",
   "execution_count": 94,
   "id": "17dd6509-4b30-4d93-a035-90ee691ce943",
   "metadata": {},
   "outputs": [
    {
     "data": {
      "text/plain": [
       "9"
      ]
     },
     "execution_count": 94,
     "metadata": {},
     "output_type": "execute_result"
    }
   ],
   "source": [
    "max(my_range)"
   ]
  },
  {
   "cell_type": "code",
   "execution_count": 97,
   "id": "56abb790-482e-4742-82c6-baf2a56be025",
   "metadata": {},
   "outputs": [
    {
     "data": {
      "text/plain": [
       "'일'"
      ]
     },
     "execution_count": 97,
     "metadata": {},
     "output_type": "execute_result"
    }
   ],
   "source": [
    "max(my_string)\n",
    "#숫자들의 비교는 스트링에서는 사용이 안된다."
   ]
  },
  {
   "cell_type": "code",
   "execution_count": 100,
   "id": "a2538076-5948-4040-a86b-0af1574fdd77",
   "metadata": {},
   "outputs": [
    {
     "data": {
      "text/plain": [
       "1"
      ]
     },
     "execution_count": 100,
     "metadata": {},
     "output_type": "execute_result"
    }
   ],
   "source": [
    "my_list.count(1)\n",
    "#1이 몇개인지 카운트"
   ]
  },
  {
   "cell_type": "markdown",
   "id": "c3f9b351-61b4-4538-ba18-2b18e9f70303",
   "metadata": {},
   "source": [
    "> 시퀀스들의 형태"
   ]
  },
  {
   "cell_type": "markdown",
   "id": "2cb8e2be-436e-4a04-bdb6-9bcb2c694562",
   "metadata": {},
   "source": [
    "## 5. 시퀀스데이터가 아닌 자료구조\n",
    "### 5.1 set\n",
    "수학에서 사용하는 집합과 동일하게 처리(중복된 값이 없음)\n",
    "- 선언 : 변수이름 = {value1, value2, value3}"
   ]
  },
  {
   "cell_type": "code",
   "execution_count": 104,
   "id": "462be9e4-d2d4-470c-9f39-e15b1a40244b",
   "metadata": {},
   "outputs": [],
   "source": [
    "my_set_a = {1, 2, 3, 4, 5}\n",
    "my_set_b = {1, 3, 5, 7, 9}"
   ]
  },
  {
   "cell_type": "code",
   "execution_count": 109,
   "id": "e3d5e2e3-4a4e-48bd-9642-73bf3098c750",
   "metadata": {},
   "outputs": [
    {
     "name": "stdout",
     "output_type": "stream",
     "text": [
      "{2, 4}\n",
      "{1, 2, 3, 4, 5, 7, 9}\n",
      "{1, 3, 5}\n"
     ]
    }
   ],
   "source": [
    "print(my_set_a - my_set_b)\n",
    "# 차집합연산\n",
    "print(my_set_a | my_set_b)\n",
    "# 합집합(파이프기호) = or\n",
    "print(my_set_a & my_set_b)\n",
    "# 교집합연산 =  and"
   ]
  },
  {
   "cell_type": "code",
   "execution_count": 111,
   "id": "13bf0c77-d0a4-4e09-a16f-010d39486f4c",
   "metadata": {},
   "outputs": [
    {
     "name": "stdout",
     "output_type": "stream",
     "text": [
      "{1, 2, 3, 4, 5, 6, 7, 8}\n"
     ]
    }
   ],
   "source": [
    "my_list = [1, 2, 3, 1, 4, 1, 2, 3, 5, 6, 7, 8, 2, 2]\n",
    "print(set(my_list))\n",
    "# 중복된데이터 검증"
   ]
  },
  {
   "cell_type": "markdown",
   "id": "29edf28c-0f55-483f-a2d6-e3a6b8204bec",
   "metadata": {},
   "source": [
    "### 5.2 dictionary\n",
    "- 선언 : 변수이름 = {key1: value1, key2: value2, key3: value3}\n",
    "- 접근 : 변수이름[key]\n",
    "- 특성 : dictionary는 key와 value가 쌍으로 이루어져있다.\n",
    "- key에는 immutable한(불변하는) 모든 값을 사용 가능. (불변값: string, integer...)\n",
    "- value에는 모든 데이터가 가능하다. (list, dict도 가능)"
   ]
  },
  {
   "cell_type": "code",
   "execution_count": 115,
   "id": "0b039d13-7663-4044-843f-3bf7c151536c",
   "metadata": {},
   "outputs": [
    {
     "data": {
      "text/plain": [
       "'02'"
      ]
     },
     "execution_count": 115,
     "metadata": {},
     "output_type": "execute_result"
    }
   ],
   "source": [
    "my_dict = {'서울': '02', '경기': '031'}\n",
    "my_dict['서울']"
   ]
  },
  {
   "cell_type": "code",
   "execution_count": 123,
   "id": "7165f867-d60c-4a63-af35-aba5efdb9510",
   "metadata": {},
   "outputs": [
    {
     "name": "stdout",
     "output_type": "stream",
     "text": [
      "10\n",
      "4\n",
      "11\n"
     ]
    }
   ],
   "source": [
    "dict_a = {\n",
    "    'name': 'changhee',\n",
    "    'age': 10,\n",
    "    'location': 'seoul',\n",
    "    'numbers': [1, 2, 3, 4, 5],\n",
    "    'friends': {\n",
    "        'a': 10,\n",
    "        'b': 11,\n",
    "    },\n",
    "}\n",
    "\n",
    "print(dict_a['age'])\n",
    "print(dict_a['numbers'][3])\n",
    "print(dict_a['friends']['b'])"
   ]
  },
  {
   "cell_type": "code",
   "execution_count": 124,
   "id": "67f64793-21f5-4c54-85ae-caf275c13814",
   "metadata": {},
   "outputs": [
    {
     "data": {
      "text/plain": [
       "dict_keys(['name', 'age', 'location', 'numbers', 'friends'])"
      ]
     },
     "execution_count": 124,
     "metadata": {},
     "output_type": "execute_result"
    }
   ],
   "source": [
    "dict_a.keys()"
   ]
  },
  {
   "cell_type": "code",
   "execution_count": 125,
   "id": "c451724a-638d-4c1b-a8f5-0c7c2b1a888f",
   "metadata": {},
   "outputs": [
    {
     "data": {
      "text/plain": [
       "dict_values(['changhee', 10, 'seoul', [1, 2, 3, 4, 5], {'a': 10, 'b': 11}])"
      ]
     },
     "execution_count": 125,
     "metadata": {},
     "output_type": "execute_result"
    }
   ],
   "source": [
    "dict_a.values()"
   ]
  },
  {
   "cell_type": "markdown",
   "id": "52b8ee0f-da6b-43ff-aace-0590d21db9d9",
   "metadata": {},
   "source": [
    "## 데이터 타입\n",
    "\n",
    "1. Number\n",
    "2. Boolean\n",
    "3. String\n",
    "\n",
    "##  자료구조\n",
    "- 시퀀스 자료형\n",
    "    1. [list] : mutable\n",
    "    2. (Tuple) : immutable\n",
    "    3. range() : immutable\n",
    "    4. 'string' : immutable\n",
    "- 시퀀스가 아닌 자료형\n",
    "    1. {Set} : mutable\n",
    "    2. {Dict: ignary} : mutable"
   ]
  },
  {
   "cell_type": "code",
   "execution_count": 126,
   "id": "91d6fde9-2067-4562-ad83-7781ed65de60",
   "metadata": {},
   "outputs": [],
   "source": [
    "# 이걸 베이스로 사용하기."
   ]
  },
  {
   "cell_type": "code",
   "execution_count": null,
   "id": "0b85402a-abc3-42b1-b9e0-9bdbc4fdeba7",
   "metadata": {},
   "outputs": [],
   "source": []
  },
  {
   "cell_type": "code",
   "execution_count": null,
   "id": "ed1119f6-4c7c-40b6-a0b7-4bede89f1e4d",
   "metadata": {},
   "outputs": [],
   "source": []
  },
  {
   "cell_type": "code",
   "execution_count": null,
   "id": "cc2a4fc7-15c4-4b8e-9d01-b10c67850bd8",
   "metadata": {},
   "outputs": [],
   "source": []
  },
  {
   "cell_type": "code",
   "execution_count": null,
   "id": "d7e05717-8d2e-42ea-9966-3b895452626d",
   "metadata": {},
   "outputs": [],
   "source": []
  },
  {
   "cell_type": "code",
   "execution_count": null,
   "id": "23d78fa5-00da-43a3-964c-8204d9ac0f92",
   "metadata": {},
   "outputs": [],
   "source": []
  },
  {
   "cell_type": "code",
   "execution_count": null,
   "id": "a1db07ae-2aa2-486d-8115-0e4cd9eaddda",
   "metadata": {},
   "outputs": [],
   "source": []
  },
  {
   "cell_type": "code",
   "execution_count": null,
   "id": "1f8e00b6-cb0e-4503-bbe7-e7ef622934fd",
   "metadata": {},
   "outputs": [],
   "source": []
  },
  {
   "cell_type": "code",
   "execution_count": null,
   "id": "c3926ba1-ff0a-468e-9def-d19c5c8f8bf3",
   "metadata": {},
   "outputs": [],
   "source": []
  },
  {
   "cell_type": "code",
   "execution_count": null,
   "id": "8cbac8cb-a3a9-447c-994e-d839f7a169c5",
   "metadata": {},
   "outputs": [],
   "source": []
  },
  {
   "cell_type": "code",
   "execution_count": null,
   "id": "8abb17b5-bffc-4383-bdb3-d92dfc6c3dc3",
   "metadata": {},
   "outputs": [],
   "source": []
  },
  {
   "cell_type": "code",
   "execution_count": null,
   "id": "0484a968-42ac-4e55-956f-3b6c63658082",
   "metadata": {},
   "outputs": [],
   "source": []
  },
  {
   "cell_type": "code",
   "execution_count": null,
   "id": "1e4bc145-52aa-4844-91a8-13f7c1eb3aa9",
   "metadata": {},
   "outputs": [],
   "source": []
  },
  {
   "cell_type": "code",
   "execution_count": null,
   "id": "b0dd4d5a-06a0-47c7-bb0a-e3f0d9ed9acf",
   "metadata": {},
   "outputs": [],
   "source": []
  },
  {
   "cell_type": "code",
   "execution_count": null,
   "id": "6ba368d5-cf86-4536-8db3-b73c4755892f",
   "metadata": {},
   "outputs": [],
   "source": []
  },
  {
   "cell_type": "code",
   "execution_count": null,
   "id": "34af39ea-ab39-4e9b-a186-3442d907d38f",
   "metadata": {},
   "outputs": [],
   "source": []
  },
  {
   "cell_type": "code",
   "execution_count": null,
   "id": "a124d61c-2d76-492e-a1c5-185d3300910d",
   "metadata": {},
   "outputs": [],
   "source": []
  },
  {
   "cell_type": "code",
   "execution_count": null,
   "id": "425df22a-7028-4201-8276-9a6e92be0867",
   "metadata": {},
   "outputs": [],
   "source": []
  }
 ],
 "metadata": {
  "kernelspec": {
   "display_name": "Python 3 (ipykernel)",
   "language": "python",
   "name": "python3"
  },
  "language_info": {
   "codemirror_mode": {
    "name": "ipython",
    "version": 3
   },
   "file_extension": ".py",
   "mimetype": "text/x-python",
   "name": "python",
   "nbconvert_exporter": "python",
   "pygments_lexer": "ipython3",
   "version": "3.11.5"
  }
 },
 "nbformat": 4,
 "nbformat_minor": 5
}
