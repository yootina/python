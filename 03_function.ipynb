{
 "cells": [
  {
   "cell_type": "code",
   "execution_count": 4,
   "id": "ae7cb682-d29e-4354-ac5c-a886027a1c87",
   "metadata": {},
   "outputs": [
    {
     "name": "stdout",
     "output_type": "stream",
     "text": [
      "직사각형의 면적은 200, 둘레는 60입니다.\n"
     ]
    }
   ],
   "source": [
    "height = 10\n",
    "width = 20\n",
    "\n",
    "height2 = 50\n",
    "width2 = 100\n",
    "\n",
    "area = height * width\n",
    "perimeter = (height + width) * 2\n",
    "print(f'직사각형의 면적은 {area}, 둘레는 {perimeter}입니다.')\n",
    "\n",
    "area2 = height2 * width2"
   ]
  },
  {
   "cell_type": "markdown",
   "id": "bfd0a153-53ae-4987-b3d5-7233a4f76c5f",
   "metadata": {},
   "source": [
    "## 함수의 선언과 호출\n",
    "\n",
    "- 함수의 선언(만들다)\n",
    "```python\n",
    "def func_name(parameter1, parameter2):\n",
    "    code1\n",
    "    code2\n",
    "    ...\n",
    "    return value\n",
    "```\n",
    "\n",
    "- 함수의 호출(실행)\n",
    "\n",
    "    func_name(parameter1, parameter2)"
   ]
  },
  {
   "cell_type": "code",
   "execution_count": 5,
   "id": "ff6375e5-5065-44d2-b685-dd4dc5826e10",
   "metadata": {},
   "outputs": [],
   "source": [
    "def rectangle(height, width):\n",
    "    area = height * width\n",
    "    perimeter = (height + width) * 2\n",
    "    print(area, perimeter)"
   ]
  },
  {
   "cell_type": "code",
   "execution_count": 7,
   "id": "65b98c1b-d4ce-4b4c-a017-ce14b4a91db8",
   "metadata": {},
   "outputs": [
    {
     "name": "stdout",
     "output_type": "stream",
     "text": [
      "5000 300\n",
      "200 60\n",
      "2700 240\n"
     ]
    }
   ],
   "source": [
    "rectangle(100, 50)\n",
    "rectangle(10, 20)\n",
    "rectangle(30, 90)\n",
    "# 위처럼 계속 코드를 쓸 필요없고 함수를 통해 데이터만 바꿔주면 출력 가능하다."
   ]
  },
  {
   "cell_type": "code",
   "execution_count": 8,
   "id": "671b78e1-dc08-4aa9-a294-7c44a5380d46",
   "metadata": {},
   "outputs": [
    {
     "data": {
      "text/plain": [
       "['ArithmeticError',\n",
       " 'AssertionError',\n",
       " 'AttributeError',\n",
       " 'BaseException',\n",
       " 'BaseExceptionGroup',\n",
       " 'BlockingIOError',\n",
       " 'BrokenPipeError',\n",
       " 'BufferError',\n",
       " 'BytesWarning',\n",
       " 'ChildProcessError',\n",
       " 'ConnectionAbortedError',\n",
       " 'ConnectionError',\n",
       " 'ConnectionRefusedError',\n",
       " 'ConnectionResetError',\n",
       " 'DeprecationWarning',\n",
       " 'EOFError',\n",
       " 'Ellipsis',\n",
       " 'EncodingWarning',\n",
       " 'EnvironmentError',\n",
       " 'Exception',\n",
       " 'ExceptionGroup',\n",
       " 'False',\n",
       " 'FileExistsError',\n",
       " 'FileNotFoundError',\n",
       " 'FloatingPointError',\n",
       " 'FutureWarning',\n",
       " 'GeneratorExit',\n",
       " 'IOError',\n",
       " 'ImportError',\n",
       " 'ImportWarning',\n",
       " 'IndentationError',\n",
       " 'IndexError',\n",
       " 'InterruptedError',\n",
       " 'IsADirectoryError',\n",
       " 'KeyError',\n",
       " 'KeyboardInterrupt',\n",
       " 'LookupError',\n",
       " 'MemoryError',\n",
       " 'ModuleNotFoundError',\n",
       " 'NameError',\n",
       " 'None',\n",
       " 'NotADirectoryError',\n",
       " 'NotImplemented',\n",
       " 'NotImplementedError',\n",
       " 'OSError',\n",
       " 'OverflowError',\n",
       " 'PendingDeprecationWarning',\n",
       " 'PermissionError',\n",
       " 'ProcessLookupError',\n",
       " 'RecursionError',\n",
       " 'ReferenceError',\n",
       " 'ResourceWarning',\n",
       " 'RuntimeError',\n",
       " 'RuntimeWarning',\n",
       " 'StopAsyncIteration',\n",
       " 'StopIteration',\n",
       " 'SyntaxError',\n",
       " 'SyntaxWarning',\n",
       " 'SystemError',\n",
       " 'SystemExit',\n",
       " 'TabError',\n",
       " 'TimeoutError',\n",
       " 'True',\n",
       " 'TypeError',\n",
       " 'UnboundLocalError',\n",
       " 'UnicodeDecodeError',\n",
       " 'UnicodeEncodeError',\n",
       " 'UnicodeError',\n",
       " 'UnicodeTranslateError',\n",
       " 'UnicodeWarning',\n",
       " 'UserWarning',\n",
       " 'ValueError',\n",
       " 'Warning',\n",
       " 'WindowsError',\n",
       " 'ZeroDivisionError',\n",
       " '__IPYTHON__',\n",
       " '__build_class__',\n",
       " '__debug__',\n",
       " '__doc__',\n",
       " '__import__',\n",
       " '__loader__',\n",
       " '__name__',\n",
       " '__package__',\n",
       " '__spec__',\n",
       " 'abs',\n",
       " 'aiter',\n",
       " 'all',\n",
       " 'anext',\n",
       " 'any',\n",
       " 'ascii',\n",
       " 'bin',\n",
       " 'bool',\n",
       " 'breakpoint',\n",
       " 'bytearray',\n",
       " 'bytes',\n",
       " 'callable',\n",
       " 'chr',\n",
       " 'classmethod',\n",
       " 'compile',\n",
       " 'complex',\n",
       " 'copyright',\n",
       " 'credits',\n",
       " 'delattr',\n",
       " 'dict',\n",
       " 'dir',\n",
       " 'display',\n",
       " 'divmod',\n",
       " 'enumerate',\n",
       " 'eval',\n",
       " 'exec',\n",
       " 'execfile',\n",
       " 'filter',\n",
       " 'float',\n",
       " 'format',\n",
       " 'frozenset',\n",
       " 'get_ipython',\n",
       " 'getattr',\n",
       " 'globals',\n",
       " 'hasattr',\n",
       " 'hash',\n",
       " 'help',\n",
       " 'hex',\n",
       " 'id',\n",
       " 'input',\n",
       " 'int',\n",
       " 'isinstance',\n",
       " 'issubclass',\n",
       " 'iter',\n",
       " 'len',\n",
       " 'license',\n",
       " 'list',\n",
       " 'locals',\n",
       " 'map',\n",
       " 'max',\n",
       " 'memoryview',\n",
       " 'min',\n",
       " 'next',\n",
       " 'object',\n",
       " 'oct',\n",
       " 'open',\n",
       " 'ord',\n",
       " 'pow',\n",
       " 'print',\n",
       " 'property',\n",
       " 'range',\n",
       " 'repr',\n",
       " 'reversed',\n",
       " 'round',\n",
       " 'runfile',\n",
       " 'set',\n",
       " 'setattr',\n",
       " 'slice',\n",
       " 'sorted',\n",
       " 'staticmethod',\n",
       " 'str',\n",
       " 'sum',\n",
       " 'super',\n",
       " 'tuple',\n",
       " 'type',\n",
       " 'vars',\n",
       " 'zip']"
      ]
     },
     "execution_count": 8,
     "metadata": {},
     "output_type": "execute_result"
    }
   ],
   "source": [
    "dir(__builtins__)"
   ]
  },
  {
   "cell_type": "code",
   "execution_count": 10,
   "id": "2693681e-fa59-48c1-b9c3-a13173809480",
   "metadata": {},
   "outputs": [
    {
     "data": {
      "text/plain": [
       "6"
      ]
     },
     "execution_count": 10,
     "metadata": {},
     "output_type": "execute_result"
    }
   ],
   "source": [
    "max(1, 3, 5, 6)"
   ]
  },
  {
   "cell_type": "code",
   "execution_count": 22,
   "id": "3d0f1dee-b094-45e9-90f8-9d977346d870",
   "metadata": {},
   "outputs": [],
   "source": [
    "# 두개의 정수를 받아서 큰 수를 출력\n",
    "def my_max(num1, num2):\n",
    "    # num1 = 5\n",
    "    # num2 = 5\n",
    "    if num1 > num2:\n",
    "        print(num1)\n",
    "    elif num1 < num2:\n",
    "        print(num2)\n",
    "    else:\n",
    "        print('같습니다')"
   ]
  },
  {
   "cell_type": "code",
   "execution_count": 23,
   "id": "6f9fa8c6-43dc-499e-93be-3ce40303a620",
   "metadata": {},
   "outputs": [
    {
     "name": "stdout",
     "output_type": "stream",
     "text": [
      "2\n",
      "같습니다\n"
     ]
    }
   ],
   "source": [
    "my_max(1, 2)\n",
    "my_max(5, 5)"
   ]
  },
  {
   "cell_type": "markdown",
   "id": "11d08cc9-a6b1-4f10-86ec-ffc2eeddce63",
   "metadata": {},
   "source": [
    "# 함수의 return\n",
    "\n",
    "- 함수가 return을 만나면 해당 값을 반환하고 함수를 종료\n",
    "- 만약 return이 없다면 None을 자동으로 반환\n",
    "- return은 오직 하나의 객체만 반환합니다."
   ]
  },
  {
   "cell_type": "code",
   "execution_count": 32,
   "id": "ec9cd9c6-2afe-480f-898f-334dd79761a4",
   "metadata": {},
   "outputs": [],
   "source": [
    "def my_max2(num1, num2):\n",
    "    # return 'hello'\n",
    "    \n",
    "    if num1 > num2:\n",
    "       return num1\n",
    "    elif num1 < num2:\n",
    "        return num2\n",
    "    else:\n",
    "        return num1"
   ]
  },
  {
   "cell_type": "code",
   "execution_count": 34,
   "id": "e75a1d74-d44e-40c4-a3ea-6e9da033fef5",
   "metadata": {},
   "outputs": [
    {
     "name": "stdout",
     "output_type": "stream",
     "text": [
      "2\n"
     ]
    }
   ],
   "source": [
    "a = my_max2(1, 2)\n",
    "print(a)"
   ]
  },
  {
   "cell_type": "code",
   "execution_count": 41,
   "id": "a23b047c-53d6-4773-9f97-228992faef25",
   "metadata": {},
   "outputs": [],
   "source": [
    "def my_list_max(list1, list2):\n",
    "    if sum(list1) > sum(list2):\n",
    "         return list1\n",
    "    else:\n",
    "        return list2"
   ]
  },
  {
   "cell_type": "code",
   "execution_count": 42,
   "id": "971ae670-ee6b-4b52-8f77-3ec071249fb0",
   "metadata": {},
   "outputs": [
    {
     "data": {
      "text/plain": [
       "[2, 3, 4]"
      ]
     },
     "execution_count": 42,
     "metadata": {},
     "output_type": "execute_result"
    }
   ],
   "source": [
    "my_list_max([1, 2, 3], [2, 3, 4])"
   ]
  },
  {
   "cell_type": "code",
   "execution_count": 51,
   "id": "e72ced80-4886-446e-b11b-404ae097d7cf",
   "metadata": {},
   "outputs": [],
   "source": [
    "def my_def(x):\n",
    "    return x * 2"
   ]
  },
  {
   "cell_type": "code",
   "execution_count": 52,
   "id": "ab9b15ed-8e34-4209-9da3-0cacc9636a5c",
   "metadata": {},
   "outputs": [
    {
     "name": "stdout",
     "output_type": "stream",
     "text": [
      "10\n"
     ]
    }
   ],
   "source": [
    "a = my_def(5)\n",
    "print(a)"
   ]
  },
  {
   "cell_type": "code",
   "execution_count": 46,
   "id": "e70a9135-3f61-4750-b12b-7d97a976b376",
   "metadata": {},
   "outputs": [],
   "source": [
    "def my_def2(x):\n",
    "    print(x*2)\n",
    "    # return None"
   ]
  },
  {
   "cell_type": "code",
   "execution_count": 48,
   "id": "6030f7f4-a103-439d-8406-daa42efec02d",
   "metadata": {},
   "outputs": [
    {
     "name": "stdout",
     "output_type": "stream",
     "text": [
      "20\n",
      "None\n"
     ]
    }
   ],
   "source": [
    "a = my_def2(10)\n",
    "print(a)"
   ]
  },
  {
   "cell_type": "markdown",
   "id": "553c9f70-6661-4091-a9a6-ee76532459ef",
   "metadata": {},
   "source": [
    "# 함수의 인수 (x에 뭐가 들어갈지)"
   ]
  },
  {
   "cell_type": "markdown",
   "id": "84d573a2-e218-4ad9-b4c7-7c061ce25054",
   "metadata": {},
   "source": [
    "### 위치인수\n",
    "기본적으로 함수는 인수의 위치로 판단합니다."
   ]
  },
  {
   "cell_type": "code",
   "execution_count": 53,
   "id": "03b55843-f321-485f-a311-366832a864cf",
   "metadata": {},
   "outputs": [],
   "source": [
    "def cylinder(r, h):\n",
    "    return 3.14 * r**2 * h"
   ]
  },
  {
   "cell_type": "code",
   "execution_count": 55,
   "id": "6077048e-6c22-48b2-800e-8bba4cbbd053",
   "metadata": {},
   "outputs": [
    {
     "name": "stdout",
     "output_type": "stream",
     "text": [
      "785.0\n",
      "1570.0\n"
     ]
    }
   ],
   "source": [
    "print(cylinder(5, 10))\n",
    "print(cylinder(10, 5))"
   ]
  },
  {
   "cell_type": "markdown",
   "id": "e03c66bd-fd20-4f70-afff-631250cbe84f",
   "metadata": {},
   "source": [
    "# 기본값\n",
    "```python\n",
    "def func(p1=v1):\n",
    "    return\n",
    "    # 코드 추가하기\n",
    "```\n"
   ]
  },
  {
   "cell_type": "code",
   "execution_count": 62,
   "id": "b86ccbae-95f0-4d3c-b776-e2c34de56a82",
   "metadata": {},
   "outputs": [],
   "source": [
    "def greeting(name='익명'):\n",
    "    # '익명'이라는 문구가 없으면 빈칸일경우 에러남\n",
    "    return f'{name}님 안녕하세요!!'"
   ]
  },
  {
   "cell_type": "code",
   "execution_count": 63,
   "id": "67c7a4f1-6877-4596-9961-706df317470d",
   "metadata": {},
   "outputs": [
    {
     "data": {
      "text/plain": [
       "'티나님 안녕하세요!!'"
      ]
     },
     "execution_count": 63,
     "metadata": {},
     "output_type": "execute_result"
    }
   ],
   "source": [
    "greeting('티나')"
   ]
  },
  {
   "cell_type": "code",
   "execution_count": 64,
   "id": "cf473364-1000-47e8-b679-fee711b82f06",
   "metadata": {},
   "outputs": [
    {
     "data": {
      "text/plain": [
       "'익명님 안녕하세요!!'"
      ]
     },
     "execution_count": 64,
     "metadata": {},
     "output_type": "execute_result"
    }
   ],
   "source": [
    "greeting()"
   ]
  },
  {
   "cell_type": "code",
   "execution_count": 66,
   "id": "1954d709-8429-4dc6-b724-71b55a78653b",
   "metadata": {},
   "outputs": [
    {
     "name": "stdout",
     "output_type": "stream",
     "text": [
      "hello?????world\n"
     ]
    }
   ],
   "source": [
    "print('hello', 'world', sep='?????')"
   ]
  },
  {
   "cell_type": "code",
   "execution_count": 68,
   "id": "c52c4d6e-b714-47b2-8ab0-7ac4c507362f",
   "metadata": {},
   "outputs": [
    {
     "ename": "SyntaxError",
     "evalue": "non-default argument follows default argument (195857216.py, line 1)",
     "output_type": "error",
     "traceback": [
      "\u001b[1;36m  Cell \u001b[1;32mIn[68], line 1\u001b[1;36m\u001b[0m\n\u001b[1;33m    def greeting(name='익명', age):\u001b[0m\n\u001b[1;37m                            ^\u001b[0m\n\u001b[1;31mSyntaxError\u001b[0m\u001b[1;31m:\u001b[0m non-default argument follows default argument\n"
     ]
    }
   ],
   "source": [
    "def greeting(name='익명', age):\n",
    "    return f'{name}님 은 {age}살입니다.'\n",
    "# 위치가 중요하기 때문에 나이를 이름에 넣으려고 할거임"
   ]
  },
  {
   "cell_type": "code",
   "execution_count": 69,
   "id": "e4e0d4bd-8af1-4e2e-9ff0-58acd0dc62b9",
   "metadata": {},
   "outputs": [],
   "source": [
    "def greeting(age, name='익명'):\n",
    "    return f'{name}님 은 {age}살입니다.'"
   ]
  },
  {
   "cell_type": "code",
   "execution_count": 70,
   "id": "e122a616-4304-46c3-ae7a-dd9a8ff97123",
   "metadata": {},
   "outputs": [
    {
     "name": "stdout",
     "output_type": "stream",
     "text": [
      "홍길동님 은 50살입니다.\n",
      "익명님 은 50살입니다.\n"
     ]
    }
   ],
   "source": [
    "print(greeting(50, '홍길동'))\n",
    "print(greeting(50))"
   ]
  },
  {
   "cell_type": "markdown",
   "id": "872a2b95-f625-4d43-b7ec-e77ec3646edf",
   "metadata": {},
   "source": [
    "# 키워드 인자\n",
    "- 함수를 호출할때 내가 원하는 위치에 직접적으로 특정인자를 전달가능\n",
    "- "
   ]
  },
  {
   "cell_type": "code",
   "execution_count": null,
   "id": "cab36ce4-97a6-40e0-b944-0ca7f853648a",
   "metadata": {},
   "outputs": [],
   "source": [
    "def greeting(age, name='익명'):\n",
    "    return f'{name}님 은 {age}살입니다.'"
   ]
  },
  {
   "cell_type": "code",
   "execution_count": 73,
   "id": "d7b3d78e-70fb-48d8-9ada-ac9140e64ff7",
   "metadata": {},
   "outputs": [
    {
     "name": "stdout",
     "output_type": "stream",
     "text": [
      "익명님 은 10살입니다.\n",
      "홍길동님 은 50살입니다.\n",
      "30님 은 홍길동살입니다.\n",
      "홍길동님 은 30살입니다.\n"
     ]
    }
   ],
   "source": [
    "print(greeting(10))\n",
    "print(greeting(50, '홍길동'))\n",
    "print(greeting('홍길동', 30))\n",
    "# 나이를 앞에다가 무조건 쓰고싶다고 하면\n",
    "print(greeting(name='홍길동', age=30))\n",
    "# 순서가 달라도 필수적인 요소를 지정해주면 사용가능"
   ]
  },
  {
   "cell_type": "markdown",
   "id": "b8247661-b5fb-4509-9ae0-27c553613813",
   "metadata": {},
   "source": [
    "### 가변 인자 리스트\n",
    "```python\n",
    "def func(*parms):\n",
    "    code\n",
    "    ...\n",
    "```"
   ]
  },
  {
   "cell_type": "code",
   "execution_count": 78,
   "id": "c6c5c899-9609-4a59-8193-c53b77838823",
   "metadata": {},
   "outputs": [],
   "source": [
    "def my_print(*words):\n",
    "    print(words)\n",
    "    print(type(words))"
   ]
  },
  {
   "cell_type": "code",
   "execution_count": 79,
   "id": "cda93591-1599-41eb-ad30-4dce31f72940",
   "metadata": {},
   "outputs": [
    {
     "name": "stdout",
     "output_type": "stream",
     "text": [
      "('a', 'b', 'c', 'd')\n",
      "<class 'tuple'>\n"
     ]
    }
   ],
   "source": [
    "my_print('a', 'b', 'c', 'd')"
   ]
  },
  {
   "cell_type": "code",
   "execution_count": 82,
   "id": "41949cc2-4a97-419c-83a1-028b127a6be2",
   "metadata": {},
   "outputs": [
    {
     "name": "stdout",
     "output_type": "stream",
     "text": [
      "a/b/c/d\n",
      "a b c d 공간\n"
     ]
    }
   ],
   "source": [
    "print('a', 'b', 'c', 'd', sep='/')\n",
    "# 앞에 있는 오브젝트는 가변인자 이기 때문에 구분선을 넣고싶으면 항상 키워드 인자로 넣기\n",
    "print('a', 'b', 'c', 'd', '공간')"
   ]
  },
  {
   "cell_type": "code",
   "execution_count": 84,
   "id": "991b8f19-09a4-442a-aac7-f2b19393ce19",
   "metadata": {},
   "outputs": [
    {
     "data": {
      "text/plain": [
       "7"
      ]
     },
     "execution_count": 84,
     "metadata": {},
     "output_type": "execute_result"
    }
   ],
   "source": [
    "max(1, 2, 3, 4, 5, 6, 7)"
   ]
  },
  {
   "cell_type": "code",
   "execution_count": 6,
   "id": "bea20c7d-145d-402c-ae71-c0c69ea0a263",
   "metadata": {},
   "outputs": [],
   "source": [
    "# 여러개의 숫자를 받아 그 중 가장 큰수를 리턴\n",
    "def my_max(*numbers):\n",
    "    result = numbers[0]\n",
    "\n",
    "    \n",
    "    for number in numbers:\n",
    "        if result < number:\n",
    "            result = number\n",
    "    return result"
   ]
  },
  {
   "cell_type": "code",
   "execution_count": 7,
   "id": "b287b5b5-b5d2-4bba-a197-78899bbcd2f6",
   "metadata": {},
   "outputs": [
    {
     "name": "stdout",
     "output_type": "stream",
     "text": [
      "5\n",
      "-1\n"
     ]
    }
   ],
   "source": [
    "print(my_max(1, 2, 3, 4, 5))\n",
    "print(my_max(-1, -2, -3))"
   ]
  },
  {
   "cell_type": "markdown",
   "id": "45c048a0-e3f3-443b-a6cb-6085c897fd4e",
   "metadata": {},
   "source": [
    "### 정의되지않은 키워드 인자 처리하기\n",
    "```python\n",
    "def func(**kwargs):\n",
    "    code\n",
    "    ...\n",
    "```"
   ]
  },
  {
   "cell_type": "code",
   "execution_count": 15,
   "id": "a78e5b08-da10-4e03-a9cd-48dbaa3d513b",
   "metadata": {},
   "outputs": [
    {
     "name": "stdout",
     "output_type": "stream",
     "text": [
      "{'name': 'hong', 'age': 10}\n"
     ]
    }
   ],
   "source": [
    "# 1\n",
    "info = {\n",
    "    'name': 'hong',\n",
    "    'age': 10,\n",
    "}\n",
    "print(info)"
   ]
  },
  {
   "cell_type": "code",
   "execution_count": 14,
   "id": "691917d8-d239-470a-a687-1bab3dde58af",
   "metadata": {},
   "outputs": [
    {
     "name": "stdout",
     "output_type": "stream",
     "text": [
      "{'name': 'hong', 'age': 20}\n"
     ]
    }
   ],
   "source": [
    "# 2\n",
    "info = dict(name='hong', age=20)\n",
    "print(info)"
   ]
  },
  {
   "cell_type": "code",
   "execution_count": 18,
   "id": "d29696a8-eaa7-49a3-a38a-18acc2d31b67",
   "metadata": {},
   "outputs": [],
   "source": [
    "def fake_dict(**kwards):\n",
    "    for key, value in kwards.items():\n",
    "        print(f'{key}는 {value}입니다.')"
   ]
  },
  {
   "cell_type": "code",
   "execution_count": 13,
   "id": "ce940c1b-cc15-4dde-82cb-58a82f62ee19",
   "metadata": {},
   "outputs": [
    {
     "name": "stdout",
     "output_type": "stream",
     "text": [
      "{'a': 10, 'b': 20}\n",
      "{'korean': '안녕', 'english': 'hello'}\n"
     ]
    }
   ],
   "source": [
    "fake_dict(a=10, b=20)\n",
    "fake_dict(korean='안녕', english='hello')"
   ]
  },
  {
   "cell_type": "markdown",
   "id": "7a2e2a96-cc34-4386-9c88-7729b7cc475b",
   "metadata": {},
   "source": [
    "# 딕셔너리를 인자로 넣기(unpacking)"
   ]
  },
  {
   "cell_type": "code",
   "execution_count": 20,
   "id": "61b1c784-e506-4cf3-b443-db8186985070",
   "metadata": {},
   "outputs": [],
   "source": [
    "def sign_up(id, pw, pw_confirmation):\n",
    "    if pw == pw_confirmation:\n",
    "        print(f'{id}님 회원가입이 완료되었습니다.')\n",
    "    else:\n",
    "        print('비밀번호가 일치하지 않습니다.')"
   ]
  },
  {
   "cell_type": "code",
   "execution_count": 23,
   "id": "1b72ddac-cb4a-4a83-ba0c-9f39398bc287",
   "metadata": {},
   "outputs": [
    {
     "name": "stdout",
     "output_type": "stream",
     "text": [
      "change님 회원가입이 완료되었습니다.\n",
      "비밀번호가 일치하지 않습니다.\n"
     ]
    }
   ],
   "source": [
    "sign_up('change', '1234', '1234')\n",
    "sign_up('change', '1234', '12345')"
   ]
  },
  {
   "cell_type": "code",
   "execution_count": 25,
   "id": "9df40967-c620-4b44-80e0-50922dbe1409",
   "metadata": {},
   "outputs": [
    {
     "name": "stdout",
     "output_type": "stream",
     "text": [
      "change님 회원가입이 완료되었습니다.\n"
     ]
    }
   ],
   "source": [
    "# 데이터를 여러개 넣어야되는 상황에서 편하게 사용하기\n",
    "\n",
    "account = {\n",
    "    'id': 'change',\n",
    "    'pw': '1234',\n",
    "    'pw_confirmation': '1234',\n",
    "}\n",
    "sign_up(**account)"
   ]
  },
  {
   "cell_type": "markdown",
   "id": "85df1d95-be5f-42f1-b815-ce5987951b79",
   "metadata": {},
   "source": [
    "### lambda 표현식\n",
    "```python\n",
    "lambda parameter: expression\n",
    "```"
   ]
  },
  {
   "cell_type": "code",
   "execution_count": 29,
   "id": "785a0be4-d067-4a2d-82c7-9f7d93dfee7b",
   "metadata": {},
   "outputs": [
    {
     "data": {
      "text/plain": [
       "3"
      ]
     },
     "execution_count": 29,
     "metadata": {},
     "output_type": "execute_result"
    }
   ],
   "source": [
    "# 임시함수 같은것\n",
    "(lambda x, y: x + y)(1, 2)\n",
    "# 실행과 동시에 선언함\n",
    "# 일회용함수 / 임시로 만들어야 되는 상황"
   ]
  },
  {
   "cell_type": "code",
   "execution_count": 31,
   "id": "fe4750d1-7d87-4df1-91b3-4c18b3c73bcf",
   "metadata": {},
   "outputs": [
    {
     "data": {
      "text/plain": [
       "3"
      ]
     },
     "execution_count": 31,
     "metadata": {},
     "output_type": "execute_result"
    }
   ],
   "source": [
    "# 위 람다 표현식을 함수로 표현했을 때\n",
    "def my_sum(x, y):\n",
    "    return x + y\n",
    "\n",
    "my_sum(1, 2)"
   ]
  },
  {
   "cell_type": "markdown",
   "id": "e63c2f12-34db-437b-8a6c-ec320928d2ef",
   "metadata": {},
   "source": [
    "### 타입힌트"
   ]
  },
  {
   "cell_type": "code",
   "execution_count": 34,
   "id": "e2bc5556-8746-4741-b55a-8c1c2166025b",
   "metadata": {},
   "outputs": [
    {
     "ename": "SyntaxError",
     "evalue": "expected ':' (1104018971.py, line 1)",
     "output_type": "error",
     "traceback": [
      "\u001b[1;36m  Cell \u001b[1;32mIn[34], line 1\u001b[1;36m\u001b[0m\n\u001b[1;33m    def my_sum(a: int, b: int) -> int\u001b[0m\n\u001b[1;37m                                     ^\u001b[0m\n\u001b[1;31mSyntaxError\u001b[0m\u001b[1;31m:\u001b[0m expected ':'\n"
     ]
    }
   ],
   "source": [
    "def my_sum(a: int, b: int) -> int\n",
    "    return a + b"
   ]
  },
  {
   "cell_type": "code",
   "execution_count": 35,
   "id": "cef6154f-8c95-46dc-83bb-aae0e0372e8b",
   "metadata": {},
   "outputs": [
    {
     "ename": "TypeError",
     "evalue": "can only concatenate str (not \"int\") to str",
     "output_type": "error",
     "traceback": [
      "\u001b[1;31m---------------------------------------------------------------------------\u001b[0m",
      "\u001b[1;31mTypeError\u001b[0m                                 Traceback (most recent call last)",
      "Cell \u001b[1;32mIn[35], line 1\u001b[0m\n\u001b[1;32m----> 1\u001b[0m \u001b[43mmy_sum\u001b[49m\u001b[43m(\u001b[49m\u001b[38;5;124;43m'\u001b[39;49m\u001b[38;5;124;43m1\u001b[39;49m\u001b[38;5;124;43m'\u001b[39;49m\u001b[43m,\u001b[49m\u001b[43m \u001b[49m\u001b[38;5;241;43m2\u001b[39;49m\u001b[43m)\u001b[49m\n\u001b[0;32m      2\u001b[0m \u001b[38;5;66;03m# 글자를 넣어버렸을 때 제대로 작동되지 않음\u001b[39;00m\n\u001b[0;32m      3\u001b[0m \u001b[38;5;66;03m# 파이썬 말고 다른 언어는 \u001b[39;00m\n",
      "Cell \u001b[1;32mIn[32], line 2\u001b[0m, in \u001b[0;36mmy_sum\u001b[1;34m(a, b)\u001b[0m\n\u001b[0;32m      1\u001b[0m \u001b[38;5;28;01mdef\u001b[39;00m \u001b[38;5;21mmy_sum\u001b[39m(a, b):\n\u001b[1;32m----> 2\u001b[0m     \u001b[38;5;28;01mreturn\u001b[39;00m \u001b[43ma\u001b[49m\u001b[43m \u001b[49m\u001b[38;5;241;43m+\u001b[39;49m\u001b[43m \u001b[49m\u001b[43mb\u001b[49m\n",
      "\u001b[1;31mTypeError\u001b[0m: can only concatenate str (not \"int\") to str"
     ]
    }
   ],
   "source": [
    "my_sum('1', 2)\n",
    "# 글자를 넣어버렸을 때 제대로 작동되지 않음\n",
    "# 파이썬 말고 다른 언어는 "
   ]
  },
  {
   "cell_type": "markdown",
   "id": "20c8e56d-b89f-45cf-842e-26b67277c58d",
   "metadata": {},
   "source": [
    "### 이름공간(scope)\n",
    "python에서 사용되는 이름들은 이름공간(namespace)에 저장되어있습니다.\n",
    "\n",
    "- L (Local scope) : 정의된 함수 내부(제일 가까운곳)\n",
    "- E (Enclosed scope) : 상위 함수(함수 혹은 클래스)\n",
    "- G (Global scope) : 함수 밖의 변수 혹은 import된 모듈\n",
    "- B (Built-in scope) : python이 기본적으로 가지고 있는 함수 혹은 변수"
   ]
  },
  {
   "cell_type": "code",
   "execution_count": 1,
   "id": "4af4a045-2235-45f8-a00a-5a7cb95effd9",
   "metadata": {},
   "outputs": [],
   "source": [
    "str = '123'"
   ]
  },
  {
   "cell_type": "code",
   "execution_count": 2,
   "id": "7a5e94c4-0d89-4f9f-a6d4-a6f9038f8e93",
   "metadata": {},
   "outputs": [
    {
     "name": "stdout",
     "output_type": "stream",
     "text": [
      "123\n"
     ]
    }
   ],
   "source": [
    "print(str)\n",
    "# str이라는 이름은 숫자를 글자로 형변환 할때 "
   ]
  },
  {
   "cell_type": "code",
   "execution_count": 3,
   "id": "27c3632c-c560-4499-8046-c45e779f51b3",
   "metadata": {},
   "outputs": [
    {
     "ename": "TypeError",
     "evalue": "'str' object is not callable",
     "output_type": "error",
     "traceback": [
      "\u001b[1;31m---------------------------------------------------------------------------\u001b[0m",
      "\u001b[1;31mTypeError\u001b[0m                                 Traceback (most recent call last)",
      "Cell \u001b[1;32mIn[3], line 1\u001b[0m\n\u001b[1;32m----> 1\u001b[0m \u001b[38;5;28;43mstr\u001b[39;49m\u001b[43m(\u001b[49m\u001b[38;5;241;43m123\u001b[39;49m\u001b[43m)\u001b[49m\n\u001b[0;32m      2\u001b[0m \u001b[38;5;66;03m# ex)내가 아는 유재석이랑 다른 사람이 아는 유재석이랑 다른 것 처럼 \u001b[39;00m\n",
      "\u001b[1;31mTypeError\u001b[0m: 'str' object is not callable"
     ]
    }
   ],
   "source": [
    "str(123)\n",
    "# ex)내가 아는 유재석이랑 다른 사람이 아는 유재석이랑 다른 것 처럼 "
   ]
  },
  {
   "cell_type": "code",
   "execution_count": 5,
   "id": "24a7bd91-b53f-4e25-b3be-cb53ac764d96",
   "metadata": {},
   "outputs": [
    {
     "ename": "NameError",
     "evalue": "name 'str' is not defined",
     "output_type": "error",
     "traceback": [
      "\u001b[1;31m---------------------------------------------------------------------------\u001b[0m",
      "\u001b[1;31mNameError\u001b[0m                                 Traceback (most recent call last)",
      "Cell \u001b[1;32mIn[5], line 1\u001b[0m\n\u001b[1;32m----> 1\u001b[0m \u001b[38;5;28;01mdel\u001b[39;00m \u001b[38;5;28;43mstr\u001b[39;49m\n\u001b[0;32m      2\u001b[0m \u001b[38;5;66;03m# 위에서 만들어놨던 str이라는 공간(상자)을 지워버림\u001b[39;00m\n",
      "\u001b[1;31mNameError\u001b[0m: name 'str' is not defined"
     ]
    }
   ],
   "source": [
    "del str\n",
    "# 위에서 만들어놨던 str이라는 공간(상자)을 지워버림"
   ]
  },
  {
   "cell_type": "code",
   "execution_count": 8,
   "id": "29388086-e2d1-4de2-8ea4-2f1036daa3d1",
   "metadata": {},
   "outputs": [
    {
     "name": "stdout",
     "output_type": "stream",
     "text": [
      "5\n",
      "1\n"
     ]
    }
   ],
   "source": [
    "a = 1\n",
    "\n",
    "def local_scope(a):\n",
    "    # a = 5 \n",
    "    print(a)\n",
    "\n",
    "local_scope(5)\n",
    "print(a)"
   ]
  },
  {
   "cell_type": "code",
   "execution_count": 9,
   "id": "c83cca2c-2201-4478-97f0-7d2e5f63ce95",
   "metadata": {},
   "outputs": [
    {
     "name": "stdout",
     "output_type": "stream",
     "text": [
      "10\n"
     ]
    }
   ],
   "source": [
    "# 확장해서 생각\n",
    "# 이 안에서 밖에 있는 값에 접근하고 싶을 때\n",
    "\n",
    "a = 10\n",
    "\n",
    "def global_scope():\n",
    "    # 나 a 쓸건데 바깥에 있는 a 쓸거야라고 말을 해줘야됌\n",
    "    global a\n",
    "    print(a)\n",
    "\n",
    "global_scope()"
   ]
  },
  {
   "cell_type": "markdown",
   "id": "3a8e721f-a153-4f5a-a358-495a3794e1d0",
   "metadata": {},
   "source": [
    "### 재귀(recursive)\n",
    "재귀 함수는 함수 내부에서 자기 자신을 호출하는 함수를 의미한다."
   ]
  },
  {
   "cell_type": "code",
   "execution_count": 12,
   "id": "cff306b8-b37c-40b3-bbea-ee1dc1d2a141",
   "metadata": {},
   "outputs": [
    {
     "name": "stdout",
     "output_type": "stream",
     "text": [
      "120\n"
     ]
    }
   ],
   "source": [
    "# 팩토리얼(n! = 1 * 2 * 3 * ... * n)\n",
    "\n",
    "def fact(n):\n",
    "    result = 1\n",
    "# 0을 곱하면 0이되서 1부터 시작해서 곱할것임.\n",
    "    while n > 1:\n",
    "        result = result * n\n",
    "        # result *= n\n",
    "\n",
    "        n = n -1\n",
    "        # n -= 1\n",
    "    \n",
    "    return result\n",
    "\n",
    "print(fact(5))"
   ]
  },
  {
   "cell_type": "code",
   "execution_count": 13,
   "id": "e60ce8b2-580e-40a2-963a-1d9f8177488d",
   "metadata": {},
   "outputs": [
    {
     "ename": "SyntaxError",
     "evalue": "invalid syntax (647940081.py, line 1)",
     "output_type": "error",
     "traceback": [
      "\u001b[1;36m  Cell \u001b[1;32mIn[13], line 1\u001b[1;36m\u001b[0m\n\u001b[1;33m    n! = 1 * 2* 3* ... * n-1 * n\u001b[0m\n\u001b[1;37m     ^\u001b[0m\n\u001b[1;31mSyntaxError\u001b[0m\u001b[1;31m:\u001b[0m invalid syntax\n"
     ]
    }
   ],
   "source": [
    "n! = 1 * 2* 3* ... * n-1 * n\n",
    "\n",
    "- 1! = 1\n",
    "- 2! = 1 * 2 = 1! * 2\n",
    "- 3! = 1 * 2 * 3 = 2! * 3\n",
    "- 4! = 1 * 2 * 3 * 4 = 3! * 4"
   ]
  },
  {
   "cell_type": "code",
   "execution_count": 15,
   "id": "d9e82fd2-2f54-4736-bc88-1b8f24014a88",
   "metadata": {},
   "outputs": [
    {
     "name": "stdout",
     "output_type": "stream",
     "text": [
      "120\n"
     ]
    }
   ],
   "source": [
    "def factorial(n):\n",
    "    #재귀함수는 while문과 비슷함\n",
    "    if n <= 1:\n",
    "        return 1\n",
    "    else:\n",
    "        return factorial(n-1) * n\n",
    "        # f(n) = f(n-1) * n\n",
    "print(factorial(5))"
   ]
  },
  {
   "cell_type": "markdown",
   "id": "38a3fae4-ea00-4058-ab77-71d95f3a0a08",
   "metadata": {},
   "source": [
    "### 피보나치 수열\n",
    "- F(0) = F(1) = 1\n",
    "- F(N) = F(N-1) + F(N-2)"
   ]
  },
  {
   "cell_type": "code",
   "execution_count": 16,
   "id": "6de313db-fd3a-4720-9cb0-90e10818d5ed",
   "metadata": {},
   "outputs": [
    {
     "name": "stdout",
     "output_type": "stream",
     "text": [
      "89\n"
     ]
    }
   ],
   "source": [
    "# 반복문\n",
    "def fib_loop(n):\n",
    "    result = [1, 1]\n",
    "\n",
    "    for i in range(1, n):\n",
    "        end1 = result[-1]\n",
    "        end2 = result[-2]\n",
    "\n",
    "        fib_num = end1 + end2\n",
    "\n",
    "        result.append(fib_num)\n",
    "        \n",
    "    return result[-1]\n",
    "\n",
    "print(fib_loop(10))"
   ]
  },
  {
   "cell_type": "code",
   "execution_count": 17,
   "id": "c86d89ec-ea6a-4c55-bbf7-0dd1cd838462",
   "metadata": {},
   "outputs": [
    {
     "name": "stdout",
     "output_type": "stream",
     "text": [
      "89\n"
     ]
    }
   ],
   "source": [
    "# 위 코드는 재귀함수로 호출하기\n",
    "def fib_rec(n):\n",
    "    if n == 0 or n == 1:\n",
    "        return 1\n",
    "    else:\n",
    "        return fib_rec(n-1) + fib_rec(n-2)\n",
    "        \n",
    "print(fib_loop(10))"
   ]
  },
  {
   "cell_type": "code",
   "execution_count": null,
   "id": "ad7dfe1a-a6be-414f-ad22-35af484c4115",
   "metadata": {},
   "outputs": [],
   "source": []
  },
  {
   "cell_type": "code",
   "execution_count": null,
   "id": "a6bad596-b7c2-428c-b0a0-4af3259e02bd",
   "metadata": {},
   "outputs": [],
   "source": []
  }
 ],
 "metadata": {
  "kernelspec": {
   "display_name": "Python 3 (ipykernel)",
   "language": "python",
   "name": "python3"
  },
  "language_info": {
   "codemirror_mode": {
    "name": "ipython",
    "version": 3
   },
   "file_extension": ".py",
   "mimetype": "text/x-python",
   "name": "python",
   "nbconvert_exporter": "python",
   "pygments_lexer": "ipython3",
   "version": "3.11.5"
  }
 },
 "nbformat": 4,
 "nbformat_minor": 5
}
