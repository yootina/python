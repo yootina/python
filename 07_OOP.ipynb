{
 "cells": [
  {
   "cell_type": "markdown",
   "id": "ea6e65bb-db02-4198-a7a8-e8dcd8544a3e",
   "metadata": {},
   "source": [
    "# 객체지향 프로그래밍(OOP)\n",
    "\n",
    "- 클래스(class) : 같은 종류의 집단에 속하는 속성(attribute)과 행위(method)를 **정의**한것\n",
    "- 인스턴스(instance) : 클래스를 실제로 메모리상에 할당한것\n",
    "- 속성(attribute) : 클래스/인스턴스가 가지고 있는 **데이터**/값\n",
    "- 행위(method) : 클래스/인스턴스가 가지고 있는 **함수**/기능"
   ]
  },
  {
   "cell_type": "code",
   "execution_count": 4,
   "id": "9669916b-f3bd-4918-8134-bddea4cd4c97",
   "metadata": {},
   "outputs": [],
   "source": [
    "number = 1 + 1j #숫자라고 하는 정의"
   ]
  },
  {
   "cell_type": "code",
   "execution_count": 5,
   "id": "84fbd819-6741-45c7-a72c-ce956c3f5a27",
   "metadata": {},
   "outputs": [
    {
     "data": {
      "text/plain": [
       "complex"
      ]
     },
     "execution_count": 5,
     "metadata": {},
     "output_type": "execute_result"
    }
   ],
   "source": [
    "type(number)"
   ]
  },
  {
   "cell_type": "code",
   "execution_count": 7,
   "id": "8ec87f2e-5807-4825-b3a9-d43e9f1cd17e",
   "metadata": {},
   "outputs": [
    {
     "name": "stdout",
     "output_type": "stream",
     "text": [
      "1.0\n",
      "1.0\n"
     ]
    }
   ],
   "source": [
    "print(number.real)\n",
    "print(number.imag)\n",
    "# 속성을 정의한것"
   ]
  },
  {
   "cell_type": "code",
   "execution_count": 11,
   "id": "d71abbe3-1e45-44b4-9b7c-0046c6260213",
   "metadata": {},
   "outputs": [
    {
     "name": "stdout",
     "output_type": "stream",
     "text": [
      "<class 'list'>\n",
      "[4, 3, 2, 1]\n"
     ]
    }
   ],
   "source": [
    "my_list = [1, 2, 3, 4]\n",
    "print(type(my_list))\n",
    "my_list.reverse()\n",
    "print(my_list)\n",
    "# 행위를 정의한것"
   ]
  },
  {
   "cell_type": "code",
   "execution_count": 15,
   "id": "e30634d2-4e0c-4e98-9bad-63955a7a3d4c",
   "metadata": {},
   "outputs": [
    {
     "name": "stdout",
     "output_type": "stream",
     "text": [
      "핸드폰이 켜졌습니다\n"
     ]
    }
   ],
   "source": [
    "power = False\n",
    "number = '010-1234-1234'\n",
    "book = {\n",
    "    '홍길동': '010-1234-1111',\n",
    "    '이순신': '010-1234-2222',\n",
    "}\n",
    "\n",
    "def on():\n",
    "    global power\n",
    "    if power == False:\n",
    "        power = True\n",
    "        print('핸드폰이 켜졌습니다')\n",
    "on()"
   ]
  },
  {
   "cell_type": "markdown",
   "id": "5907845f-657c-4b16-a16d-0507b133dee8",
   "metadata": {},
   "source": [
    "## Class\n",
    "\n",
    "- 클래스 선언\n",
    "```python\n",
    "class ClassName: # 글자를 다르게 함, Class는 단어들의 집합으로 만들어줄것임.\n",
    "    attribute = value\n",
    "\n",
    "    def method_name(self):\n",
    "        code\n",
    "```\n",
    "\n",
    "- 인스턴스화\n",
    "\n",
    "  ClassName()"
   ]
  },
  {
   "cell_type": "code",
   "execution_count": 17,
   "id": "2c9f9dba-dc86-43fc-b9ef-af29fd05bb4d",
   "metadata": {},
   "outputs": [],
   "source": [
    "# 선언\n",
    "class MyClass:\n",
    "    name = 'kim'\n",
    "\n",
    "    def hello(self):\n",
    "        return 'hello'"
   ]
  },
  {
   "cell_type": "code",
   "execution_count": 22,
   "id": "be0fd2b8-64cb-4d54-bb7f-7613d6af7a79",
   "metadata": {},
   "outputs": [
    {
     "name": "stdout",
     "output_type": "stream",
     "text": [
      "<class '__main__.MyClass'>\n",
      "kim\n",
      "hello\n",
      "park\n",
      "hello\n"
     ]
    }
   ],
   "source": [
    "# 인스턴스화\n",
    "a = MyClass()\n",
    "print(type(a))\n",
    "\n",
    "print(a.name)\n",
    "print(a.hello())\n",
    "\n",
    "b = MyClass()\n",
    "b.name = 'park'\n",
    "print(b.name)\n",
    "print(b.hello())\n",
    "\n",
    "# a,b 는 서로 완전히 다른 독립된 개체를 가지고 있음."
   ]
  },
  {
   "cell_type": "code",
   "execution_count": 35,
   "id": "3aa8d733-4e05-4f06-ae33-81ea09529214",
   "metadata": {},
   "outputs": [],
   "source": [
    "class Phone:\n",
    "    power = False\n",
    "    number = '010-1234-0000'\n",
    "    book = {}\n",
    "    model = ''\n",
    "\n",
    "    def on(self):\n",
    "        if self.power == False:\n",
    "            self.power = True\n",
    "\n",
    "    def off(self):\n",
    "        if self.power == True:\n",
    "            self.power = False\n",
    "\n",
    "    def call(self, target):\n",
    "        if self.power == True:\n",
    "            print(f'제 번호는 {self.number}입니다')\n",
    "            print(f'{target}으로 전화거는중')\n",
    "        else:\n",
    "            print('핸드폰을 켜주세요')\n",
    "        "
   ]
  },
  {
   "cell_type": "code",
   "execution_count": 36,
   "id": "6080e4ab-22a2-4a88-a253-4eb77a094b8e",
   "metadata": {},
   "outputs": [],
   "source": [
    "my_phone = Phone()\n",
    "your_phone = Phone()"
   ]
  },
  {
   "cell_type": "code",
   "execution_count": 37,
   "id": "08ad7905-50ac-4216-8b3d-931700ef3506",
   "metadata": {},
   "outputs": [
    {
     "name": "stdout",
     "output_type": "stream",
     "text": [
      "010-1234-1111\n"
     ]
    }
   ],
   "source": [
    "my_phone.number = '010-1234-1111'\n",
    "print(my_phone.number)"
   ]
  },
  {
   "cell_type": "code",
   "execution_count": 38,
   "id": "1fd9bc59-61ed-432b-8e4d-3ff5c003d0cd",
   "metadata": {},
   "outputs": [
    {
     "name": "stdout",
     "output_type": "stream",
     "text": [
      "010-1234-0000\n"
     ]
    }
   ],
   "source": [
    "print(your_phone.number)"
   ]
  },
  {
   "cell_type": "code",
   "execution_count": 40,
   "id": "3b206a25-c320-425f-962a-ab27f5c5cee9",
   "metadata": {},
   "outputs": [
    {
     "name": "stdout",
     "output_type": "stream",
     "text": [
      "True\n",
      "False\n",
      "False\n"
     ]
    }
   ],
   "source": [
    "my_phone.on() # => my_phone.on(my_phone)\n",
    "print(my_phone.power)\n",
    "print(your_phone.power)\n",
    "\n",
    "my_phone.off()\n",
    "print(my_phone.power)"
   ]
  },
  {
   "cell_type": "code",
   "execution_count": 45,
   "id": "f87c7479-7e8e-4659-926c-817e2a5321cd",
   "metadata": {},
   "outputs": [
    {
     "name": "stdout",
     "output_type": "stream",
     "text": [
      "제 번호는 010-1234-1111입니다\n",
      "112으로 전화거는중\n",
      "핸드폰을 켜주세요\n"
     ]
    }
   ],
   "source": [
    "my_phone.on()\n",
    "my_phone.call('112')\n",
    "\n",
    "your_phone.off()\n",
    "your_phone.call('119')"
   ]
  },
  {
   "cell_type": "code",
   "execution_count": 62,
   "id": "3f2edf02-a7bb-478f-9dfc-b5485baae73e",
   "metadata": {},
   "outputs": [],
   "source": [
    "# 연습 (**나중에 다시 연습하기**)\n",
    "# 클래스를 지정하고 행동을 지정\n",
    "\n",
    "class MyList:\n",
    "    data = []\n",
    "\n",
    "    def append(self, item):\n",
    "        # self.data.append(item) => 이 방법이 적합하진 않음 list copy 참조\n",
    "        self.data = self.data + [item]\n",
    "        \n",
    "    def pop(self):\n",
    "        # result = self.data[-1]\n",
    "        self.data = self.data[:-1]\n",
    "        # return result\n",
    "        "
   ]
  },
  {
   "cell_type": "code",
   "execution_count": 63,
   "id": "c81942d2-46c8-4d59-acdd-dc9b3d110509",
   "metadata": {},
   "outputs": [
    {
     "name": "stdout",
     "output_type": "stream",
     "text": [
      "[]\n",
      "[5]\n",
      "[5, 10]\n",
      "[5]\n"
     ]
    }
   ],
   "source": [
    "list_a = MyList()\n",
    "\n",
    "print(list_a.data) # => []\n",
    "\n",
    "list_a.append(5)\n",
    "print(list_a.data) # => [5]\n",
    "list_a.append(10)\n",
    "print(list_a.data) # => [5, 10]\n",
    "\n",
    "list_a.pop()\n",
    "print(list_a.data)# => [5]"
   ]
  },
  {
   "cell_type": "markdown",
   "id": "e4840353-b827-4ce2-8129-ed72b61ce7a1",
   "metadata": {},
   "source": [
    "## 생성자, 소멸자\n",
    "\n",
    "```python\n",
    "class MyClass:\n",
    "\n",
    "    def __init__(self):\n",
    "    \n",
    "\n",
    "    def __del__(self):\n",
    "    pass\n",
    "```"
   ]
  },
  {
   "cell_type": "code",
   "execution_count": 72,
   "id": "a673981e-4e28-4f05-95fe-954a50b19689",
   "metadata": {},
   "outputs": [],
   "source": [
    "class Person:\n",
    "    name = 'noname'\n",
    "\n",
    "    def __init__(self, name='익명'): # ='익명'은 init함수를 실행하는 순간 기본값인자를 넣어준것\n",
    "        self.name = name\n",
    "        print('생성됨')\n",
    "\n",
    "    def __del__(self):\n",
    "        print('소멸됨')\n",
    "        "
   ]
  },
  {
   "cell_type": "code",
   "execution_count": 83,
   "id": "9b5125a1-2fa8-4ed9-8114-624c2a46cf9e",
   "metadata": {},
   "outputs": [
    {
     "name": "stdout",
     "output_type": "stream",
     "text": [
      "생성됨\n",
      "<__main__.Person object at 0x0000017A8555B910>\n",
      "kim\n",
      "생성됨\n",
      "소멸됨\n",
      "Park\n",
      "생성됨\n",
      "소멸됨\n",
      "익명\n",
      "noname\n",
      "010-1234-1234\n"
     ]
    }
   ],
   "source": [
    "p1 = Person('kim') # => Person.__init__()\n",
    "print(p1)\n",
    "print(p1.name)\n",
    "\n",
    "p2 = Person('Park')\n",
    "print(p2.name)\n",
    "\n",
    "p3 = Person()\n",
    "print(p3.name)\n",
    "\n",
    "\n",
    "# class 데이터에 접근하기\n",
    "print(Person.name)\n",
    "\n",
    "p1.phone = '010-1234-1234'\n",
    "print(p1.phone)"
   ]
  },
  {
   "cell_type": "code",
   "execution_count": 84,
   "id": "21ff8657-0c01-4209-a4b6-dfce2a7889ef",
   "metadata": {},
   "outputs": [
    {
     "name": "stdout",
     "output_type": "stream",
     "text": [
      "소멸됨\n"
     ]
    }
   ],
   "source": [
    "del p1"
   ]
  },
  {
   "cell_type": "code",
   "execution_count": 103,
   "id": "faea087c-789b-4e22-977b-113384dffb96",
   "metadata": {},
   "outputs": [],
   "source": [
    "# Circle\n",
    "\n",
    "class Circle:\n",
    "    pi = 3.14\n",
    "\n",
    "    def __init__(self, r, x, y):\n",
    "        self.r = r\n",
    "        self.x = x\n",
    "        self.y = y\n",
    "\n",
    "    def area(self):\n",
    "        return self.pi * self.r ** 2\n",
    "\n",
    "    def move(self, x, y):\n",
    "        self.x = x\n",
    "        self.y = y\n",
    "        print(f'원의 중심이 {self.x}, {self.y}로 이동했습니다.')\n",
    "\n",
    "    def center(self):\n",
    "        return (self.x, self.y)\n",
    "\n",
    "    def round(self):\n",
    "        return self.r * self.pi * 2"
   ]
  },
  {
   "cell_type": "code",
   "execution_count": 105,
   "id": "c46b38c1-267a-4a5c-a930-b7b94bcf9196",
   "metadata": {},
   "outputs": [
    {
     "name": "stdout",
     "output_type": "stream",
     "text": [
      "3\n",
      "28.26\n",
      "원의 중심이 0, 0로 이동했습니다.\n",
      "(0, 0)\n",
      "10\n",
      "314.0\n",
      "원의 중심이 0, 0로 이동했습니다.\n",
      "(0, 0)\n"
     ]
    },
    {
     "ename": "TypeError",
     "evalue": "Circle.__init__() missing 2 required positional arguments: 'x' and 'y'",
     "output_type": "error",
     "traceback": [
      "\u001b[1;31m---------------------------------------------------------------------------\u001b[0m",
      "\u001b[1;31mTypeError\u001b[0m                                 Traceback (most recent call last)",
      "Cell \u001b[1;32mIn[105], line 16\u001b[0m\n\u001b[0;32m     12\u001b[0m \u001b[38;5;28mprint\u001b[39m(c2\u001b[38;5;241m.\u001b[39mcenter())\n\u001b[0;32m     14\u001b[0m \u001b[38;5;66;03m# __init__에 정의를 한다.\u001b[39;00m\n\u001b[1;32m---> 16\u001b[0m c3 \u001b[38;5;241m=\u001b[39m \u001b[43mCircle\u001b[49m\u001b[43m(\u001b[49m\u001b[38;5;241;43m5\u001b[39;49m\u001b[43m)\u001b[49m\n\u001b[0;32m     17\u001b[0m \u001b[38;5;28mprint\u001b[39m(c3\u001b[38;5;241m.\u001b[39mcenter())\n",
      "\u001b[1;31mTypeError\u001b[0m: Circle.__init__() missing 2 required positional arguments: 'x' and 'y'"
     ]
    }
   ],
   "source": [
    "c1 = Circle(3, 5, 5)\n",
    "print(c1.r)\n",
    "print(c1.area()) # 원이 할 수 있는 기능\n",
    "c1.move(0, 0)\n",
    "print(c1.center())\n",
    "\n",
    "\n",
    "c2 = Circle(10, 0, 0)\n",
    "print(c2.r)\n",
    "print(c2.area())\n",
    "c2.move(0, 0)\n",
    "print(c2.center())\n",
    "\n",
    "# __init__에 정의를 한다.\n",
    "\n",
    "c3 = Circle(5)\n",
    "print(c3.center())"
   ]
  },
  {
   "cell_type": "code",
   "execution_count": 130,
   "id": "99630fcf-4e45-4d16-9305-7f3cccf10036",
   "metadata": {},
   "outputs": [],
   "source": [
    "# Point\n",
    "class Point:\n",
    "    def __init__(self, x, y):\n",
    "        self.x = x\n",
    "        self.y = y\n",
    "        \n",
    "    def info(self):\n",
    "        return (self.x, self.y)  \n",
    "\n",
    "\n",
    "# Circle\n",
    "class Circle:\n",
    "    \n",
    "    def __init__(self, point, r):\n",
    "        self.point = point\n",
    "        self.r = r\n",
    "        \n",
    "    def info(self):\n",
    "        return (self.point.x, self.point.y, self.r)\n",
    "\n",
    "    def move(self, x, y):\n",
    "        self.point.x = x\n",
    "        self.point.y = y\n"
   ]
  },
  {
   "cell_type": "code",
   "execution_count": 132,
   "id": "c49278a8-dc4f-4fc2-ae8c-5e93f25c1a94",
   "metadata": {},
   "outputs": [
    {
     "name": "stdout",
     "output_type": "stream",
     "text": [
      "(3, 3)\n",
      "(3, 3)\n",
      "(3, 3, 10)\n",
      "(5, 5, 10)\n",
      "(5, 5)\n"
     ]
    }
   ],
   "source": [
    "p1 = Point(3, 3)\n",
    "print(p1.info())\n",
    "\n",
    "c1 = Circle(p1, 10)\n",
    "print(c1.point.info())\n",
    "print(c1.info())\n",
    "\n",
    "c1.move(5, 5)\n",
    "print(c1.info())\n",
    "print(p1.info())"
   ]
  },
  {
   "cell_type": "code",
   "execution_count": 134,
   "id": "3df40d98-b2e7-47e0-9f34-fd73fb8a67e5",
   "metadata": {},
   "outputs": [
    {
     "name": "stdout",
     "output_type": "stream",
     "text": [
      "(5, 5, 5)\n"
     ]
    }
   ],
   "source": [
    "c2 = Circle(p1, 5)\n",
    "print(c2.info())"
   ]
  },
  {
   "cell_type": "markdown",
   "id": "8e895a8f-1ce3-4d77-9b79-c76a03a67d1e",
   "metadata": {},
   "source": [
    "### 클래스변수\n",
    "- 클래스 선언 블록 최상단에 위치\n",
    "\n",
    "### 인스턴스변수\n",
    "- 인스턴스 내부에서 생성한 변수( `self.variable` = )\n",
    "\n",
    "\n",
    "```python\n",
    "class MyClass:\n",
    "    class_variable = '클래스변수'\n",
    "\n",
    "    def __init__(self, name):\n",
    "        self.instance_variable = '인스턴스변수'\n",
    "\n",
    "\n",
    "```"
   ]
  },
  {
   "cell_type": "code",
   "execution_count": 138,
   "id": "790b7ebf-0bcf-4e74-9bad-f47a7fcbbeff",
   "metadata": {},
   "outputs": [],
   "source": [
    "class Person:\n",
    "    name = '홍길동'\n",
    "    phone = '010-1234-1234'\n",
    "\n",
    "    def __init__(self, name):\n",
    "        self.name = name"
   ]
  },
  {
   "cell_type": "code",
   "execution_count": 140,
   "id": "22571928-928f-42a2-a985-e6b8faaaea1f",
   "metadata": {},
   "outputs": [
    {
     "name": "stdout",
     "output_type": "stream",
     "text": [
      "유티나\n",
      "홍길동\n",
      "010-1234-1234\n"
     ]
    }
   ],
   "source": [
    "p1 = Person('유티나')\n",
    "print(p1.name)\n",
    "print(Person.name)\n",
    "\n",
    "print(p1.phone)\n",
    "#print(p1.location)"
   ]
  },
  {
   "cell_type": "markdown",
   "id": "079a0216-20fb-4e9f-a2b8-248fa5e8c616",
   "metadata": {},
   "source": [
    "### 클래스메소드, 인스턴스메소드, 스태틱메소드\n",
    "\n",
    "```python\n",
    "class MyClass:\n",
    "    def instance_method(self):\n",
    "        pass\n",
    "        \n",
    "    @classmethod\n",
    "    def class_method(cls):\n",
    "        pass\n",
    "        \n",
    "    @staticmethod\n",
    "    def static_method():\n",
    "        pass\n",
    "\n",
    "```"
   ]
  },
  {
   "cell_type": "code",
   "execution_count": 143,
   "id": "42538ce9-07e2-4bc2-9957-8303455b125b",
   "metadata": {},
   "outputs": [],
   "source": [
    "class MyClass:\n",
    "    def instance_method(self):\n",
    "        return self\n",
    "        \n",
    "    @classmethod\n",
    "    def class_method(cls):\n",
    "        return cls\n",
    "        \n",
    "    @staticmethod\n",
    "    def static_method():\n",
    "        return 'hello'"
   ]
  },
  {
   "cell_type": "code",
   "execution_count": 147,
   "id": "06e2b258-49e2-414f-92cc-8375b7d4c3fb",
   "metadata": {},
   "outputs": [
    {
     "name": "stdout",
     "output_type": "stream",
     "text": [
      "<__main__.MyClass object at 0x0000017A85567810>\n",
      "<class '__main__.MyClass'>\n",
      "<class '__main__.MyClass'>\n",
      "hello\n"
     ]
    }
   ],
   "source": [
    "c = MyClass()\n",
    "\n",
    "print(c.instance_method())\n",
    "print(c.class_method())\n",
    "print(MyClass.class_method()) #클래스 다른 방법\n",
    "print(c.static_method())"
   ]
  },
  {
   "cell_type": "code",
   "execution_count": 170,
   "id": "bec88626-9af7-416a-b2ec-f86472b62327",
   "metadata": {},
   "outputs": [],
   "source": [
    "# 응용\n",
    "\n",
    "class Puppy:\n",
    "    num_of_puppy = 0\n",
    "    \n",
    "    def __init__(self, name):\n",
    "        self.name = name\n",
    "        Puppy.num_of_puppy += 1\n",
    "\n",
    "    @classmethod # 표시를 꼭 해줘야됌\n",
    "    def get_status(cls):\n",
    "        print(f'현재 강아지는 {cls.num_of_puppy}입니다.')\n",
    "        # 인스턴스 개수냐, 클래스 개수냐,\n",
    "    \n",
    "    @staticmethod # 강아지가 짖는 소리를 적어볼래\n",
    "    def bark(msg):\n",
    "        return msg\n",
    "\n",
    "    def bark2(self, msg):\n",
    "        return f'{self.name}은 {msg}합니다.'"
   ]
  },
  {
   "cell_type": "code",
   "execution_count": 171,
   "id": "afc86165-fc40-4e41-88a9-68ec2487905d",
   "metadata": {},
   "outputs": [
    {
     "name": "stdout",
     "output_type": "stream",
     "text": [
      "3\n",
      "3\n",
      "현재 강아지는 3입니다.\n",
      "현재 강아지는 3입니다.\n",
      "멍멍\n",
      "그르릉\n",
      "인절미은 왈왈합니다.\n"
     ]
    }
   ],
   "source": [
    "p1 = Puppy('인절미')\n",
    "p2 = Puppy('백구')\n",
    "p3 = Puppy('흰둥이')\n",
    "\n",
    "print(Puppy.num_of_puppy)\n",
    "print(p1.num_of_puppy)\n",
    "\n",
    "Puppy.get_status()\n",
    "p1.get_status()\n",
    "\n",
    "print(p1.bark('멍멍'))\n",
    "print(p2.bark('그르릉'))\n",
    "\n",
    "print(p1.bark2('왈왈'))\n",
    "# 클래스 메소드나 스태틱 메소드를 활용이 적고 인스턴스 메소드가 제일 많이 사용."
   ]
  },
  {
   "cell_type": "markdown",
   "id": "163ceb85-6189-47a0-848c-93054ab59d31",
   "metadata": {},
   "source": [
    "## 상속"
   ]
  },
  {
   "cell_type": "code",
   "execution_count": 211,
   "id": "d9ac5f50-eca6-4374-8adf-9c32a00a8eb0",
   "metadata": {},
   "outputs": [],
   "source": [
    "class Person:\n",
    "    id = 999999-9999999\n",
    "    \n",
    "    def __init__(self, name):\n",
    "        self.name = name\n",
    "\n",
    "    def greeting(self):\n",
    "        print(f'안녕하세요. {self.name}입니다.')"
   ]
  },
  {
   "cell_type": "code",
   "execution_count": 213,
   "id": "00b0a842-f1b7-44c5-b094-c7da5af72fd8",
   "metadata": {},
   "outputs": [
    {
     "name": "stdout",
     "output_type": "stream",
     "text": [
      "안녕하세요. 이순신입니다.\n"
     ]
    }
   ],
   "source": [
    "p1 = Person('이순신')\n",
    "p2 = Person('홍길동')\n",
    "\n",
    "p1.greeting()"
   ]
  },
  {
   "cell_type": "code",
   "execution_count": 214,
   "id": "6e9fcd5d-469c-4c1f-8308-c52a250c8717",
   "metadata": {},
   "outputs": [],
   "source": [
    "class Student:\n",
    "    def __init__(self, name, student_id):\n",
    "        self.self.name = name\n",
    "        self.student_id = student_id\n",
    "        \n",
    "    def greeting(self):\n",
    "        print(f'안녕하세요. {self.name}입니다.')"
   ]
  },
  {
   "cell_type": "code",
   "execution_count": 215,
   "id": "fe9f0879-04d6-4346-b902-4d9b18878816",
   "metadata": {},
   "outputs": [],
   "source": [
    "class Soldier:\n",
    "    def __init__(self, name, soldier_id):\n",
    "        self.name = name\n",
    "        self.soldier_id = soldier_id\n",
    "        \n",
    "    def greeting(self):\n",
    "        print(f'충성! {self.name}입니다.')        "
   ]
  },
  {
   "cell_type": "code",
   "execution_count": 217,
   "id": "c56da39a-a791-48d5-ad81-8c9685abb8a3",
   "metadata": {},
   "outputs": [
    {
     "name": "stdout",
     "output_type": "stream",
     "text": [
      "충성! 국방이입니다.\n"
     ]
    }
   ],
   "source": [
    "s2 = Soldier('국방이', '11-111111')\n",
    "s2.greeting()"
   ]
  },
  {
   "cell_type": "code",
   "execution_count": 181,
   "id": "3806bb4f-b1b4-4e94-9e4d-1002bee33b35",
   "metadata": {},
   "outputs": [],
   "source": [
    "# 개선판 (상속)\n",
    "class Student(Person):\n",
    "    # def __init__(self, name):\n",
    "    #     self.name = name\n",
    "\n",
    "    # def greeting(self):\n",
    "    #     print(f'안녕하세요. {self.name}입니다.')\n",
    "    \n",
    "    def __init__(self, name, student_id):\n",
    "        self.name = name\n",
    "        self.student_id = student_id"
   ]
  },
  {
   "cell_type": "code",
   "execution_count": 186,
   "id": "ae6bf221-7b01-4b9a-b638-021972605bb2",
   "metadata": {},
   "outputs": [
    {
     "name": "stdout",
     "output_type": "stream",
     "text": [
      "안녕하세요. 오창희입니다.\n"
     ]
    }
   ],
   "source": [
    "s1 = Student('오창희', '1234123') # => 인스턴스화\n",
    "s1.greeting()"
   ]
  },
  {
   "cell_type": "code",
   "execution_count": 187,
   "id": "fbb45858-ebb0-4094-b65c-b6b0f857c86a",
   "metadata": {},
   "outputs": [],
   "source": [
    "class Soldier(Person):  #모든 코드를 바꾸더라도 상속을 해야되는 경우가 있음. => 정의를 하는것\n",
    "    def __init__(self, name, soldier_id):\n",
    "        self.name = name\n",
    "        self.soldier_id = soldier_id\n",
    "\n",
    "    def greeting(self):\n",
    "        print(f'충성! {self.name}입니다.')"
   ]
  },
  {
   "cell_type": "code",
   "execution_count": 191,
   "id": "8794310e-c20f-43c2-9f6d-7d227c8e4557",
   "metadata": {},
   "outputs": [],
   "source": [
    "# 위의 코드는 상속을 받긴 했는데 거의 코드를 다써줬음.\n",
    "class Person:\n",
    "    def __init__(self, name, email, phone, location):\n",
    "        self.name = name\n",
    "        self.email = email\n",
    "        self.phone = phone\n",
    "        self.location = location\n",
    "\n",
    "class Student(Person):\n",
    "    def __init__(self, name, email, phone, location, student_id):\n",
    "        self.name = name\n",
    "        self.email = email\n",
    "        self.phone = phone\n",
    "        self.location = location\n",
    "        self.student_id = student_id\n",
    "        \n",
    "###################################################################################\n",
    "\n",
    "#함수의 정의 자체는 새로 해야됌 \n",
    "\n",
    "class Soldier(Person):\n",
    "    def __init__(self, name, email, phone, location, student_id, soldier_id):\n",
    "        # super() => Person (부모클래스)\n",
    "        super().__init__(name, email, phone, location)\n",
    "        self.soldier_id = soldier_id\n",
    "        \n",
    "# 이처럼 축약을 할 수있다."
   ]
  },
  {
   "cell_type": "code",
   "execution_count": 192,
   "id": "18c5d396-7aea-4bfa-ba87-2f8e10f1e61d",
   "metadata": {},
   "outputs": [],
   "source": [
    "class Person:\n",
    "    def __init__(self, name):\n",
    "        self.name = name\n",
    "\n",
    "    def breath(self):\n",
    "        print('후하')"
   ]
  },
  {
   "cell_type": "code",
   "execution_count": 193,
   "id": "93ed846e-b53a-4aaf-a107-aaf0e360537d",
   "metadata": {},
   "outputs": [],
   "source": [
    "class Mom(Person):\n",
    "    gene = 'xx'\n",
    "    \n",
    "    def swim(self):\n",
    "        print('어푸어푸')"
   ]
  },
  {
   "cell_type": "code",
   "execution_count": 194,
   "id": "da914846-bf11-45c2-8046-5425314bfefa",
   "metadata": {},
   "outputs": [],
   "source": [
    "class Dad(Person):\n",
    "    gene = 'xy'\n",
    "    \n",
    "    def run(self):\n",
    "        print('다다다')"
   ]
  },
  {
   "cell_type": "code",
   "execution_count": 196,
   "id": "32776bbd-49e3-4efb-943f-39e8843833c0",
   "metadata": {},
   "outputs": [],
   "source": [
    "class Baby(Dad, Mom): # Dad를 먼저 적어서 성별같은 경우는 앞에 먼저 상속을 시킨 데이터가 우선순위를 가진다.\n",
    "    pass"
   ]
  },
  {
   "cell_type": "code",
   "execution_count": 202,
   "id": "b5c2d690-0ced-449c-827a-ae06e2f2b4c9",
   "metadata": {},
   "outputs": [
    {
     "name": "stdout",
     "output_type": "stream",
     "text": [
      "금쪽이\n",
      "xy\n",
      "다다다\n",
      "어푸어푸\n",
      "후하\n"
     ]
    }
   ],
   "source": [
    "b = Baby('금쪽이')\n",
    "print(b.name)\n",
    "print(b.gene)\n",
    "\n",
    "b.run()\n",
    "b.swim()\n",
    "b.breath()"
   ]
  },
  {
   "cell_type": "code",
   "execution_count": null,
   "id": "302f1fb0-44f5-4a78-829a-58f4e282663d",
   "metadata": {},
   "outputs": [],
   "source": []
  },
  {
   "cell_type": "code",
   "execution_count": null,
   "id": "adb6c31f-4965-435b-80f9-ee2679e3b0cb",
   "metadata": {},
   "outputs": [],
   "source": []
  }
 ],
 "metadata": {
  "kernelspec": {
   "display_name": "Python 3 (ipykernel)",
   "language": "python",
   "name": "python3"
  },
  "language_info": {
   "codemirror_mode": {
    "name": "ipython",
    "version": 3
   },
   "file_extension": ".py",
   "mimetype": "text/x-python",
   "name": "python",
   "nbconvert_exporter": "python",
   "pygments_lexer": "ipython3",
   "version": "3.11.5"
  }
 },
 "nbformat": 4,
 "nbformat_minor": 5
}
