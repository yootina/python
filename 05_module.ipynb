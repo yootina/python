{
 "cells": [
  {
   "cell_type": "code",
   "execution_count": 134,
   "id": "0f91e23c-e939-4c95-8da0-13fb0130d848",
   "metadata": {},
   "outputs": [],
   "source": [
    "import fibo"
   ]
  },
  {
   "cell_type": "code",
   "execution_count": 135,
   "id": "861e2ec2-9a2e-48e4-8bed-dbdacdb4b9f6",
   "metadata": {},
   "outputs": [
    {
     "name": "stdout",
     "output_type": "stream",
     "text": [
      "<module 'fibo' from 'C:\\\\Users\\\\YOOTINA\\\\Desktop\\\\camp31\\\\python\\\\fibo.py'>\n"
     ]
    }
   ],
   "source": [
    "print(fibo)"
   ]
  },
  {
   "cell_type": "code",
   "execution_count": 136,
   "id": "c91dc893-17fb-4955-8f2f-eb1b4c357a99",
   "metadata": {},
   "outputs": [
    {
     "ename": "AttributeError",
     "evalue": "module 'fibo' has no attribute 'fib_loop'",
     "output_type": "error",
     "traceback": [
      "\u001b[1;31m---------------------------------------------------------------------------\u001b[0m",
      "\u001b[1;31mAttributeError\u001b[0m                            Traceback (most recent call last)",
      "Cell \u001b[1;32mIn[136], line 1\u001b[0m\n\u001b[1;32m----> 1\u001b[0m \u001b[43mfibo\u001b[49m\u001b[38;5;241;43m.\u001b[39;49m\u001b[43mfib_loop\u001b[49m(\u001b[38;5;241m10\u001b[39m)\n",
      "\u001b[1;31mAttributeError\u001b[0m: module 'fibo' has no attribute 'fib_loop'"
     ]
    }
   ],
   "source": [
    "fibo.fib_loop(10)"
   ]
  },
  {
   "cell_type": "code",
   "execution_count": 137,
   "id": "c25f5c66-e598-44ff-8fa7-6d3926b10930",
   "metadata": {},
   "outputs": [
    {
     "ename": "AttributeError",
     "evalue": "module 'fibo' has no attribute 'fib_rec'",
     "output_type": "error",
     "traceback": [
      "\u001b[1;31m---------------------------------------------------------------------------\u001b[0m",
      "\u001b[1;31mAttributeError\u001b[0m                            Traceback (most recent call last)",
      "Cell \u001b[1;32mIn[137], line 1\u001b[0m\n\u001b[1;32m----> 1\u001b[0m \u001b[43mfibo\u001b[49m\u001b[38;5;241;43m.\u001b[39;49m\u001b[43mfib_rec\u001b[49m(\u001b[38;5;241m5\u001b[39m)\n",
      "\u001b[1;31mAttributeError\u001b[0m: module 'fibo' has no attribute 'fib_rec'"
     ]
    }
   ],
   "source": [
    "fibo.fib_rec(5)"
   ]
  },
  {
   "cell_type": "markdown",
   "id": "efb1d9a9-bb5a-4490-91ae-74beb59c0dce",
   "metadata": {},
   "source": [
    "# 패키지\n",
    "\n",
    "```python\n",
    "    myPackage/\n",
    "        __init__.py\n",
    "        math/\n",
    "            __init__.py\n",
    "            fibo.py\n",
    "            fomula.py\n",
    "```\n",
    "패키지 안에 `__init__.py` 파일이 있어야 패키지로 인식"
   ]
  },
  {
   "cell_type": "code",
   "execution_count": 48,
   "id": "6bbf80a4-e456-4beb-ae30-433f1659e022",
   "metadata": {},
   "outputs": [],
   "source": [
    "import myPackage"
   ]
  },
  {
   "cell_type": "code",
   "execution_count": 49,
   "id": "af86c681-9dda-44bc-ba02-bff5b96bf3a6",
   "metadata": {},
   "outputs": [
    {
     "name": "stdout",
     "output_type": "stream",
     "text": [
      "<module 'myPackage' from 'C:\\\\Users\\\\YOOTINA\\\\Desktop\\\\camp31\\\\python\\\\myPackage\\\\__init__.py'>\n"
     ]
    }
   ],
   "source": [
    "print(myPackage)"
   ]
  },
  {
   "cell_type": "code",
   "execution_count": 51,
   "id": "5db7ef65-e283-4c18-bd68-15303be31da8",
   "metadata": {},
   "outputs": [],
   "source": [
    "from myPackage.math import fomula"
   ]
  },
  {
   "cell_type": "code",
   "execution_count": 52,
   "id": "c95f3699-5429-4fcb-8d49-0c556e5d869d",
   "metadata": {},
   "outputs": [
    {
     "data": {
      "text/plain": [
       "3.14"
      ]
     },
     "execution_count": 52,
     "metadata": {},
     "output_type": "execute_result"
    }
   ],
   "source": [
    "fomula.pi"
   ]
  },
  {
   "cell_type": "code",
   "execution_count": 138,
   "id": "1301385f-3e77-4863-811a-57f4ef280d25",
   "metadata": {},
   "outputs": [
    {
     "ename": "AttributeError",
     "evalue": "module 'myPackage.math' has no attribute 'my_max'",
     "output_type": "error",
     "traceback": [
      "\u001b[1;31m---------------------------------------------------------------------------\u001b[0m",
      "\u001b[1;31mAttributeError\u001b[0m                            Traceback (most recent call last)",
      "Cell \u001b[1;32mIn[138], line 3\u001b[0m\n\u001b[0;32m      1\u001b[0m \u001b[38;5;28;01mimport\u001b[39;00m \u001b[38;5;21;01mmyPackage\u001b[39;00m\n\u001b[1;32m----> 3\u001b[0m \u001b[43mmyPackage\u001b[49m\u001b[38;5;241;43m.\u001b[39;49m\u001b[43mmath\u001b[49m\u001b[38;5;241;43m.\u001b[39;49m\u001b[43mmy_max\u001b[49m(\u001b[38;5;241m1\u001b[39m, \u001b[38;5;241m2\u001b[39m)\n\u001b[0;32m      4\u001b[0m myPackage\u001b[38;5;241m.\u001b[39mmath\u001b[38;5;241m.\u001b[39mfomula\u001b[38;5;241m.\u001b[39mpi\n",
      "\u001b[1;31mAttributeError\u001b[0m: module 'myPackage.math' has no attribute 'my_max'"
     ]
    }
   ],
   "source": [
    "import myPackage\n",
    "\n",
    "myPackage.math.my_max(1, 2)\n",
    "myPackage.math.fomula.pi"
   ]
  },
  {
   "cell_type": "code",
   "execution_count": 57,
   "id": "296b5fef-663f-4cdd-9e40-56a8d9483ffb",
   "metadata": {},
   "outputs": [],
   "source": [
    "from myPackage.math.fibo import *"
   ]
  },
  {
   "cell_type": "code",
   "execution_count": 58,
   "id": "1038244f-0559-496c-812b-0770b70d963f",
   "metadata": {},
   "outputs": [
    {
     "data": {
      "text/plain": [
       "8"
      ]
     },
     "execution_count": 58,
     "metadata": {},
     "output_type": "execute_result"
    }
   ],
   "source": [
    "fib_loop(5)"
   ]
  },
  {
   "cell_type": "code",
   "execution_count": 59,
   "id": "2466562b-cdc3-4a4a-af6a-b17594f9b952",
   "metadata": {},
   "outputs": [
    {
     "data": {
      "text/plain": [
       "5"
      ]
     },
     "execution_count": 59,
     "metadata": {},
     "output_type": "execute_result"
    }
   ],
   "source": [
    "fib_rec(4)"
   ]
  },
  {
   "cell_type": "code",
   "execution_count": 32,
   "id": "cfefd531-331a-4a06-9ccc-16599b31510e",
   "metadata": {},
   "outputs": [
    {
     "name": "stdout",
     "output_type": "stream",
     "text": [
      "1234\n",
      "<module 'myPackage.math.fomula' from 'C:\\\\Users\\\\YOOTINA\\\\Desktop\\\\camp31\\\\python\\\\myPackage\\\\math\\\\fomula.py'>\n"
     ]
    }
   ],
   "source": [
    "fomula = 1234\n",
    "from myPackage.math import fomula as f\n",
    "# 포뮬라 라는 이름을 나는 지금은 f로 바꿔놓을게 하는 말\n",
    "print(fomula)\n",
    "print(f)"
   ]
  },
  {
   "cell_type": "markdown",
   "id": "f4789481-3a7f-445e-9de9-fed9f1879a89",
   "metadata": {},
   "source": [
    "## 파이썬 내장패키지"
   ]
  },
  {
   "cell_type": "markdown",
   "id": "ec88fb92-1202-4c78-aa00-6d326cbb28ce",
   "metadata": {},
   "source": [
    "### math"
   ]
  },
  {
   "cell_type": "code",
   "execution_count": 65,
   "id": "5eb25a24-c80e-4e6a-bba1-8fa6f42d377c",
   "metadata": {},
   "outputs": [],
   "source": [
    "import math"
   ]
  },
  {
   "cell_type": "code",
   "execution_count": 66,
   "id": "1b842231-10f2-4051-ae7b-8557e04e2e55",
   "metadata": {},
   "outputs": [
    {
     "data": {
      "text/plain": [
       "3.141592653589793"
      ]
     },
     "execution_count": 66,
     "metadata": {},
     "output_type": "execute_result"
    }
   ],
   "source": [
    "math.pi"
   ]
  },
  {
   "cell_type": "code",
   "execution_count": 67,
   "id": "c6e72e6e-6885-44b6-909d-cad7fec35071",
   "metadata": {},
   "outputs": [
    {
     "data": {
      "text/plain": [
       "2.718281828459045"
      ]
     },
     "execution_count": 67,
     "metadata": {},
     "output_type": "execute_result"
    }
   ],
   "source": [
    "math.e"
   ]
  },
  {
   "cell_type": "code",
   "execution_count": 68,
   "id": "ec481b56-fd80-448d-9618-7ae3f502000f",
   "metadata": {},
   "outputs": [],
   "source": [
    "pi = 3.141592"
   ]
  },
  {
   "cell_type": "code",
   "execution_count": 70,
   "id": "f847d9d1-1f47-404e-ac78-e59a1b36b020",
   "metadata": {},
   "outputs": [
    {
     "data": {
      "text/plain": [
       "4"
      ]
     },
     "execution_count": 70,
     "metadata": {},
     "output_type": "execute_result"
    }
   ],
   "source": [
    "math.ceil(pi)\n",
    "# 올림처리"
   ]
  },
  {
   "cell_type": "code",
   "execution_count": 72,
   "id": "e48fe82e-5eaa-4518-b610-fa8afc62f015",
   "metadata": {},
   "outputs": [
    {
     "data": {
      "text/plain": [
       "3"
      ]
     },
     "execution_count": 72,
     "metadata": {},
     "output_type": "execute_result"
    }
   ],
   "source": [
    "math.floor(pi)\n",
    "# 버림처리"
   ]
  },
  {
   "cell_type": "code",
   "execution_count": 73,
   "id": "d8552288-8bbf-4554-95a0-7dfaf2eed89b",
   "metadata": {},
   "outputs": [
    {
     "data": {
      "text/plain": [
       "3.0"
      ]
     },
     "execution_count": 73,
     "metadata": {},
     "output_type": "execute_result"
    }
   ],
   "source": [
    "math.sqrt(9)\n",
    "# 루트"
   ]
  },
  {
   "cell_type": "code",
   "execution_count": 74,
   "id": "d2854c38-3c80-4b63-b7bc-3f5b14db3509",
   "metadata": {},
   "outputs": [
    {
     "data": {
      "text/plain": [
       "3628800"
      ]
     },
     "execution_count": 74,
     "metadata": {},
     "output_type": "execute_result"
    }
   ],
   "source": [
    "math.factorial(10)"
   ]
  },
  {
   "cell_type": "markdown",
   "id": "6e214055-2840-4cf8-bab9-5a930c954ec4",
   "metadata": {},
   "source": [
    "### random"
   ]
  },
  {
   "cell_type": "code",
   "execution_count": 76,
   "id": "ca161cba-7b39-4150-848d-12e895b03070",
   "metadata": {},
   "outputs": [],
   "source": [
    "import random"
   ]
  },
  {
   "cell_type": "code",
   "execution_count": 77,
   "id": "f93d0d77-e321-4fd1-ac4c-4ba405857f34",
   "metadata": {},
   "outputs": [
    {
     "data": {
      "text/plain": [
       "0.5314681808738597"
      ]
     },
     "execution_count": 77,
     "metadata": {},
     "output_type": "execute_result"
    }
   ],
   "source": [
    "random.random()"
   ]
  },
  {
   "cell_type": "code",
   "execution_count": 78,
   "id": "78fa2588-fed7-4e4a-86a6-1f7038217e0a",
   "metadata": {},
   "outputs": [
    {
     "data": {
      "text/plain": [
       "7"
      ]
     },
     "execution_count": 78,
     "metadata": {},
     "output_type": "execute_result"
    }
   ],
   "source": [
    "random.randint(1, 10)"
   ]
  },
  {
   "cell_type": "code",
   "execution_count": 82,
   "id": "9503245d-67dc-4d80-9dab-3d890b42d676",
   "metadata": {},
   "outputs": [
    {
     "data": {
      "text/plain": [
       "0.13436424411240122"
      ]
     },
     "execution_count": 82,
     "metadata": {},
     "output_type": "execute_result"
    }
   ],
   "source": [
    "# seed\n",
    "# 어떤 결과를 보기 위해서 똑같은 seed를 준다.\n",
    "random.seed(1)\n",
    "random.random()\n",
    "# 위 77번줄에서는 숫자가 계속 변하지만 seed를 쓰면 똑같은 상황을 만든다."
   ]
  },
  {
   "cell_type": "code",
   "execution_count": 89,
   "id": "001bb94f-a55d-4d89-b5d9-f896b4224f74",
   "metadata": {},
   "outputs": [
    {
     "name": "stdout",
     "output_type": "stream",
     "text": [
      "[1, 2, 3, 4, 5]\n",
      "[2, 4, 3, 5, 1]\n"
     ]
    }
   ],
   "source": [
    "a = [1, 2, 3, 4, 5]\n",
    "print(a)\n",
    "\n",
    "random.shuffle(a)\n",
    "print(a)\n",
    "# 실행을 할 때마다 다른 데이터 도출"
   ]
  },
  {
   "cell_type": "code",
   "execution_count": 90,
   "id": "2c7f400a-3d8d-4a51-a0a5-5783bcbf91f3",
   "metadata": {},
   "outputs": [
    {
     "data": {
      "text/plain": [
       "'바위'"
      ]
     },
     "execution_count": 90,
     "metadata": {},
     "output_type": "execute_result"
    }
   ],
   "source": [
    "rcp = ['가위', '바위', '보']\n",
    "random.choice(rcp)"
   ]
  },
  {
   "cell_type": "code",
   "execution_count": 93,
   "id": "b964dbc0-13ea-481e-8817-df445ed23027",
   "metadata": {},
   "outputs": [
    {
     "data": {
      "text/plain": [
       "[29, 32, 36, 15, 23, 42]"
      ]
     },
     "execution_count": 93,
     "metadata": {},
     "output_type": "execute_result"
    }
   ],
   "source": [
    "random.sample(range(1, 46),6)\n",
    "# choice를 하면 중복되서 나옴"
   ]
  },
  {
   "cell_type": "markdown",
   "id": "25476e65-cd6a-4928-a3db-a79ef2b05565",
   "metadata": {},
   "source": [
    "## datetime\n",
    "- 날짜와 시간을 조작"
   ]
  },
  {
   "cell_type": "code",
   "execution_count": 102,
   "id": "0644c391-6000-47da-a7dc-36d152d2744d",
   "metadata": {},
   "outputs": [],
   "source": [
    "from datetime import datetime"
   ]
  },
  {
   "cell_type": "code",
   "execution_count": 110,
   "id": "5e06cc77-735c-4b5e-8fd0-07da1c84fcd8",
   "metadata": {},
   "outputs": [
    {
     "data": {
      "text/plain": [
       "datetime.datetime(2023, 10, 11, 10, 23, 9, 774624)"
      ]
     },
     "execution_count": 110,
     "metadata": {},
     "output_type": "execute_result"
    }
   ],
   "source": [
    "datetime.now()\n",
    "# 단순한 정보의 나열"
   ]
  },
  {
   "cell_type": "code",
   "execution_count": 111,
   "id": "24021593-0ec9-4bb6-b2a3-2a6a369e5954",
   "metadata": {},
   "outputs": [
    {
     "name": "stdout",
     "output_type": "stream",
     "text": [
      "2023-10-11 10:23:21.023338\n"
     ]
    }
   ],
   "source": [
    "today = datetime.today()\n",
    "print(today)\n",
    "# print문을 통과하면 보기좋게 바뀜"
   ]
  },
  {
   "cell_type": "code",
   "execution_count": 113,
   "id": "5002660c-4407-4590-baab-bf7476d5b253",
   "metadata": {},
   "outputs": [
    {
     "data": {
      "text/plain": [
       "datetime.datetime(2023, 10, 11, 1, 25, 47, 237886)"
      ]
     },
     "execution_count": 113,
     "metadata": {},
     "output_type": "execute_result"
    }
   ],
   "source": [
    "datetime.utcnow()\n",
    "# 기준시를 기준으로 두고 계산을 할 때 사용"
   ]
  },
  {
   "cell_type": "code",
   "execution_count": 116,
   "id": "65970519-703b-4795-8af1-133160f9a08e",
   "metadata": {},
   "outputs": [
    {
     "data": {
      "text/plain": [
       "'2023년 10월 11일 Wed'"
      ]
     },
     "execution_count": 116,
     "metadata": {},
     "output_type": "execute_result"
    }
   ],
   "source": [
    "now = datetime.now()\n",
    "now.strftime('%Y년 %m월 %d일 %a')\n",
    "# 필요한 데이터만 뽑아와서 포맷팅을 바꾼다"
   ]
  },
  {
   "cell_type": "code",
   "execution_count": 117,
   "id": "2aa98787-6e31-4558-87bf-31f6c0642002",
   "metadata": {},
   "outputs": [
    {
     "data": {
      "text/plain": [
       "2023"
      ]
     },
     "execution_count": 117,
     "metadata": {},
     "output_type": "execute_result"
    }
   ],
   "source": [
    "now.year"
   ]
  },
  {
   "cell_type": "code",
   "execution_count": 118,
   "id": "1a73134b-a93d-4fb4-abd1-7273ec654d96",
   "metadata": {},
   "outputs": [
    {
     "data": {
      "text/plain": [
       "11"
      ]
     },
     "execution_count": 118,
     "metadata": {},
     "output_type": "execute_result"
    }
   ],
   "source": [
    "now.day"
   ]
  },
  {
   "cell_type": "code",
   "execution_count": 119,
   "id": "856f8dd4-9564-4a67-ac0b-5110dbdc2771",
   "metadata": {},
   "outputs": [
    {
     "data": {
      "text/plain": [
       "2"
      ]
     },
     "execution_count": 119,
     "metadata": {},
     "output_type": "execute_result"
    }
   ],
   "source": [
    "# => 0~6 / 월~일\n",
    "now.weekday()"
   ]
  },
  {
   "cell_type": "code",
   "execution_count": 120,
   "id": "f5e1378e-789b-42fa-8ac4-ba9e34262808",
   "metadata": {},
   "outputs": [
    {
     "name": "stdout",
     "output_type": "stream",
     "text": [
      "2023-01-01 00:00:00\n"
     ]
    }
   ],
   "source": [
    "# 현재 시간만 저장하고 있는데 숫자처럼 연산이 가능함.\n",
    "birth = datetime(2023, 1, 1)\n",
    "print(birth)"
   ]
  },
  {
   "cell_type": "code",
   "execution_count": 122,
   "id": "98a77c63-dd5c-49b0-ba4e-6cfba9d25bf2",
   "metadata": {},
   "outputs": [],
   "source": [
    "from datetime import timedelta"
   ]
  },
  {
   "cell_type": "code",
   "execution_count": 124,
   "id": "79ededc3-ed50-4c07-b742-578aeaecf0ea",
   "metadata": {},
   "outputs": [
    {
     "name": "stdout",
     "output_type": "stream",
     "text": [
      "3 days, 0:00:00\n"
     ]
    }
   ],
   "source": [
    "# 디데이 계산\n",
    "future = timedelta(days=3)\n",
    "print(future)"
   ]
  },
  {
   "cell_type": "code",
   "execution_count": 125,
   "id": "62051066-834c-4089-985f-b9e64491578a",
   "metadata": {},
   "outputs": [
    {
     "data": {
      "text/plain": [
       "datetime.datetime(2023, 1, 4, 0, 0)"
      ]
     },
     "execution_count": 125,
     "metadata": {},
     "output_type": "execute_result"
    }
   ],
   "source": [
    "birth + future"
   ]
  },
  {
   "cell_type": "code",
   "execution_count": 127,
   "id": "d88bcdfe-fb7c-402c-b566-12a983037f26",
   "metadata": {},
   "outputs": [
    {
     "name": "stdout",
     "output_type": "stream",
     "text": [
      "81 days, 13:24:26.164135\n"
     ]
    }
   ],
   "source": [
    "new_year = datetime(2024, 1, 1)\n",
    "now = datetime.now()\n",
    "\n",
    "print(new_year - now)"
   ]
  },
  {
   "cell_type": "code",
   "execution_count": 131,
   "id": "5a866e18-e230-4700-9295-fc38a3b29be9",
   "metadata": {},
   "outputs": [
    {
     "name": "stdout",
     "output_type": "stream",
     "text": [
      "2024-01-19 10:36:32.179479\n"
     ]
    }
   ],
   "source": [
    "now = datetime.now()\n",
    "f = timedelta(days=100)\n",
    "\n",
    "print(now + f)"
   ]
  },
  {
   "cell_type": "code",
   "execution_count": null,
   "id": "c4b7f5e7-2424-4087-a123-32236620c145",
   "metadata": {},
   "outputs": [],
   "source": []
  },
  {
   "cell_type": "code",
   "execution_count": null,
   "id": "d38d8e40-ecb5-4ef8-95fd-82226cd97297",
   "metadata": {},
   "outputs": [],
   "source": []
  },
  {
   "cell_type": "code",
   "execution_count": null,
   "id": "5efdb144-52c0-40a7-9270-90273822f9ff",
   "metadata": {},
   "outputs": [],
   "source": []
  },
  {
   "cell_type": "code",
   "execution_count": null,
   "id": "64fb6638-007d-46fa-9659-0d8b35621326",
   "metadata": {},
   "outputs": [],
   "source": []
  },
  {
   "cell_type": "code",
   "execution_count": null,
   "id": "0bba1fb5-4b32-48e5-8d2f-e679aef51364",
   "metadata": {},
   "outputs": [],
   "source": []
  },
  {
   "cell_type": "code",
   "execution_count": null,
   "id": "66513a40-3dd8-47f6-9607-af8a7f3f614b",
   "metadata": {},
   "outputs": [],
   "source": []
  },
  {
   "cell_type": "code",
   "execution_count": null,
   "id": "b227c7ab-b481-4790-9d84-f57fd4c94fb4",
   "metadata": {},
   "outputs": [],
   "source": []
  },
  {
   "cell_type": "code",
   "execution_count": null,
   "id": "7b08782c-2287-4d10-89e0-d1a3066ea597",
   "metadata": {},
   "outputs": [],
   "source": []
  }
 ],
 "metadata": {
  "kernelspec": {
   "display_name": "Python 3 (ipykernel)",
   "language": "python",
   "name": "python3"
  },
  "language_info": {
   "codemirror_mode": {
    "name": "ipython",
    "version": 3
   },
   "file_extension": ".py",
   "mimetype": "text/x-python",
   "name": "python",
   "nbconvert_exporter": "python",
   "pygments_lexer": "ipython3",
   "version": "3.11.5"
  }
 },
 "nbformat": 4,
 "nbformat_minor": 5
}
