{
 "cells": [
  {
   "cell_type": "code",
   "execution_count": 2,
   "id": "551ac7a3-f440-4004-a17a-53aa033320b8",
   "metadata": {},
   "outputs": [
    {
     "name": "stdout",
     "output_type": "stream",
     "text": [
      "hello\n"
     ]
    }
   ],
   "source": [
    "print('hello')"
   ]
  },
  {
   "cell_type": "code",
   "execution_count": 3,
   "id": "9f71b83e-a6ca-42b5-b767-317f1a67441e",
   "metadata": {},
   "outputs": [
    {
     "data": {
      "text/plain": [
       "'일이삼'"
      ]
     },
     "execution_count": 3,
     "metadata": {},
     "output_type": "execute_result"
    }
   ],
   "source": [
    "''.join(['일', '이', '삼'])"
   ]
  },
  {
   "cell_type": "code",
   "execution_count": 5,
   "id": "d3fff486-3658-407f-8e2c-c3f546e5e38d",
   "metadata": {},
   "outputs": [
    {
     "data": {
      "text/plain": [
       "['__add__',\n",
       " '__class__',\n",
       " '__contains__',\n",
       " '__delattr__',\n",
       " '__dir__',\n",
       " '__doc__',\n",
       " '__eq__',\n",
       " '__format__',\n",
       " '__ge__',\n",
       " '__getattribute__',\n",
       " '__getitem__',\n",
       " '__getnewargs__',\n",
       " '__getstate__',\n",
       " '__gt__',\n",
       " '__hash__',\n",
       " '__init__',\n",
       " '__init_subclass__',\n",
       " '__iter__',\n",
       " '__le__',\n",
       " '__len__',\n",
       " '__lt__',\n",
       " '__mod__',\n",
       " '__mul__',\n",
       " '__ne__',\n",
       " '__new__',\n",
       " '__reduce__',\n",
       " '__reduce_ex__',\n",
       " '__repr__',\n",
       " '__rmod__',\n",
       " '__rmul__',\n",
       " '__setattr__',\n",
       " '__sizeof__',\n",
       " '__str__',\n",
       " '__subclasshook__',\n",
       " 'capitalize',\n",
       " 'casefold',\n",
       " 'center',\n",
       " 'count',\n",
       " 'encode',\n",
       " 'endswith',\n",
       " 'expandtabs',\n",
       " 'find',\n",
       " 'format',\n",
       " 'format_map',\n",
       " 'index',\n",
       " 'isalnum',\n",
       " 'isalpha',\n",
       " 'isascii',\n",
       " 'isdecimal',\n",
       " 'isdigit',\n",
       " 'isidentifier',\n",
       " 'islower',\n",
       " 'isnumeric',\n",
       " 'isprintable',\n",
       " 'isspace',\n",
       " 'istitle',\n",
       " 'isupper',\n",
       " 'join',\n",
       " 'ljust',\n",
       " 'lower',\n",
       " 'lstrip',\n",
       " 'maketrans',\n",
       " 'partition',\n",
       " 'removeprefix',\n",
       " 'removesuffix',\n",
       " 'replace',\n",
       " 'rfind',\n",
       " 'rindex',\n",
       " 'rjust',\n",
       " 'rpartition',\n",
       " 'rsplit',\n",
       " 'rstrip',\n",
       " 'split',\n",
       " 'splitlines',\n",
       " 'startswith',\n",
       " 'strip',\n",
       " 'swapcase',\n",
       " 'title',\n",
       " 'translate',\n",
       " 'upper',\n",
       " 'zfill']"
      ]
     },
     "execution_count": 5,
     "metadata": {},
     "output_type": "execute_result"
    }
   ],
   "source": [
    "dir('hello')"
   ]
  },
  {
   "cell_type": "code",
   "execution_count": 6,
   "id": "a0837664-75de-43b0-83e7-853e3ff1a837",
   "metadata": {},
   "outputs": [
    {
     "data": {
      "text/plain": [
       "['__abs__',\n",
       " '__add__',\n",
       " '__and__',\n",
       " '__bool__',\n",
       " '__ceil__',\n",
       " '__class__',\n",
       " '__delattr__',\n",
       " '__dir__',\n",
       " '__divmod__',\n",
       " '__doc__',\n",
       " '__eq__',\n",
       " '__float__',\n",
       " '__floor__',\n",
       " '__floordiv__',\n",
       " '__format__',\n",
       " '__ge__',\n",
       " '__getattribute__',\n",
       " '__getnewargs__',\n",
       " '__getstate__',\n",
       " '__gt__',\n",
       " '__hash__',\n",
       " '__index__',\n",
       " '__init__',\n",
       " '__init_subclass__',\n",
       " '__int__',\n",
       " '__invert__',\n",
       " '__le__',\n",
       " '__lshift__',\n",
       " '__lt__',\n",
       " '__mod__',\n",
       " '__mul__',\n",
       " '__ne__',\n",
       " '__neg__',\n",
       " '__new__',\n",
       " '__or__',\n",
       " '__pos__',\n",
       " '__pow__',\n",
       " '__radd__',\n",
       " '__rand__',\n",
       " '__rdivmod__',\n",
       " '__reduce__',\n",
       " '__reduce_ex__',\n",
       " '__repr__',\n",
       " '__rfloordiv__',\n",
       " '__rlshift__',\n",
       " '__rmod__',\n",
       " '__rmul__',\n",
       " '__ror__',\n",
       " '__round__',\n",
       " '__rpow__',\n",
       " '__rrshift__',\n",
       " '__rshift__',\n",
       " '__rsub__',\n",
       " '__rtruediv__',\n",
       " '__rxor__',\n",
       " '__setattr__',\n",
       " '__sizeof__',\n",
       " '__str__',\n",
       " '__sub__',\n",
       " '__subclasshook__',\n",
       " '__truediv__',\n",
       " '__trunc__',\n",
       " '__xor__',\n",
       " 'as_integer_ratio',\n",
       " 'bit_count',\n",
       " 'bit_length',\n",
       " 'conjugate',\n",
       " 'denominator',\n",
       " 'from_bytes',\n",
       " 'imag',\n",
       " 'numerator',\n",
       " 'real',\n",
       " 'to_bytes']"
      ]
     },
     "execution_count": 6,
     "metadata": {},
     "output_type": "execute_result"
    }
   ],
   "source": [
    "dir(1)"
   ]
  },
  {
   "cell_type": "markdown",
   "id": "06e66d3f-08e5-41dc-a756-4f6a3f1af78d",
   "metadata": {},
   "source": [
    "# 문자열 메소드(=객체 안에 들어있는 함수)"
   ]
  },
  {
   "cell_type": "code",
   "execution_count": 21,
   "id": "17aff0fb-18d5-4c0f-b02b-860008fa9cc8",
   "metadata": {},
   "outputs": [],
   "source": [
    "a = 'hello my name is tina'"
   ]
  },
  {
   "cell_type": "code",
   "execution_count": 9,
   "id": "aff0974b-abe1-41d9-836c-30edd79f9974",
   "metadata": {},
   "outputs": [
    {
     "name": "stdout",
     "output_type": "stream",
     "text": [
      "hello my name is tina\n"
     ]
    }
   ],
   "source": [
    "print(a)"
   ]
  },
  {
   "cell_type": "code",
   "execution_count": 11,
   "id": "5a94f0ff-6de0-45f3-a755-a4c0b6edf804",
   "metadata": {},
   "outputs": [
    {
     "name": "stdout",
     "output_type": "stream",
     "text": [
      "h\n"
     ]
    }
   ],
   "source": [
    "print(a[0]) #시퀀스 타입이라 인덱스로 접근이 가능"
   ]
  },
  {
   "cell_type": "code",
   "execution_count": 15,
   "id": "53981e54-a6e2-43b5-9f34-be366dea106f",
   "metadata": {},
   "outputs": [
    {
     "ename": "TypeError",
     "evalue": "'str' object does not support item assignment",
     "output_type": "error",
     "traceback": [
      "\u001b[1;31m---------------------------------------------------------------------------\u001b[0m",
      "\u001b[1;31mTypeError\u001b[0m                                 Traceback (most recent call last)",
      "Cell \u001b[1;32mIn[15], line 2\u001b[0m\n\u001b[0;32m      1\u001b[0m \u001b[38;5;66;03m# 문자열은 immutable하기 때문에 수정 불가능\u001b[39;00m\n\u001b[1;32m----> 2\u001b[0m \u001b[43ma\u001b[49m\u001b[43m[\u001b[49m\u001b[38;5;241;43m0\u001b[39;49m\u001b[43m]\u001b[49m \u001b[38;5;241m=\u001b[39m \u001b[38;5;124m'\u001b[39m\u001b[38;5;124mH\u001b[39m\u001b[38;5;124m'\u001b[39m \u001b[38;5;66;03m#문자열은 단일속성에 접근해서 변경하는것이 불가능하다. 이뮤터블하다.\u001b[39;00m\n",
      "\u001b[1;31mTypeError\u001b[0m: 'str' object does not support item assignment"
     ]
    }
   ],
   "source": [
    "# 문자열은 immutable하기 때문에 수정 불가능\n",
    "a[0] = 'H' #문자열은 단일속성에 접근해서 변경하는것이 불가능하다. 이뮤터블하다.\n",
    "# a = 'Hello my name is tina' 데이터를 바꾸려면 덮어씌우기 해야된다."
   ]
  },
  {
   "cell_type": "code",
   "execution_count": 29,
   "id": "8f5418f3-70e8-4639-b5b2-e55ff9a0fbf1",
   "metadata": {},
   "outputs": [
    {
     "name": "stdout",
     "output_type": "stream",
     "text": [
      "Hello my name is tina\n"
     ]
    }
   ],
   "source": [
    "a = a.capitalize()\n",
    "# print(a)값과 다를텐데 capitalize도 함수니깐 return만 해줌. a라는 원본데이터만 받고싶으면 a라는 변수에 다시 덮어씌워주면 됨.\n",
    "print(a)"
   ]
  },
  {
   "cell_type": "code",
   "execution_count": 30,
   "id": "74e12f36-b613-4ebf-980e-f0281f2bfda2",
   "metadata": {},
   "outputs": [
    {
     "data": {
      "text/plain": [
       "'Hello My Name Is Tina'"
      ]
     },
     "execution_count": 30,
     "metadata": {},
     "output_type": "execute_result"
    }
   ],
   "source": [
    "a.title()"
   ]
  },
  {
   "cell_type": "code",
   "execution_count": 31,
   "id": "29821ebe-1da5-4eae-a33e-fd76f1478b0e",
   "metadata": {},
   "outputs": [
    {
     "data": {
      "text/plain": [
       "'HELLO MY NAME IS TINA'"
      ]
     },
     "execution_count": 31,
     "metadata": {},
     "output_type": "execute_result"
    }
   ],
   "source": [
    "a.upper()"
   ]
  },
  {
   "cell_type": "code",
   "execution_count": 32,
   "id": "a5c9b391-fe09-4853-85fc-ccf17156e84c",
   "metadata": {},
   "outputs": [
    {
     "data": {
      "text/plain": [
       "'hello my name is tina'"
      ]
     },
     "execution_count": 32,
     "metadata": {},
     "output_type": "execute_result"
    }
   ],
   "source": [
    "a.lower()"
   ]
  },
  {
   "cell_type": "code",
   "execution_count": 34,
   "id": "612e4606-8a6f-421e-9ef3-c6ad1e823d05",
   "metadata": {},
   "outputs": [
    {
     "name": "stdout",
     "output_type": "stream",
     "text": [
      "Hello my name is tina\n"
     ]
    }
   ],
   "source": [
    "print(a) #원본은 계속 남아있음"
   ]
  },
  {
   "cell_type": "code",
   "execution_count": 37,
   "id": "30e5e458-b806-486d-ae37-a549ea5a05c3",
   "metadata": {},
   "outputs": [
    {
     "data": {
      "text/plain": [
       "'hi??my??name'"
      ]
     },
     "execution_count": 37,
     "metadata": {},
     "output_type": "execute_result"
    }
   ],
   "source": [
    "my_list= ['hi', 'my', 'name']\n",
    "'??'.join(my_list)\n",
    "#join이라는 메소드로 호출하면 문자들을 이어줌. str.join(iterable)"
   ]
  },
  {
   "cell_type": "code",
   "execution_count": 48,
   "id": "f4a72dc1-ba41-4840-b6fb-3c3154ee8850",
   "metadata": {},
   "outputs": [
    {
     "name": "stdout",
     "output_type": "stream",
     "text": [
      "     hello\n",
      "   \n",
      "hello\n",
      "ello\n",
      "ellohihihihihihihi\n",
      "hihihihihihihihello\n"
     ]
    }
   ],
   "source": [
    "# .strip([chars]) []영역은 넣어도되고 안넣어도 된다라는 말임. \n",
    "my_string = '     hello\\n   ' #왼쪽에 공백 오른쪽에 공백\n",
    "print(my_string) #공백 그대로 나타냄\n",
    "print(my_string.strip()) #왼쪽과 오른쪽을 뒤지면서 필요없는 부분을 없애줌\n",
    "\n",
    "my_string2 = 'hihihihihihihihellohihihihihihihi'\n",
    "print(my_string2.strip('hi'))\n",
    "print(my_string2.lstrip('hi')) # 왼쪽을 지워줌\n",
    "print(my_string2.rstrip('hi')) # 오른쪽을 지워줌"
   ]
  },
  {
   "cell_type": "code",
   "execution_count": 51,
   "id": "9274cd8d-636f-4da6-ba40-bf0fc0562868",
   "metadata": {},
   "outputs": [
    {
     "data": {
      "text/plain": [
       "'w!!!oooooow'"
      ]
     },
     "execution_count": 51,
     "metadata": {},
     "output_type": "execute_result"
    }
   ],
   "source": [
    "# .replace(old, new[, count])\n",
    "a = 'wooooooooow'\n",
    "a.replace('o', '!',3) #count는 선택사항이기때문에 넣어도 되고 안넣어도 된다. n번만큼 교환해라. 라는 뜻임."
   ]
  },
  {
   "cell_type": "code",
   "execution_count": 55,
   "id": "cbdadbd9-187e-4fe8-83f4-aec601023a51",
   "metadata": {},
   "outputs": [
    {
     "name": "stdout",
     "output_type": "stream",
     "text": [
      "1\n",
      "1\n",
      "-1\n",
      "1\n"
     ]
    }
   ],
   "source": [
    "#. find(x)  #찾는함수(찾는게없으면 -1을 호출)\n",
    "a = 'apple'\n",
    "print(a.find('p'))\n",
    "print(a.find('p')) #p가 2개 인데 앞뒤를 찾는게 아니라 처음으로 나오는 데이터만 호출할것임.\n",
    "print(a.find('f')) #찾는데이터가 없다라고 한다면 -1을 호출.\n",
    "\n",
    "# find의 코드를 구현한 for함수\n",
    "for i in range(len(a)):\n",
    "    if 'p' == a[i]:\n",
    "        print(i)\n",
    "        break\n",
    "else:\n",
    "    print(-1)"
   ]
  },
  {
   "cell_type": "code",
   "execution_count": 57,
   "id": "c9d2c7c4-a38e-471d-a7ee-4d54d7971ffe",
   "metadata": {},
   "outputs": [
    {
     "name": "stdout",
     "output_type": "stream",
     "text": [
      "1\n"
     ]
    },
    {
     "ename": "ValueError",
     "evalue": "substring not found",
     "output_type": "error",
     "traceback": [
      "\u001b[1;31m---------------------------------------------------------------------------\u001b[0m",
      "\u001b[1;31mValueError\u001b[0m                                Traceback (most recent call last)",
      "Cell \u001b[1;32mIn[57], line 5\u001b[0m\n\u001b[0;32m      2\u001b[0m a \u001b[38;5;241m=\u001b[39m \u001b[38;5;124m'\u001b[39m\u001b[38;5;124mapple\u001b[39m\u001b[38;5;124m'\u001b[39m\n\u001b[0;32m      4\u001b[0m \u001b[38;5;28mprint\u001b[39m(a\u001b[38;5;241m.\u001b[39mindex(\u001b[38;5;124m'\u001b[39m\u001b[38;5;124mp\u001b[39m\u001b[38;5;124m'\u001b[39m))\n\u001b[1;32m----> 5\u001b[0m \u001b[38;5;28mprint\u001b[39m(\u001b[43ma\u001b[49m\u001b[38;5;241;43m.\u001b[39;49m\u001b[43mindex\u001b[49m\u001b[43m(\u001b[49m\u001b[38;5;124;43m'\u001b[39;49m\u001b[38;5;124;43mz\u001b[39;49m\u001b[38;5;124;43m'\u001b[39;49m\u001b[43m)\u001b[49m)\n",
      "\u001b[1;31mValueError\u001b[0m: substring not found"
     ]
    }
   ],
   "source": [
    "#. index(x) #찾는게 없으면 에러를 호출\n",
    "a = 'apple'\n",
    "\n",
    "print(a.index('p'))\n",
    "print(a.index('z'))"
   ]
  },
  {
   "cell_type": "code",
   "execution_count": 60,
   "id": "60bedb6d-883a-48c8-aa57-d2b50a2b761b",
   "metadata": {},
   "outputs": [
    {
     "data": {
      "text/plain": [
       "['my', 'name', 'is']"
      ]
     },
     "execution_count": 60,
     "metadata": {},
     "output_type": "execute_result"
    }
   ],
   "source": [
    "#  .split(x)  #리스트로 만들어줌\n",
    "a = 'my_name_is'\n",
    "a.split('_')"
   ]
  },
  {
   "cell_type": "code",
   "execution_count": 62,
   "id": "89875e05-ecc6-487d-8707-58c639a02411",
   "metadata": {},
   "outputs": [
    {
     "data": {
      "text/plain": [
       "7"
      ]
     },
     "execution_count": 62,
     "metadata": {},
     "output_type": "execute_result"
    }
   ],
   "source": [
    "# .count(x)  # 갯수를 출력\n",
    "'wooooooow'.count('o')"
   ]
  },
  {
   "cell_type": "markdown",
   "id": "24765ea4-95d0-4510-830e-2cf1b7ce8160",
   "metadata": {},
   "source": [
    "## 리스트 메소드"
   ]
  },
  {
   "cell_type": "code",
   "execution_count": 155,
   "id": "6bbeb2d1-6e5c-4a4e-9756-4bbaa6cdc3a6",
   "metadata": {},
   "outputs": [],
   "source": [
    "numbers = [1, 5, 6, 4, 1, 2]"
   ]
  },
  {
   "cell_type": "code",
   "execution_count": 72,
   "id": "e3100804-d2f5-41d8-a7b5-836e63d5e881",
   "metadata": {},
   "outputs": [
    {
     "name": "stdout",
     "output_type": "stream",
     "text": [
      "[1, 5, 6, 4, 1, 2, 10, 10, 10, 99, 100, 10]\n"
     ]
    }
   ],
   "source": [
    "# .append(x) #뒤에다가 집어 넣을 때\n",
    "numbers.append(10)\n",
    "print(numbers)"
   ]
  },
  {
   "cell_type": "code",
   "execution_count": 76,
   "id": "41d1811d-6455-46e2-8f63-20072e673fde",
   "metadata": {},
   "outputs": [
    {
     "name": "stdout",
     "output_type": "stream",
     "text": [
      "[1, 5, 6, 4, 1, 2, 10, 10, 10, 99, 100, 10, 99, 100, 99, 100, 99, 100]\n",
      "[1, 5, 6, 4, 1, 2, 10, 10, 10, 99, 100, 10, 99, 100, 99, 100, 99, 100, 99, 100]\n"
     ]
    }
   ],
   "source": [
    "# .extend(x) #확장하다\n",
    "a = [99, 100]\n",
    "\n",
    "numbers.extend(a)\n",
    "print(numbers)\n",
    "print(numbers + a)"
   ]
  },
  {
   "cell_type": "code",
   "execution_count": 157,
   "id": "891b87eb-abe9-4a1b-be65-8ef667a58f9b",
   "metadata": {},
   "outputs": [
    {
     "name": "stdout",
     "output_type": "stream",
     "text": [
      "[1, 5, 6, 3.5, 4, 1, 2]\n"
     ]
    }
   ],
   "source": [
    "# .insert(idx, x) #특정한 위치가 필요할 때 \n",
    "numbers.insert(3, 3.5)\n",
    "print(numbers)"
   ]
  },
  {
   "cell_type": "code",
   "execution_count": 158,
   "id": "cfe4b1af-5134-45e8-a51b-95d0bdcf8ae8",
   "metadata": {},
   "outputs": [
    {
     "name": "stdout",
     "output_type": "stream",
     "text": [
      "[1, 5, 6, 4, 1, 2]\n"
     ]
    }
   ],
   "source": [
    "# .remove(x)\n",
    "numbers.remove(3.5)\n",
    "print(numbers)"
   ]
  },
  {
   "cell_type": "code",
   "execution_count": 85,
   "id": "a4bee511-ec24-4eac-af2b-dafc532db6d3",
   "metadata": {},
   "outputs": [
    {
     "name": "stdout",
     "output_type": "stream",
     "text": [
      "[1, 2, 10, 10, 10]\n",
      "[2, 10, 10, 10]\n"
     ]
    },
    {
     "data": {
      "text/plain": [
       "10"
      ]
     },
     "execution_count": 85,
     "metadata": {},
     "output_type": "execute_result"
    }
   ],
   "source": [
    "# .pop()   # 맨 마지막에 있는 데이터만 빼냄\n",
    "numbers.pop()\n",
    "print(numbers)\n",
    "\n",
    "\n",
    "numbers.pop(0) #원하는 인덱스값으로 원하는 데이터만 빼낼수있음.\n",
    "print(numbers)\n",
    "\n",
    "numbers.pop()"
   ]
  },
  {
   "cell_type": "code",
   "execution_count": 86,
   "id": "14488dde-ae76-41a1-a1e0-783ddfdd7a09",
   "metadata": {},
   "outputs": [
    {
     "name": "stdout",
     "output_type": "stream",
     "text": [
      "10\n"
     ]
    }
   ],
   "source": [
    "num = numbers.pop()\n",
    "print(num)"
   ]
  },
  {
   "cell_type": "code",
   "execution_count": 91,
   "id": "fdbad2ab-967e-47c1-9730-aba900218cde",
   "metadata": {},
   "outputs": [
    {
     "name": "stdout",
     "output_type": "stream",
     "text": [
      "[1, 6, 2, 1, 3, 2, 7, 10]\n",
      "None\n",
      "[1, 1, 2, 2, 3, 6, 7, 10]\n",
      "[10, 7, 6, 3, 2, 2, 1, 1]\n"
     ]
    }
   ],
   "source": [
    "# .sort()  #원본을 바꾸고 return은 없고\n",
    "numbers = [1, 6, 2, 1, 3, 2, 7, 10]\n",
    "\n",
    "print(numbers)\n",
    "# 시퀀스 타입은 순서가 있지만 정렬이 되어있진 않음 지금 해볼건 정렬.\n",
    "\n",
    "print(numbers.sort()) #넘버스에 솔트한 결과 원본 데이터를 정렬데이터로\n",
    "print(numbers)\n",
    "numbers.sort(reverse=True)  #역정렬\n",
    "print(numbers)"
   ]
  },
  {
   "cell_type": "code",
   "execution_count": 98,
   "id": "bde47be6-559f-4342-92ac-7a2df7a312bd",
   "metadata": {},
   "outputs": [
    {
     "name": "stdout",
     "output_type": "stream",
     "text": [
      "[1, 6, 2, 1, 3, 2, 7, 10]\n",
      "[1, 1, 2, 2, 3, 6, 7, 10]\n",
      "[1, 6, 2, 1, 3, 2, 7, 10]\n"
     ]
    }
   ],
   "source": [
    "numbers = [1, 6, 2, 1, 3, 2, 7, 10]\n",
    "print(numbers)\n",
    "print(sorted(numbers)) # sorted는 함수라서 sort처럼 데이터를 가지고 있는게 아님\n",
    "print(numbers)"
   ]
  },
  {
   "cell_type": "code",
   "execution_count": 97,
   "id": "1752c3c5-09be-40a1-8b6a-356125317ca9",
   "metadata": {},
   "outputs": [
    {
     "name": "stdout",
     "output_type": "stream",
     "text": [
      "[1, 6, 2, 1, 3, 2, 7, 10]\n",
      "[10, 7, 2, 3, 1, 2, 6, 1]\n"
     ]
    }
   ],
   "source": [
    "# .reverse() #정렬은 아니지만 안에 들어있는 내용을 뒤집을 때\n",
    "numbers = [1, 6, 2, 1, 3, 2, 7, 10]\n",
    "print(numbers)\n",
    "numbers.reverse()\n",
    "print(numbers)\n",
    "\n",
    "numbers = numbers[ : : -1] #슬라이싱을 통해서도 구현이 가능하다.\n",
    "print(numbers)"
   ]
  },
  {
   "cell_type": "markdown",
   "id": "3cd4bb63-32b5-467a-90c3-1e4b8702dd12",
   "metadata": {},
   "source": [
    "## list copy"
   ]
  },
  {
   "cell_type": "code",
   "execution_count": 99,
   "id": "db5a6729-2fea-426a-a6d4-dbda2ac469ad",
   "metadata": {},
   "outputs": [],
   "source": [
    "origin_list = [1, 2, 3]\n",
    "copy_list = origin_list"
   ]
  },
  {
   "cell_type": "code",
   "execution_count": 100,
   "id": "07263111-eb23-4bc2-88d5-ecadf91f5254",
   "metadata": {},
   "outputs": [
    {
     "name": "stdout",
     "output_type": "stream",
     "text": [
      "[1, 2, 3]\n",
      "[1, 2, 3]\n"
     ]
    }
   ],
   "source": [
    "print(origin_list)\n",
    "print(copy_list)"
   ]
  },
  {
   "cell_type": "code",
   "execution_count": 101,
   "id": "4339eb88-f151-47f1-af3b-5518497e8791",
   "metadata": {},
   "outputs": [],
   "source": [
    "copy_list[0] = 100"
   ]
  },
  {
   "cell_type": "code",
   "execution_count": 102,
   "id": "81f2bc9a-a337-4ec0-b76b-db2f8e5a184c",
   "metadata": {},
   "outputs": [
    {
     "name": "stdout",
     "output_type": "stream",
     "text": [
      "[100, 2, 3]\n",
      "[100, 2, 3]\n"
     ]
    }
   ],
   "source": [
    "print(origin_list)\n",
    "print(copy_list)"
   ]
  },
  {
   "cell_type": "code",
   "execution_count": 104,
   "id": "b095686e-f47d-44cc-8b9d-a82f9d438eb5",
   "metadata": {},
   "outputs": [
    {
     "name": "stdout",
     "output_type": "stream",
     "text": [
      "[1, 2, 3]\n",
      "[100, 2, 3]\n"
     ]
    }
   ],
   "source": [
    "# 이걸 해결하려면\n",
    "\n",
    "a = [1, 2, 3]\n",
    "b = list(a)\n",
    "# b = a[:] 와 b = list(a) 동일한 방법\n",
    "\n",
    "b[0] = 100\n",
    "\n",
    "print(a)\n",
    "print(b)"
   ]
  },
  {
   "cell_type": "code",
   "execution_count": 108,
   "id": "ca7c652f-38b3-442c-925c-f40881920a20",
   "metadata": {},
   "outputs": [
    {
     "name": "stdout",
     "output_type": "stream",
     "text": [
      "[1, 2, [99, 1000]]\n",
      "[1, 2, [99, 1000]]\n"
     ]
    }
   ],
   "source": [
    "a = [    1,       2,      [99, 100]    ] #리스트 안에 리스트\n",
    "b = a[:]\n",
    "# b = list(a)\n",
    "\n",
    "# 리스트안의 100이라는 데이터에 접근하려면\n",
    "b[2][1] = 1000\n",
    "\n",
    "print(a)\n",
    "print(b)"
   ]
  },
  {
   "cell_type": "code",
   "execution_count": 111,
   "id": "5a37b0d4-7394-4b33-9044-d513dd8b5dbd",
   "metadata": {},
   "outputs": [
    {
     "name": "stdout",
     "output_type": "stream",
     "text": [
      "[1, 2, [99, 100]]\n",
      "[1, 2, [99, 1000]]\n"
     ]
    }
   ],
   "source": [
    "#리스트안에 또다른 리스트가 있는 경우에는 메서드를 하나 사용해야됌\n",
    "# .deepcopy() #깊이가 있는 데이터를 복제할 때(리스트안에 또 리스트가 있는 경우 복제를 해야된다 하는 경우 뎁스 안에 뎁스)\n",
    "\n",
    "import copy\n",
    "a = [1, 2, [99, 100]]\n",
    "b = copy.deepcopy(a)\n",
    "\n",
    "b[2][1] = 1000\n",
    "\n",
    "print(a)\n",
    "print(b)"
   ]
  },
  {
   "cell_type": "markdown",
   "id": "2df494c9-0c19-49f1-8d1c-cc96d5fb7719",
   "metadata": {},
   "source": [
    "## list comprehension"
   ]
  },
  {
   "cell_type": "code",
   "execution_count": 114,
   "id": "a8e837be-7de4-4905-b7d7-f49b97b96112",
   "metadata": {},
   "outputs": [
    {
     "name": "stdout",
     "output_type": "stream",
     "text": [
      "[1, 2, 3, 4, 5, 6, 7, 8, 9, 10]\n"
     ]
    }
   ],
   "source": [
    "numbers = list(range(1, 11))\n",
    "print(numbers)"
   ]
  },
  {
   "cell_type": "code",
   "execution_count": 118,
   "id": "0ee831b6-bca5-4a5e-94fe-0e256733fc71",
   "metadata": {},
   "outputs": [
    {
     "name": "stdout",
     "output_type": "stream",
     "text": [
      "[1, 8, 27, 64, 125, 216, 343, 512, 729, 1000]\n"
     ]
    }
   ],
   "source": [
    "# [1, 8, 27... 1000] => 세제곱 만들기\n",
    "result = []\n",
    "\n",
    "for number in numbers:\n",
    "    result.append(number ** 3)\n",
    "print(result)\n",
    "\n",
    "# 반복처리하면서 하나하나 세제곱시키고 리스트에 하나하나씩 추가하는 방법"
   ]
  },
  {
   "cell_type": "code",
   "execution_count": 119,
   "id": "daddb2d7-91d0-40d9-a8a1-cffd2770b109",
   "metadata": {},
   "outputs": [
    {
     "name": "stdout",
     "output_type": "stream",
     "text": [
      "[1, 8, 27, 64, 125, 216, 343, 512, 729, 1000]\n"
     ]
    }
   ],
   "source": [
    "# list comprehension\n",
    "result2 = [ number ** 3 for number in numbers ]\n",
    "print(result2)"
   ]
  },
  {
   "cell_type": "code",
   "execution_count": 121,
   "id": "f74cdc4b-83af-4db8-bcea-1d00abbd32bc",
   "metadata": {},
   "outputs": [
    {
     "name": "stdout",
     "output_type": "stream",
     "text": [
      "[2, 4, 6, 8, 10]\n"
     ]
    }
   ],
   "source": [
    "# 짝수만 고르기 (for문과 if문을 응용)\n",
    "\n",
    "even_list = []\n",
    "\n",
    "for number in numbers:\n",
    "    if number % 2 == 0:\n",
    "        even_list.append(number)\n",
    "print(even_list)"
   ]
  },
  {
   "cell_type": "code",
   "execution_count": 122,
   "id": "be56878d-12cd-4b3d-ba4a-99576da3bc1d",
   "metadata": {},
   "outputs": [
    {
     "name": "stdout",
     "output_type": "stream",
     "text": [
      "[2, 4, 6, 8, 10]\n"
     ]
    }
   ],
   "source": [
    "# for문과 if문을 응용한것을 list comprehension\n",
    "\n",
    "even_list2 = [ number for number in numbers if number % 2 == 0 ]\n",
    "print(even_list2)"
   ]
  },
  {
   "cell_type": "code",
   "execution_count": 140,
   "id": "31e0c556-eca1-41ef-8f8e-a474ee3dd19c",
   "metadata": {},
   "outputs": [],
   "source": [
    "# 문제풀이 1\n",
    "\n",
    "words = 'my name is hong'\n",
    "vowels = 'aeiou'\n",
    "\n",
    "# => my nm s hng (모음을 뺀 단어)"
   ]
  },
  {
   "cell_type": "code",
   "execution_count": 143,
   "id": "2cd329da-9040-4e70-b635-7b1ea57bc82e",
   "metadata": {},
   "outputs": [
    {
     "name": "stdout",
     "output_type": "stream",
     "text": [
      "[]\n"
     ]
    }
   ],
   "source": [
    "# 1. for문\n",
    "word_list = []\n",
    "\n",
    "\n",
    "for word in words:\n",
    "     if vowels in words:\n",
    "        word_list.append(word)\n",
    "        break\n",
    "print(word_list)"
   ]
  },
  {
   "cell_type": "code",
   "execution_count": 146,
   "id": "894f0e91-c375-4685-b942-8565ab133451",
   "metadata": {},
   "outputs": [
    {
     "name": "stdout",
     "output_type": "stream",
     "text": [
      "['m', 'y', ' ', 'n', 'm', ' ', 's', ' ', 'h', 'n', 'g']\n",
      "my nm s hng\n"
     ]
    }
   ],
   "source": [
    "# 강사님 답\n",
    "result = []\n",
    "for char in words:\n",
    "    if char not in vowels:\n",
    "        result.append(char)\n",
    "print(result)\n",
    "print(''.join(result))"
   ]
  },
  {
   "cell_type": "code",
   "execution_count": 153,
   "id": "6a48aa4b-176c-4b75-bef1-3e90b499e4ec",
   "metadata": {},
   "outputs": [
    {
     "name": "stdout",
     "output_type": "stream",
     "text": [
      "['m', 'y', ' ', 'n', 'm', ' ', 's', ' ', 'h', 'n', 'g']\n",
      "my nm s hng\n"
     ]
    }
   ],
   "source": [
    "# 2. list comprehension\n",
    "result = [char for char in words if char not in vowels]\n",
    "print(result)\n",
    "print(''.join(result))"
   ]
  },
  {
   "cell_type": "markdown",
   "id": "79e72fba-047d-46d3-a0a6-deaa44562a2e",
   "metadata": {},
   "source": [
    "## 딕셔너리 메서드"
   ]
  },
  {
   "cell_type": "code",
   "execution_count": 163,
   "id": "0ef7b043-504b-444e-910b-bbe23e3e9cd3",
   "metadata": {},
   "outputs": [],
   "source": [
    "info = {\n",
    "    'name': 'tina',\n",
    "    'location': 'seoul',    \n",
    "}"
   ]
  },
  {
   "cell_type": "code",
   "execution_count": 164,
   "id": "dc8f900f-a171-4c1c-9bd4-838f85a91b38",
   "metadata": {},
   "outputs": [
    {
     "name": "stdout",
     "output_type": "stream",
     "text": [
      "{'name': 'yoo', 'location': 'seoul'}\n"
     ]
    }
   ],
   "source": [
    "info['name'] = 'yoo'\n",
    "print(info)"
   ]
  },
  {
   "cell_type": "code",
   "execution_count": 177,
   "id": "cdaf17d7-f3a8-48b0-8309-4d32e2bd2536",
   "metadata": {},
   "outputs": [
    {
     "ename": "KeyError",
     "evalue": "'location'",
     "output_type": "error",
     "traceback": [
      "\u001b[1;31m---------------------------------------------------------------------------\u001b[0m",
      "\u001b[1;31mKeyError\u001b[0m                                  Traceback (most recent call last)",
      "Cell \u001b[1;32mIn[177], line 2\u001b[0m\n\u001b[0;32m      1\u001b[0m \u001b[38;5;66;03m# .pop(key[, default])\u001b[39;00m\n\u001b[1;32m----> 2\u001b[0m \u001b[38;5;28mprint\u001b[39m(\u001b[43minfo\u001b[49m\u001b[38;5;241;43m.\u001b[39;49m\u001b[43mpop\u001b[49m\u001b[43m(\u001b[49m\u001b[38;5;124;43m'\u001b[39;49m\u001b[38;5;124;43mlocation\u001b[39;49m\u001b[38;5;124;43m'\u001b[39;49m\u001b[43m)\u001b[49m)\n\u001b[0;32m      3\u001b[0m \u001b[38;5;28mprint\u001b[39m(info)\n\u001b[0;32m      5\u001b[0m \u001b[38;5;66;03m# .pop(key[, default])\u001b[39;00m\n\u001b[0;32m      6\u001b[0m \u001b[38;5;66;03m## 강사님꺼 보고 수정하기 \u001b[39;00m\n",
      "\u001b[1;31mKeyError\u001b[0m: 'location'"
     ]
    }
   ],
   "source": [
    "# .pop(key[, default])\n",
    "print(info.pop('location'))\n",
    "print(info)\n",
    "\n",
    "# .pop(key[, default])\n",
    "## 강사님꺼 보고 수정하기 "
   ]
  },
  {
   "cell_type": "code",
   "execution_count": 176,
   "id": "a807d92f-6315-4765-8f33-9c267ad04e5f",
   "metadata": {},
   "outputs": [
    {
     "name": "stdout",
     "output_type": "stream",
     "text": [
      "{'name': 'park'}\n"
     ]
    }
   ],
   "source": [
    "# .update()\n",
    "info.update(name='park')\n",
    "print(info)"
   ]
  },
  {
   "cell_type": "code",
   "execution_count": 175,
   "id": "ded375e9-3b7b-47d7-8afc-f9592239f122",
   "metadata": {},
   "outputs": [
    {
     "name": "stdout",
     "output_type": "stream",
     "text": [
      "park\n",
      "None\n",
      "해당키가 없습니다\n"
     ]
    }
   ],
   "source": [
    "# .get(key[, default]) #접근\n",
    "print(info.get('name')) \n",
    "print(info.get('phone')) # None 값 도출\n",
    "print(info.get('phone', '해당키가 없습니다'))"
   ]
  },
  {
   "cell_type": "markdown",
   "id": "2989ea3c-07df-45eb-a2c2-c7a09afb63f7",
   "metadata": {},
   "source": [
    "## dict comprehension"
   ]
  },
  {
   "cell_type": "code",
   "execution_count": 179,
   "id": "c841af31-dcc8-46a8-999e-097eeadff2b9",
   "metadata": {},
   "outputs": [
    {
     "name": "stdout",
     "output_type": "stream",
     "text": [
      "{1: 1, 2: 8, 3: 27, 4: 64, 5: 125, 6: 216, 7: 343, 8: 512, 9: 729, 10: 1000}\n"
     ]
    }
   ],
   "source": [
    "# for\n",
    "# {1: 1, 2: 8, 3: 9...}\n",
    "\n",
    "result = {}\n",
    "numbers = range(1, 11)\n",
    "for number in numbers:\n",
    "    result[number] = number ** 3\n",
    "\n",
    "print(result)"
   ]
  },
  {
   "cell_type": "code",
   "execution_count": 181,
   "id": "568b0641-7937-4455-9072-a61056d178c8",
   "metadata": {},
   "outputs": [
    {
     "name": "stdout",
     "output_type": "stream",
     "text": [
      "{1: 1, 2: 8, 3: 27, 4: 64, 5: 125, 6: 216, 7: 343, 8: 512, 9: 729, 10: 1000}\n"
     ]
    }
   ],
   "source": [
    "# comprehension\n",
    "\n",
    "result2 = { number : number ** 3 for number in range(1, 11)}\n",
    "print(result2)"
   ]
  },
  {
   "cell_type": "code",
   "execution_count": 188,
   "id": "1a61bd16-286e-4ef7-8544-ccf93da44a19",
   "metadata": {},
   "outputs": [],
   "source": [
    "# 문제풀이\n",
    "\n",
    "dust = {\n",
    "    '서울': 100,\n",
    "    '대구': 30,\n",
    "    '부산': 50,\n",
    "    '광주': 80,\n",
    "    '제주': 20,\n",
    "}\n",
    "\n",
    "# result = {\n",
    "#    '서울': 100,\n",
    "#    '부산': 50,\n",
    "#    '광주': 80,\n",
    "#}"
   ]
  },
  {
   "cell_type": "code",
   "execution_count": 197,
   "id": "f3eb2d3a-12bd-45ad-a747-f6706d46ecb4",
   "metadata": {},
   "outputs": [
    {
     "name": "stdout",
     "output_type": "stream",
     "text": [
      "{'서울': 100, '부산': 50, '광주': 80}\n"
     ]
    }
   ],
   "source": [
    "# 1. for\n",
    "result = {}\n",
    "for k, v in dust.items():\n",
    "    if v >= 50:\n",
    "        result[k] = v\n",
    "\n",
    "print(result)"
   ]
  },
  {
   "cell_type": "code",
   "execution_count": 190,
   "id": "765f61d8-c436-4001-a61d-8500e2bc8303",
   "metadata": {},
   "outputs": [],
   "source": [
    "# 2. comp\n",
    "result2 = { k: v for k, v in dust.items() if v >= 50}"
   ]
  },
  {
   "cell_type": "code",
   "execution_count": 192,
   "id": "907e71ad-0799-4585-8f3e-4fd2460c5987",
   "metadata": {},
   "outputs": [],
   "source": [
    "result2 = { k: '나쁨' for k, v in dust.items() if v >= 50}"
   ]
  },
  {
   "cell_type": "markdown",
   "id": "c802531c-a196-4718-b269-c1c77ebb8363",
   "metadata": {},
   "source": [
    "## 세트 메서드"
   ]
  },
  {
   "cell_type": "code",
   "execution_count": 194,
   "id": "0cd1064a-de42-4752-a127-452205f350fd",
   "metadata": {},
   "outputs": [],
   "source": [
    "fruits = {'apple', 'banana', 'melon'}"
   ]
  },
  {
   "cell_type": "code",
   "execution_count": 196,
   "id": "2017cfe2-4cf4-4c84-94a6-8e15e46fdc67",
   "metadata": {},
   "outputs": [
    {
     "name": "stdout",
     "output_type": "stream",
     "text": [
      "{'banana', 'grape', 'apple', 'melon'}\n",
      "{'banana', 'grape', 'apple', 'melon'}\n"
     ]
    }
   ],
   "source": [
    "# .add(x)  #순서가 없는 집합이라 순서는 뒤죽박죽\n",
    "fruits.add('grape')\n",
    "print(fruits)\n",
    "fruits.add('grape') # 두번 더해줘도 하나만 보임. \n",
    "print(fruits)"
   ]
  },
  {
   "cell_type": "code",
   "execution_count": 205,
   "id": "5459d821-5343-41d4-b52c-85864bc37bb4",
   "metadata": {},
   "outputs": [
    {
     "name": "stdout",
     "output_type": "stream",
     "text": [
      "{'n', 'orange', 'banana', 'r', 'grape', 'apple', 'o', 'a', 'watermelon', 'melon', 'e', 't', 'w', 'l'}\n"
     ]
    }
   ],
   "source": [
    "# .update({set})  # 오른쪽에 있는 시퀀스는 하나하나 잘라서 넣음\n",
    "# fruits.update('watermelon')\n",
    "# print(fruits)\n",
    "\n",
    "#의도한대로 넣으려면\n",
    "fruits.update({'watermelon', 'orange'})\n",
    "print(fruits)"
   ]
  },
  {
   "cell_type": "code",
   "execution_count": 206,
   "id": "4b27b0b3-14e3-47fb-8a4f-3d5be4438a1c",
   "metadata": {},
   "outputs": [
    {
     "name": "stdout",
     "output_type": "stream",
     "text": [
      "{'n', 'banana', 'r', 'grape', 'apple', 'o', 'a', 'watermelon', 'melon', 'e', 't', 'w', 'l'}\n"
     ]
    }
   ],
   "source": [
    "# .remove(x)\n",
    "fruits.remove('orange')\n",
    "print(fruits)"
   ]
  },
  {
   "cell_type": "code",
   "execution_count": 202,
   "id": "8ce084ff-88b7-40d7-8c80-5e8f8a6c3c89",
   "metadata": {},
   "outputs": [
    {
     "name": "stdout",
     "output_type": "stream",
     "text": [
      "{'n', 'banana', 'r', 'grape', 'apple', 'o', 'a', 'watermelon', 'melon', 'e', 't', 'w', 'l'}\n"
     ]
    }
   ],
   "source": [
    "# .pop()\n",
    "fruits.pop()\n",
    "print(fruits)"
   ]
  },
  {
   "cell_type": "markdown",
   "id": "658b1b8e-73ab-4050-915c-d5180ee1b854",
   "metadata": {},
   "source": [
    "## map, filter, zip"
   ]
  },
  {
   "cell_type": "markdown",
   "id": "64883093-9eea-406a-a79e-c42b723e1629",
   "metadata": {},
   "source": [
    "- map(function, iterable)"
   ]
  },
  {
   "cell_type": "code",
   "execution_count": 214,
   "id": "a59bf2e0-5c74-40e1-be55-4fd3aeedc6b9",
   "metadata": {},
   "outputs": [
    {
     "name": "stdout",
     "output_type": "stream",
     "text": [
      "<map object at 0x00000189CEE018A0>\n",
      "['1', '2', '3']\n"
     ]
    }
   ],
   "source": [
    "a = [1, 2, 3]\n",
    "number_str = map(str, a) # 첫번째로는 함수를 집어넣고 그 뒤에 반복가능한 객체를 집어넣음. 그 결과를 변수에 저장한다.\n",
    "print(number_str)  \n",
    "print(list(number_str))"
   ]
  },
  {
   "cell_type": "code",
   "execution_count": 212,
   "id": "c1f261e1-a1c5-4748-b43f-dc83cbfacb56",
   "metadata": {},
   "outputs": [
    {
     "name": "stdout",
     "output_type": "stream",
     "text": [
      "[1, 8, 27]\n"
     ]
    }
   ],
   "source": [
    "result = []\n",
    "for i in a:\n",
    "    result.append(i ** 3)\n",
    "\n",
    "print(result)"
   ]
  },
  {
   "cell_type": "code",
   "execution_count": 211,
   "id": "0e5c5da1-9d4b-437a-a463-44817fdee6c6",
   "metadata": {},
   "outputs": [
    {
     "name": "stdout",
     "output_type": "stream",
     "text": [
      "125\n",
      "1000\n"
     ]
    }
   ],
   "source": [
    "def cube(x):\n",
    "    return x ** 3\n",
    "\n",
    "print(cube(5))\n",
    "print(cube(10))"
   ]
  },
  {
   "cell_type": "code",
   "execution_count": 215,
   "id": "e18dfcf5-9140-44c3-b3bb-d9e6504cd53a",
   "metadata": {},
   "outputs": [
    {
     "name": "stdout",
     "output_type": "stream",
     "text": [
      "[1, 8, 27]\n"
     ]
    }
   ],
   "source": [
    "result2 = map(cube, a)\n",
    "print(list(result2))"
   ]
  },
  {
   "cell_type": "code",
   "execution_count": 217,
   "id": "dbbcbd15-fbff-4e63-9fc8-9b41471b3009",
   "metadata": {},
   "outputs": [
    {
     "name": "stdout",
     "output_type": "stream",
     "text": [
      "[1, 3, 5, 7, 9]\n"
     ]
    }
   ],
   "source": [
    "# 예제\n",
    "a = '1 3 5 7 9'\n",
    "# result = [1, 3, 5, 7, 9]\n",
    "\n",
    "numbers = list(map(int, a.split()))\n",
    "print(numbers)"
   ]
  },
  {
   "cell_type": "markdown",
   "id": "d5fdb73d-0afa-46a3-ac1d-7992faa70f5d",
   "metadata": {},
   "source": [
    "- filter(function, iterable)\n",
    "    - Filter에 들어가는 function은 True, False를 반환해야 합니다"
   ]
  },
  {
   "cell_type": "code",
   "execution_count": 225,
   "id": "b8a41310-33a1-46d7-8e3f-bc3c13809c74",
   "metadata": {},
   "outputs": [
    {
     "name": "stdout",
     "output_type": "stream",
     "text": [
      "True\n"
     ]
    }
   ],
   "source": [
    "def is_odd(x):            #자연수가 홀수인지 짝수인지 판별해 주는 함수(is_odd)\n",
    "    # if x % 2 == 1:\n",
    "    #     return True\n",
    "    # else:\n",
    "    #     return False\n",
    "    return bool(x % 2)\n",
    "    \n",
    "print(is_odd(5))"
   ]
  },
  {
   "cell_type": "code",
   "execution_count": 220,
   "id": "15cbc333-0531-4df4-b4df-3a9263757a70",
   "metadata": {},
   "outputs": [],
   "source": [
    "numbers = [1, 2, 3, 4, 5]"
   ]
  },
  {
   "cell_type": "code",
   "execution_count": 222,
   "id": "173496ae-3509-44df-a94a-d3b98fb2cf1a",
   "metadata": {},
   "outputs": [
    {
     "name": "stdout",
     "output_type": "stream",
     "text": [
      "[1, 3, 5]\n"
     ]
    }
   ],
   "source": [
    "# for\n",
    "result = []\n",
    "for number in numbers:\n",
    "    if is_odd(number):\n",
    "        result.append(number)\n",
    "\n",
    "print(result)"
   ]
  },
  {
   "cell_type": "code",
   "execution_count": 223,
   "id": "cb63438c-011d-439b-b707-e4daa5faf841",
   "metadata": {},
   "outputs": [
    {
     "name": "stdout",
     "output_type": "stream",
     "text": [
      "[1, 3, 5]\n"
     ]
    }
   ],
   "source": [
    "result2 = filter(is_odd, numbers) #레이지한 연산이기 때문에 list형태로 바꿔줘야됌.\n",
    "print(list(result2))"
   ]
  },
  {
   "cell_type": "markdown",
   "id": "108f9b69-7f1e-4254-bec6-873bc0aa89a3",
   "metadata": {},
   "source": [
    "- zip"
   ]
  },
  {
   "cell_type": "code",
   "execution_count": 231,
   "id": "4808cf03-f074-4920-a140-227386f8cc8a",
   "metadata": {},
   "outputs": [],
   "source": [
    "a = [1, 2, 3, 4]\n",
    "b = [100, 200, 300, 400, 500]"
   ]
  },
  {
   "cell_type": "code",
   "execution_count": 232,
   "id": "82ef3aa1-3144-43b3-b990-27d39b3d2b0a",
   "metadata": {},
   "outputs": [
    {
     "name": "stdout",
     "output_type": "stream",
     "text": [
      "<zip object at 0x00000189CF1F5640>\n",
      "[(1, 100), (2, 200), (3, 300), (4, 400)]\n"
     ]
    }
   ],
   "source": [
    "result = zip(a, b) #zip도 레이지한 연산\n",
    "print(result)\n",
    "print(list(result)) # 두개의 리스트를 한 쌍으로 사용해야될 때 단, 갯수가 맞아야됌."
   ]
  },
  {
   "cell_type": "code",
   "execution_count": null,
   "id": "c953190d-03ee-4468-9b06-a7d78bf81fec",
   "metadata": {},
   "outputs": [],
   "source": []
  },
  {
   "cell_type": "code",
   "execution_count": null,
   "id": "30d3e2f9-cffa-428f-85d8-741954394481",
   "metadata": {},
   "outputs": [],
   "source": []
  }
 ],
 "metadata": {
  "kernelspec": {
   "display_name": "Python 3 (ipykernel)",
   "language": "python",
   "name": "python3"
  },
  "language_info": {
   "codemirror_mode": {
    "name": "ipython",
    "version": 3
   },
   "file_extension": ".py",
   "mimetype": "text/x-python",
   "name": "python",
   "nbconvert_exporter": "python",
   "pygments_lexer": "ipython3",
   "version": "3.11.5"
  }
 },
 "nbformat": 4,
 "nbformat_minor": 5
}
